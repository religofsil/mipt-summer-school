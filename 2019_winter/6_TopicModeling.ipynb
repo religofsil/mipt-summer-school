{
 "cells": [
  {
   "cell_type": "code",
   "execution_count": 1,
   "metadata": {
    "collapsed": true
   },
   "outputs": [],
   "source": [
    "import pickle\n",
    "import numpy as np\n",
    "import pandas as pd\n",
    "from sklearn.decomposition import LatentDirichletAllocation, TruncatedSVD, NMF\n",
    "from sklearn.feature_extraction.text import TfidfVectorizer\n",
    "\n",
    "%matplotlib inline\n",
    "import matplotlib.pyplot as plt"
   ]
  },
  {
   "cell_type": "markdown",
   "metadata": {},
   "source": [
    "# Тематическое моделирование\n",
    "Википедия:\n",
    "\n",
    "**Тематическое моделирование** — способ построения модели коллекции текстовых документов, которая определяет, к каким темам относится каждый из документов.\n",
    "\n",
    "**Тематическая модель** (англ. topic model) коллекции текстовых документов определяет, к каким темам относится каждый документ и какие слова (термины) образуют каждую тему."
   ]
  },
  {
   "cell_type": "code",
   "execution_count": 2,
   "metadata": {
    "collapsed": true
   },
   "outputs": [],
   "source": [
    "# show topic descriptors\n",
    "def get_descriptor( terms, H, topic_index, top ):\n",
    "    top_indices = np.argsort( H[topic_index,:] )[::-1]\n",
    "    top_terms = []\n",
    "    for term_index in top_indices[0:top]:\n",
    "        top_terms.append( terms[term_index] )\n",
    "    return top_terms\n",
    "\n",
    "def get_all_descriptors(k, H, terms, top):\n",
    "    for topic_index in range(k):\n",
    "        descriptor = get_descriptor( terms, H, topic_index, top )\n",
    "        str_descriptor = \", \".join( descriptor )\n",
    "        print(\"Topic %02d: %s\" % ( topic_index+1, str_descriptor ) )"
   ]
  },
  {
   "cell_type": "markdown",
   "metadata": {},
   "source": [
    "## Читаем данные."
   ]
  },
  {
   "cell_type": "code",
   "execution_count": 5,
   "metadata": {
    "collapsed": false,
    "scrolled": true
   },
   "outputs": [
    {
     "data": {
      "text/html": [
       "<div>\n",
       "<style scoped>\n",
       "    .dataframe tbody tr th:only-of-type {\n",
       "        vertical-align: middle;\n",
       "    }\n",
       "\n",
       "    .dataframe tbody tr th {\n",
       "        vertical-align: top;\n",
       "    }\n",
       "\n",
       "    .dataframe thead th {\n",
       "        text-align: right;\n",
       "    }\n",
       "</style>\n",
       "<table border=\"1\" class=\"dataframe\">\n",
       "  <thead>\n",
       "    <tr style=\"text-align: right;\">\n",
       "      <th></th>\n",
       "      <th>link</th>\n",
       "      <th>tag</th>\n",
       "      <th>text</th>\n",
       "    </tr>\n",
       "  </thead>\n",
       "  <tbody>\n",
       "    <tr>\n",
       "      <th>0</th>\n",
       "      <td>https://lenta.ru/news/2019/01/04/whelan/</td>\n",
       "      <td>world_politic</td>\n",
       "      <td>американец пол уилан задержать россия подозрен...</td>\n",
       "    </tr>\n",
       "    <tr>\n",
       "      <th>1</th>\n",
       "      <td>https://lenta.ru/articles/2019/01/04/expectati...</td>\n",
       "      <td>world_politic</td>\n",
       "      <td>миллион человек весь мир наступление новый год...</td>\n",
       "    </tr>\n",
       "    <tr>\n",
       "      <th>2</th>\n",
       "      <td>https://lenta.ru/news/2019/01/04/britanets/</td>\n",
       "      <td>world_politic</td>\n",
       "      <td>американец пол уилан который арестовать москва...</td>\n",
       "    </tr>\n",
       "    <tr>\n",
       "      <th>3</th>\n",
       "      <td>https://lenta.ru/news/2019/01/04/trick/</td>\n",
       "      <td>world_politic</td>\n",
       "      <td>вывод американский войско располагаться север ...</td>\n",
       "    </tr>\n",
       "    <tr>\n",
       "      <th>4</th>\n",
       "      <td>https://lenta.ru/news/2019/01/04/normalno_obsc...</td>\n",
       "      <td>world_politic</td>\n",
       "      <td>отношение германия россия ухудшиться 2019 год ...</td>\n",
       "    </tr>\n",
       "  </tbody>\n",
       "</table>\n",
       "</div>"
      ],
      "text/plain": [
       "                                                link            tag  \\\n",
       "0           https://lenta.ru/news/2019/01/04/whelan/  world_politic   \n",
       "1  https://lenta.ru/articles/2019/01/04/expectati...  world_politic   \n",
       "2        https://lenta.ru/news/2019/01/04/britanets/  world_politic   \n",
       "3            https://lenta.ru/news/2019/01/04/trick/  world_politic   \n",
       "4  https://lenta.ru/news/2019/01/04/normalno_obsc...  world_politic   \n",
       "\n",
       "                                                text  \n",
       "0  американец пол уилан задержать россия подозрен...  \n",
       "1  миллион человек весь мир наступление новый год...  \n",
       "2  американец пол уилан который арестовать москва...  \n",
       "3  вывод американский войско располагаться север ...  \n",
       "4  отношение германия россия ухудшиться 2019 год ...  "
      ]
     },
     "execution_count": 5,
     "metadata": {},
     "output_type": "execute_result"
    }
   ],
   "source": [
    "with open('preprocessed.pkl', 'rb') as f:\n",
    "    article_table = pickle.load(f)\n",
    "data = pd.DataFrame(article_table, columns=['link', 'tag', 'text'])\n",
    "data.head()"
   ]
  },
  {
   "cell_type": "code",
   "execution_count": 14,
   "metadata": {
    "collapsed": false
   },
   "outputs": [],
   "source": [
    "vect = TfidfVectorizer()\n",
    "X = vect.fit_transform(data['text'])\n",
    "terms = vect.get_feature_names()"
   ]
  },
  {
   "cell_type": "code",
   "execution_count": 35,
   "metadata": {},
   "outputs": [],
   "source": [
    "k = 10"
   ]
  },
  {
   "cell_type": "markdown",
   "metadata": {},
   "source": [
    "## NMF\n",
    "Non-negative matrix factorization"
   ]
  },
  {
   "cell_type": "code",
   "execution_count": 36,
   "metadata": {},
   "outputs": [],
   "source": [
    "model = NMF( init=\"nndsvd\", n_components=10, random_state=42 ) \n",
    "W = model.fit_transform( X ) # тематическое представление текстов\n",
    "H = model.components_  # темы с вероятностями слов быть по ним"
   ]
  },
  {
   "cell_type": "markdown",
   "metadata": {},
   "source": [
    "Посмотрим дескрипторы."
   ]
  },
  {
   "cell_type": "code",
   "execution_count": 37,
   "metadata": {},
   "outputs": [
    {
     "name": "stdout",
     "output_type": "stream",
     "text": [
      "Topic 01: учёный, который, исследователь, человек, клетка, исследование, год, университет, это, мочь\n",
      "Topic 02: дело, задержать, уголовный, сотрудник, полиция, следственный, мужчина, суд, возбудить, подозревать\n",
      "Topic 03: рубль, доллар, курс, нефть, валюта, баррель, цена, евро, биржа, банк\n",
      "Topic 04: iphone, смартфон, apple, устройство, компания, samsung, новый, экран, galaxy, дисплей\n",
      "Topic 05: сша, россия, президент, трамп, страна, российский, украина, заявить, это, санкция\n",
      "Topic 06: ракета, космический, носитель, спутник, корабль, пуск, союз, роскосмос, запуск, мкс\n",
      "Topic 07: животное, мужчина, город, это, человек, видео, который, ребёнок, женщина, инцидент\n",
      "Topic 08: коллекция, бренд, одежда, год, модель, матч, обувь, дизайнер, команда, модный\n",
      "Topic 09: процент, год, россиянин, рост, доход, миллиард, вырасти, компания, составить, миллион\n",
      "Topic 10: самолёт, истребитель, су, 57, поколение, пассажир, авиакомпания, аэропорт, 35, пятый\n"
     ]
    }
   ],
   "source": [
    "get_all_descriptors(10, H, terms, 10)"
   ]
  },
  {
   "cell_type": "markdown",
   "metadata": {},
   "source": [
    "## Задание 1. \n",
    "1. Попробуйте другое количество тем.\n",
    "2. Посмотрите LDA (Latent Dirichlet Allocation) и LSA - вызываются практически так же."
   ]
  },
  {
   "cell_type": "code",
   "execution_count": null,
   "metadata": {},
   "outputs": [],
   "source": []
  },
  {
   "cell_type": "markdown",
   "metadata": {},
   "source": [
    "## *Задание 2.\n",
    "\n",
    "Сделайте рекомендательную систему, обучив на корпусе тематическую модель, а на тематических представлениях текстов - KNN. Для инпута рекомендуйте 5 ближайших статей."
   ]
  },
  {
   "cell_type": "code",
   "execution_count": null,
   "metadata": {},
   "outputs": [],
   "source": []
  }
 ],
 "metadata": {
  "kernelspec": {
   "display_name": "Python 3",
   "language": "python",
   "name": "python3"
  },
  "language_info": {
   "codemirror_mode": {
    "name": "ipython",
    "version": 3
   },
   "file_extension": ".py",
   "mimetype": "text/x-python",
   "name": "python",
   "nbconvert_exporter": "python",
   "pygments_lexer": "ipython3",
   "version": "3.5.2"
  }
 },
 "nbformat": 4,
 "nbformat_minor": 2
}
