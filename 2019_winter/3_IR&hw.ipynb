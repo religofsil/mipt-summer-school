{
 "cells": [
  {
   "cell_type": "markdown",
   "metadata": {},
   "source": [
    "# Игрушечный пример на TF-IDF"
   ]
  },
  {
   "cell_type": "markdown",
   "metadata": {},
   "source": [
    "#### Text 1\n",
    "The domestic cat is a small, typically furry, carnivorous mammal. They are often called house cats when kept as indoor pets or simply cats when there is no need to distinguish them from other felids and felines. There are more than seventy cat breeds recognized by various cat registries.<br>\n",
    "**Text len**: 49 words\n",
    "\n",
    "#### Text 2\n",
    "Mammals include the largest animal on the planet, the blue whale. The basic body type is a terrestrial quadruped, but some mammals are adapted for life at sea, in the air, in trees, underground or on two legs. The largest group of mammals, the placentals, have a placenta, which enables the feeding of the fetus during gestation. <br>\n",
    "**Text len**: 57 words\n",
    "\n",
    "#### Text 3\n",
    "The largest organisms found on Earth can be determined according to various aspects of an organism's size, such as: mass, volume, area, length, height, or even genome size. Some organisms group together to form a superorganism (such as ants or bees), but such are not classed as single large organisms.<br>\n",
    "**Text len**: 51 words\n",
    "\n",
    "\n",
    "Найдите TF-IDF следующих слов для этих текстов:\n",
    "* cat (+cats) - для первого текста\n",
    "* mammal (+mammals) - для первого и второго текста\n",
    "* Earth - для третьего текста"
   ]
  },
  {
   "cell_type": "code",
   "execution_count": null,
   "metadata": {
    "collapsed": true
   },
   "outputs": [],
   "source": [
    "from math import log"
   ]
  },
  {
   "cell_type": "code",
   "execution_count": null,
   "metadata": {
    "collapsed": true
   },
   "outputs": [],
   "source": [
    "# YOUR CALCULATIONS HERE"
   ]
  },
  {
   "cell_type": "markdown",
   "metadata": {},
   "source": [
    "# Обратный индекс\n",
    "\n",
    "## Задание 1.\n",
    "Напишите функцию (или набор функций), которая считает метрику Okapi BM25 для одного слова в запросе (формулы можно посмотреть в презентации)."
   ]
  },
  {
   "cell_type": "code",
   "execution_count": null,
   "metadata": {
    "collapsed": true
   },
   "outputs": [],
   "source": [
    "from math import log\n",
    "\n",
    "k1 = 2.0\n",
    "b = 0.75\n",
    "\n",
    "def score_BM25(n, qf, N, dl, avdl):\n",
    "    \"\"\"\n",
    "    Computes Okapi BM25 for a particular document and one word in a query.\n",
    "    NB: min IDF 0 (use built-in max function)\n",
    "    :param n: number of docs with a word\n",
    "    :param qf: raw word frequence in doc\n",
    "    :param N: number of docs in a collection\n",
    "    :param dl: doc length (in words)\n",
    "    :param avdl: average doc length in a collection\n",
    "    :return: float: BM25 score\n",
    "    \"\"\"\n",
    "    # YOUR CODE HERE\n",
    "    pass"
   ]
  },
  {
   "cell_type": "markdown",
   "metadata": {},
   "source": [
    "Вот значения, которые получились у меня при следующих параметрах в моем коде:\n",
    "```\n",
    "print(score_BM25(n=15, qf=5, N=100, dl=120, avdl=80))\n",
    "3.30518003616293\n",
    "\n",
    "print(score_BM25(n=40, qf=1, N=100, dl=120, avdl=80))\n",
    "0.3210731127394419\n",
    "```"
   ]
  },
  {
   "cell_type": "markdown",
   "metadata": {},
   "source": [
    "## Задание 2.\n",
    "Напишите функцию, которая по списку токенизированных документов возвращает обратный индекс, то есть словарь, где для каждого слова есть список документов, в которых оно есть. В индексе можно сохранять не только названия документов, но и любые другие данные, которые вам покажется полезным сохранить (вспомните Okapi BM25 и что для ее подсчета нужно)."
   ]
  },
  {
   "cell_type": "code",
   "execution_count": null,
   "metadata": {
    "collapsed": true
   },
   "outputs": [],
   "source": [
    "def inverted_index(docs):\n",
    "    \"\"\"\n",
    "    Compiles inverted index from document collection.\n",
    "    :param docs: dict[list][str]: dict of tokenized documents, where key is document name and value is tokenized text\n",
    "    :return: dict: inverted index\n",
    "    \"\"\"\n",
    "    # YOUR CODE HERE\n",
    "    pass"
   ]
  },
  {
   "cell_type": "markdown",
   "metadata": {},
   "source": [
    "Пример:\n",
    "```\n",
    "docs = {\n",
    "    '1.txt': 'cat dog cat'.split(),\n",
    "    '2.txt': 'dog mouse home'.split(),\n",
    "    '3.txt': 'cat dog mouse mouse home'.split()\n",
    "}\n",
    "\n",
    "inverted_index(docs)\n",
    "```\n",
    "Результат:\n",
    "```\n",
    "{'cat': {'1.txt': 2, '3.txt': 1},\n",
    " 'dog': {'1.txt': 1, '2.txt': 1, '3.txt': 1},\n",
    " 'home': {'2.txt': 1, '3.txt': 1},\n",
    " 'mouse': {'2.txt': 1, '3.txt': 2}}\n",
    "```"
   ]
  },
  {
   "cell_type": "markdown",
   "metadata": {},
   "source": [
    "# Дополнительное задание\n",
    "\n",
    "Напишите функцию, которая для каждой статьи из нашего корпуса `lenta_articles.txt` выделяет ключевые слова и биграммы (полезно - `nltk.bigrams`) на основе TF-IDF."
   ]
  },
  {
   "cell_type": "code",
   "execution_count": null,
   "metadata": {
    "collapsed": true
   },
   "outputs": [],
   "source": [
    "# YOUR CODE HERE"
   ]
  },
  {
   "cell_type": "markdown",
   "metadata": {},
   "source": [
    "# Домашнее задание\n",
    "\n",
    "## Задание 1.\n",
    "\n",
    "Прочитайте корпус, предобработайте каждый документ и сделайте (и сохраните в формате json) обратный индекс. Обратный индекс - словарь, где для каждого слова из корпуса есть список документов, в которых оно есть. Также подумайте, какую информацию по корпусу вам нужно сохранить (вспомните, что нужно для подсчета Okapi BM25) и сохраните ее тоже."
   ]
  },
  {
   "cell_type": "code",
   "execution_count": null,
   "metadata": {
    "collapsed": true
   },
   "outputs": [],
   "source": [
    "# YOUR CODE HERE"
   ]
  },
  {
   "cell_type": "markdown",
   "metadata": {},
   "source": [
    "## Задание 2.\n",
    "\n",
    "Напишите функцию, которая по запросу выдает топ-10 наиболее релевантных документов.\n",
    "* предобработка запроса\n",
    "* поиск слов по обратному индексу\n",
    "* подсчет метрики BM-25\n",
    "* сортировка документов\n",
    "\n",
    "(можно писать вспомогательные функции)"
   ]
  },
  {
   "cell_type": "code",
   "execution_count": null,
   "metadata": {
    "collapsed": true
   },
   "outputs": [],
   "source": [
    "# YOUR CODE HERE"
   ]
  }
 ],
 "metadata": {
  "anaconda-cloud": {},
  "kernelspec": {
   "display_name": "Python 3",
   "language": "python",
   "name": "python3"
  },
  "language_info": {
   "codemirror_mode": {
    "name": "ipython",
    "version": 3
   },
   "file_extension": ".py",
   "mimetype": "text/x-python",
   "name": "python",
   "nbconvert_exporter": "python",
   "pygments_lexer": "ipython3",
   "version": "3.5.3"
  }
 },
 "nbformat": 4,
 "nbformat_minor": 1
}
