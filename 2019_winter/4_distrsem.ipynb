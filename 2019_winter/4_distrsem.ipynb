{
 "cells": [
  {
   "cell_type": "markdown",
   "metadata": {},
   "source": [
    "# word2vec и его модели\n",
    "\n",
    "За материал этого семинара большое спасибо Лизе Кузьменко, выпускнице ФиПЛа ВШЭ."
   ]
  },
  {
   "cell_type": "code",
   "execution_count": 2,
   "metadata": {
    "collapsed": false
   },
   "outputs": [
    {
     "name": "stderr",
     "output_type": "stream",
     "text": [
      "C:\\Users\\PC1\\Anaconda3\\lib\\site-packages\\gensim\\utils.py:1212: UserWarning: detected Windows; aliasing chunkize to chunkize_serial\n",
      "  warnings.warn(\"detected Windows; aliasing chunkize to chunkize_serial\")\n"
     ]
    }
   ],
   "source": [
    "import gensim"
   ]
  },
  {
   "cell_type": "markdown",
   "metadata": {},
   "source": [
    "`gensim` -- это питоновская библиотека для семантического моделирования  "
   ]
  },
  {
   "cell_type": "markdown",
   "metadata": {},
   "source": [
    "## Что можно делать с word2vec?\n",
    "\n",
    "Можно обучать модели на своих данных. Это может пригодиться вам, если модели для вашего языка ещё нет. Или если текст документов очень специфичен (например, юридические докуенты).\n",
    "\n",
    "А можно -- загрузить готовую модель и использовать её."
   ]
  },
  {
   "cell_type": "markdown",
   "metadata": {},
   "source": [
    "## Загрузка модели\n",
    "\n",
    "Скачаем модель [отсюда](http://rusvectores.org/static/models/rusvectores4/RNC/ruscorpora_upos_skipgram_300_5_2018.vec.gz). Или с флешки.\n",
    "\n",
    "(Кстати, другие модели для русского скачать можно здесь - http://rusvectores.org/ru/models/).\n",
    "\n",
    "Модели бывают разных форматов и, в зависимости от этого, их надо по-разному считывыать. Для моделей в формате `vec.gz` работает загрузчик `gensim.models.KeyedVectors.load_word2vec_format`."
   ]
  },
  {
   "cell_type": "code",
   "execution_count": 3,
   "metadata": {
    "collapsed": true
   },
   "outputs": [],
   "source": [
    "m_path = 'ruscorpora_upos_skipgram_300_5_2018.vec.gz'\n",
    "model = gensim.models.KeyedVectors.load_word2vec_format(m_path, binary=False)"
   ]
  },
  {
   "cell_type": "code",
   "execution_count": 4,
   "metadata": {
    "collapsed": true
   },
   "outputs": [],
   "source": [
    "# делаем нормализацию\n",
    "model.init_sims(replace=True)"
   ]
  },
  {
   "cell_type": "markdown",
   "metadata": {},
   "source": [
    "Посмотрим, сколько в модели слов:"
   ]
  },
  {
   "cell_type": "code",
   "execution_count": 5,
   "metadata": {
    "collapsed": false
   },
   "outputs": [
    {
     "data": {
      "text/plain": [
       "195071"
      ]
     },
     "execution_count": 5,
     "metadata": {},
     "output_type": "execute_result"
    }
   ],
   "source": [
    "len(model.vocab)"
   ]
  },
  {
   "cell_type": "markdown",
   "metadata": {},
   "source": [
    "Вектор слова:"
   ]
  },
  {
   "cell_type": "code",
   "execution_count": 21,
   "metadata": {
    "collapsed": false
   },
   "outputs": [
    {
     "data": {
      "text/plain": [
       "array([ 6.27000211e-03,  3.50880101e-02, -1.11851037e-01, -1.12070041e-02,\n",
       "        6.10290207e-02,  4.56260145e-02,  5.96850216e-02,  1.24352045e-01,\n",
       "       -9.28830281e-02, -4.26970161e-02,  3.99290137e-02, -5.47970198e-02,\n",
       "       -3.08890119e-02, -5.22300191e-02, -9.01000295e-03, -1.10557035e-01,\n",
       "       -8.80000298e-04,  1.66533053e-01, -6.02490231e-02,  3.16100121e-02,\n",
       "        1.16757043e-01,  5.22000194e-02, -5.12400176e-03,  6.02580234e-02,\n",
       "        1.27002046e-01, -5.52400202e-02, -5.45890182e-02,  2.67200097e-02,\n",
       "       -6.91760257e-02, -1.10936038e-01,  2.63090096e-02,  6.63740188e-02,\n",
       "        9.19900369e-03, -3.60000134e-03, -1.21979043e-01,  5.26030175e-02,\n",
       "       -3.28180119e-02,  7.72400293e-03, -5.85690215e-02, -2.34080069e-02,\n",
       "        8.71290267e-02,  2.91450117e-02,  3.12420111e-02, -4.83760200e-02,\n",
       "       -3.10260113e-02,  2.77430099e-02, -8.83200299e-03,  7.07990229e-02,\n",
       "        6.97970241e-02, -5.11870198e-02,  1.01725034e-01,  5.55950180e-02,\n",
       "        2.70580091e-02,  9.24900360e-03, -4.51110154e-02, -5.39590195e-02,\n",
       "        2.84710098e-02, -5.52170202e-02,  3.27220112e-02,  2.68030092e-02,\n",
       "       -1.50340060e-02, -4.01600124e-03, -4.96910177e-02,  5.91390207e-02,\n",
       "        5.91300242e-03, -5.10790199e-02,  2.98470110e-02, -9.57740396e-02,\n",
       "        5.49500203e-03,  5.13660200e-02, -1.70264065e-01,  6.23920225e-02,\n",
       "       -4.43720147e-02,  6.95000216e-03, -6.33590221e-02,  3.11090108e-02,\n",
       "        4.42030132e-02,  8.92450288e-02,  1.41110048e-02, -2.38540098e-02,\n",
       "        3.28080095e-02,  9.19290334e-02, -1.19515046e-01,  2.80620102e-02,\n",
       "       -8.75170305e-02,  4.47840132e-02, -5.10530174e-02, -1.53370053e-02,\n",
       "        2.38500088e-02,  1.05964035e-01,  1.65350065e-02,  8.50930288e-02,\n",
       "        8.68100300e-02, -9.57870409e-02, -4.46730144e-02, -5.51690198e-02,\n",
       "       -3.79150137e-02,  5.12340181e-02,  4.06850167e-02, -3.47070098e-02,\n",
       "        3.61120105e-02, -5.41880168e-02,  9.23050269e-02,  8.74590278e-02,\n",
       "        9.10520330e-02,  3.01210117e-02, -1.84700079e-02, -4.13600123e-03,\n",
       "        7.08420202e-02, -2.65800096e-02,  4.05900143e-02,  8.46240297e-02,\n",
       "       -1.94110069e-02,  2.98200105e-03,  3.29340100e-02, -5.12620173e-02,\n",
       "        6.55850247e-02, -5.33780195e-02, -3.30390111e-02, -8.69480297e-02,\n",
       "        1.57920048e-02,  8.29530284e-02, -1.33981049e-01,  4.98300185e-03,\n",
       "       -1.86660066e-02, -3.75050157e-02, -1.21520050e-02, -5.31070195e-02,\n",
       "       -8.08200240e-03,  1.61030050e-02,  3.55000113e-04, -4.56600152e-02,\n",
       "        2.66870093e-02, -2.80860085e-02,  6.89540207e-02,  6.05500210e-03,\n",
       "        1.30500048e-02, -1.35313049e-01,  7.92050287e-02, -4.36180159e-02,\n",
       "       -1.44090056e-02, -1.30150048e-02,  6.24330230e-02, -3.17260101e-02,\n",
       "       -3.89140137e-02, -1.13950036e-02,  9.51790363e-02, -1.09337039e-01,\n",
       "        1.28610050e-02,  1.06330039e-02,  7.65110329e-02, -9.53490362e-02,\n",
       "        2.13740077e-02, -7.57550299e-02, -4.57650162e-02, -6.13690205e-02,\n",
       "        1.07608035e-01,  2.22750083e-02,  7.08000213e-02, -1.13780033e-02,\n",
       "       -6.13600248e-03, -6.63220212e-02,  6.56690225e-02,  3.40770110e-02,\n",
       "       -3.77500132e-02, -7.61910304e-02,  3.01370118e-02,  3.57700102e-02,\n",
       "       -3.93620133e-02,  5.87980226e-02,  1.51400054e-02, -1.28300046e-03,\n",
       "        4.36990149e-02, -1.33850044e-02, -1.27271041e-01, -5.48000156e-04,\n",
       "        1.08583041e-01, -9.73840356e-02,  9.99000371e-02, -1.77420061e-02,\n",
       "        3.31430100e-02, -8.43890309e-02, -6.75310194e-02,  1.21240042e-01,\n",
       "        6.86800256e-02,  8.18900298e-03,  6.95060194e-02, -7.98700284e-03,\n",
       "       -1.58810057e-02,  6.83360249e-02, -2.81230099e-02,  3.27620097e-02,\n",
       "        7.99960271e-02,  3.47960107e-02,  6.17940240e-02, -7.49580264e-02,\n",
       "        2.91200099e-03, -8.89860317e-02,  1.70740057e-02,  4.34000132e-04,\n",
       "       -1.53330052e-02,  2.00650077e-02,  1.04282036e-01, -5.74480221e-02,\n",
       "        4.77120169e-02, -7.15100244e-02, -2.36900104e-03, -3.05900108e-02,\n",
       "        7.54000293e-03,  7.96000299e-04,  1.77430063e-02, -7.09590241e-02,\n",
       "        3.34960110e-02,  9.10090283e-02, -1.00000040e-03,  1.52010052e-02,\n",
       "       -2.04310082e-02,  2.61930097e-02, -5.88190220e-02,  8.79100244e-03,\n",
       "       -5.73200211e-02, -1.43290060e-02, -5.70580177e-02,  1.20644048e-01,\n",
       "       -1.06090037e-02, -2.82030087e-02,  3.41590121e-02,  4.96780202e-02,\n",
       "       -8.46810266e-02, -1.50480056e-02, -6.25960231e-02,  6.62820190e-02,\n",
       "        6.33220226e-02,  4.85700183e-02, -7.25040212e-02, -4.47900128e-03,\n",
       "        5.71100190e-02, -1.98810082e-02, -1.66110061e-02,  4.43600155e-02,\n",
       "        5.61640188e-02, -1.85890067e-02, -5.56350201e-02,  4.25160155e-02,\n",
       "        1.12630036e-02, -8.73600319e-03,  7.04660192e-02, -5.70660196e-02,\n",
       "       -1.90570075e-02, -4.25860137e-02,  4.48860154e-02,  5.40980175e-02,\n",
       "       -1.25380047e-02,  1.01400039e-03, -9.50530395e-02,  5.27360179e-02,\n",
       "       -7.98330307e-02, -9.59140360e-02,  6.71510249e-02, -6.38140216e-02,\n",
       "       -6.12700218e-03, -8.51950273e-02, -6.39300197e-02,  4.47160155e-02,\n",
       "        3.07820104e-02,  1.00570042e-02, -9.30360332e-02,  5.85200228e-02,\n",
       "        2.40650084e-02,  3.44340093e-02, -4.21700142e-02, -4.96400185e-02,\n",
       "       -1.61390062e-02, -1.47130052e-02,  2.20000074e-05, -8.76450315e-02,\n",
       "       -2.67790090e-02, -1.96400080e-02,  2.70200102e-03,  2.08370071e-02,\n",
       "       -4.47620153e-02,  2.87750103e-02,  2.08450072e-02, -5.83240241e-02,\n",
       "       -7.69970268e-02, -2.09740084e-02, -7.06220195e-02,  5.99720217e-02,\n",
       "        4.65530157e-02, -5.75560220e-02, -4.13350165e-02, -3.32000107e-03,\n",
       "       -1.73600053e-03, -7.26720244e-02, -2.69500096e-03, -6.20640218e-02,\n",
       "        1.04370033e-02, -8.12280327e-02,  8.47530290e-02,  5.22200204e-03],\n",
       "      dtype=float32)"
      ]
     },
     "execution_count": 21,
     "metadata": {},
     "output_type": "execute_result"
    }
   ],
   "source": [
    "model['дурной_ADJ']"
   ]
  },
  {
   "cell_type": "markdown",
   "metadata": {},
   "source": [
    "Попросим у модели 5 ближайших соседей для нашего слова и коэффициент косинусной близости для каждого:"
   ]
  },
  {
   "cell_type": "code",
   "execution_count": 17,
   "metadata": {
    "collapsed": false
   },
   "outputs": [
    {
     "name": "stderr",
     "output_type": "stream",
     "text": [
      "C:\\Users\\PC1\\Anaconda3\\lib\\site-packages\\gensim\\matutils.py:737: FutureWarning: Conversion of the second argument of issubdtype from `int` to `np.signedinteger` is deprecated. In future, it will be treated as `np.int32 == np.dtype(int).type`.\n",
      "  if np.issubdtype(vec.dtype, np.int):\n"
     ]
    },
    {
     "data": {
      "text/plain": [
       "[('скверный_ADJ', 0.6934758424758911),\n",
       " ('плохой_ADJ', 0.6766693592071533),\n",
       " ('нехороший_ADJ', 0.6479557752609253),\n",
       " ('дурный_ADJ', 0.6105265021324158),\n",
       " ('хороший_ADJ', 0.5880287885665894)]"
      ]
     },
     "execution_count": 17,
     "metadata": {},
     "output_type": "execute_result"
    }
   ],
   "source": [
    "model.most_similar(positive=['дурной_ADJ'], topn=5)"
   ]
  },
  {
   "cell_type": "markdown",
   "metadata": {},
   "source": [
    "Частеречные тэги нужны, поскольку это специфика скачанной модели - она была натренирована на словах, аннотированных их частями речи (и лемматизированных).\n",
    "\n",
    "Проверим, есть ли слово в модели:"
   ]
  },
  {
   "cell_type": "code",
   "execution_count": 10,
   "metadata": {
    "collapsed": false
   },
   "outputs": [
    {
     "name": "stdout",
     "output_type": "stream",
     "text": [
      "False\n",
      "True\n"
     ]
    }
   ],
   "source": [
    "word1 = 'захардкодить_NOUN'\n",
    "word2 = 'пирожок_NOUN'\n",
    "print(word1 in model)\n",
    "print(word2 in model)"
   ]
  },
  {
   "cell_type": "markdown",
   "metadata": {},
   "source": [
    "Решить пропорцию!"
   ]
  },
  {
   "cell_type": "code",
   "execution_count": 11,
   "metadata": {
    "collapsed": false
   },
   "outputs": [
    {
     "name": "stdout",
     "output_type": "stream",
     "text": [
      "чипсы_NOUN\n"
     ]
    },
    {
     "name": "stderr",
     "output_type": "stream",
     "text": [
      "C:\\Users\\PC1\\Anaconda3\\lib\\site-packages\\gensim\\matutils.py:737: FutureWarning: Conversion of the second argument of issubdtype from `int` to `np.signedinteger` is deprecated. In future, it will be treated as `np.int32 == np.dtype(int).type`.\n",
      "  if np.issubdtype(vec.dtype, np.int):\n"
     ]
    }
   ],
   "source": [
    "print(model.most_similar(positive=['пицца_NOUN', 'россия_NOUN'], negative=['италия_NOUN'])[0][0])"
   ]
  },
  {
   "cell_type": "markdown",
   "metadata": {},
   "source": [
    "Найти лишнее!"
   ]
  },
  {
   "cell_type": "code",
   "execution_count": 12,
   "metadata": {
    "collapsed": false
   },
   "outputs": [
    {
     "name": "stdout",
     "output_type": "stream",
     "text": [
      "картофель_NOUN\n"
     ]
    },
    {
     "name": "stderr",
     "output_type": "stream",
     "text": [
      "C:\\Users\\PC1\\Anaconda3\\lib\\site-packages\\gensim\\matutils.py:737: FutureWarning: Conversion of the second argument of issubdtype from `int` to `np.signedinteger` is deprecated. In future, it will be treated as `np.int32 == np.dtype(int).type`.\n",
      "  if np.issubdtype(vec.dtype, np.int):\n"
     ]
    }
   ],
   "source": [
    "print(model.doesnt_match('яблоко_NOUN груша_NOUN виноград_NOUN банан_NOUN лимон_NOUN картофель_NOUN'.split()))"
   ]
  },
  {
   "cell_type": "markdown",
   "metadata": {},
   "source": [
    "## Задание 1\n",
    "Напишите функцию, которая печатает 7 ближайших слов для поданного прилагательного, если оно есть в модели. А если нет -- печатает сообщение \"в модели нет этого слова :(\"\n",
    "\n",
    "Пример:"
   ]
  },
  {
   "cell_type": "code",
   "execution_count": 46,
   "metadata": {
    "collapsed": false
   },
   "outputs": [
    {
     "name": "stdout",
     "output_type": "stream",
     "text": [
      "красивый_PROPN\n",
      "нарядный_ADJ\n",
      "фотогеничный_ADJ\n",
      "некрасивый_ADJ\n",
      "недурненький_ADJ\n",
      "изящный_ADJ\n",
      "изящен_ADJ\n"
     ]
    },
    {
     "name": "stderr",
     "output_type": "stream",
     "text": [
      "/home/maryszmary/anaconda3/lib/python3.6/site-packages/gensim/matutils.py:737: FutureWarning: Conversion of the second argument of issubdtype from `int` to `np.signedinteger` is deprecated. In future, it will be treated as `np.int32 == np.dtype(int).type`.\n",
      "  if np.issubdtype(vec.dtype, np.int):\n"
     ]
    }
   ],
   "source": [
    "find_seven_similar('красивый_ADJ')"
   ]
  },
  {
   "cell_type": "code",
   "execution_count": 47,
   "metadata": {
    "collapsed": false
   },
   "outputs": [
    {
     "name": "stdout",
     "output_type": "stream",
     "text": [
      "в модели нет этого слова :(\n"
     ]
    }
   ],
   "source": [
    "find_seven_similar('улётный_ADJ')"
   ]
  },
  {
   "cell_type": "code",
   "execution_count": null,
   "metadata": {
    "collapsed": true
   },
   "outputs": [],
   "source": [
    "# ваш код здесь"
   ]
  },
  {
   "cell_type": "markdown",
   "metadata": {},
   "source": [
    "## *Задание 2\n",
    "\n",
    "Напишите функцию, которая принимает на вход слово любой части речи и выдаёт семь самых близких."
   ]
  },
  {
   "cell_type": "code",
   "execution_count": null,
   "metadata": {
    "collapsed": true
   },
   "outputs": [],
   "source": []
  },
  {
   "cell_type": "markdown",
   "metadata": {},
   "source": [
    "# Домашнее задание\n",
    "\n",
    "## Задание 1\n",
    "Напишите функцию, которая по списку слов выдает общий вектор этого списка - вектор документа / предложения."
   ]
  },
  {
   "cell_type": "code",
   "execution_count": null,
   "metadata": {
    "collapsed": true
   },
   "outputs": [],
   "source": []
  },
  {
   "cell_type": "markdown",
   "metadata": {},
   "source": [
    "## Задание 2\n",
    "Скачайте [другую модель](http://rusvectores.org/static/models/rusvectores4/fasttext/araneum_none_fasttextcbow_300_5_2018.tgz), распакуйте, считайте ее и посмотрите:\n",
    "\n",
    "* Какие близкие слова предлагает она\n",
    "* Как она обходится с незнакомыми словами"
   ]
  },
  {
   "cell_type": "code",
   "execution_count": null,
   "metadata": {
    "collapsed": true
   },
   "outputs": [],
   "source": [
    "from gensim.models import Word2Vec\n",
    "w2v_model = Word2Vec.load('model/araneum_none_fasttextcbow_300_5_2018.model') # занимает RAM и некоторое время"
   ]
  },
  {
   "cell_type": "code",
   "execution_count": null,
   "metadata": {
    "collapsed": true
   },
   "outputs": [],
   "source": []
  },
  {
   "cell_type": "markdown",
   "metadata": {},
   "source": [
    "## *Задание 3\n",
    "Напишите функцию, которая получает на вход предложение и заменяет часть слов на близкие по значению."
   ]
  },
  {
   "cell_type": "code",
   "execution_count": null,
   "metadata": {
    "collapsed": true
   },
   "outputs": [],
   "source": []
  }
 ],
 "metadata": {
  "kernelspec": {
   "display_name": "Python 3",
   "language": "python",
   "name": "python3"
  },
  "language_info": {
   "codemirror_mode": {
    "name": "ipython",
    "version": 3
   },
   "file_extension": ".py",
   "mimetype": "text/x-python",
   "name": "python",
   "nbconvert_exporter": "python",
   "pygments_lexer": "ipython3",
   "version": "3.5.3"
  }
 },
 "nbformat": 4,
 "nbformat_minor": 2
}
