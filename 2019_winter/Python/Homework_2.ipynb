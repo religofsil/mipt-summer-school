{
 "cells": [
  {
   "cell_type": "markdown",
   "metadata": {},
   "source": [
    "# Homework 2\n",
    "\n",
    "**Задание до послезавтра** (сдавать в виде ссылки на репозиторий на гитхабе, либо в виде архива):\n",
    "\n",
    "- после пары по комплингу, где расскажут, что такое обратный индекс, постройте обратный индекс (работающий поиск) для набора документов\n",
    "- постройте обратный индекс для своего набора документов\n",
    "- (\\*) после пары по парсингу веб-страниц, выкачайте статьи из какого-нибудь интернет журнала и постройте обратный индекс для него\n",
    "\n",
    "\n",
    "\n",
    "**Задание до завтра** (сдавать в виде скрина):\n",
    "- http://pythontutor.ru/lessons/lists/problems/swap_min_and_max (в качестве выхода в данной задаче следует дать не сам список, а строку из его элементов - используйте функцию .join())\n",
    "- http://pythontutor.ru/lessons/dicts/problems/countries_and_cities/\n",
    "- http://pythontutor.ru/lessons/str/problems/delete_char/\n",
    "\n",
    "А также:"
   ]
  },
  {
   "cell_type": "code",
   "execution_count": null,
   "metadata": {},
   "outputs": [],
   "source": [
    "with open('sherlock.txt') as f:\n",
    "    text = f.read()"
   ]
  },
  {
   "cell_type": "markdown",
   "metadata": {},
   "source": [
    "0. скачайте и считайте файл `sherlock.txt` \n",
    "1. разбейте текст на список слов\n",
    "2. подсчитайте количество слов в тексте (на самом деле это не совсем слова, ведь внутри могут встречаться знаки пунктуации)\n",
    "3. создайте список, содержащий длины каждого слова в тексте, вычислите среднюю длину слова\n",
    "     * для самых умных, создайте этот список используя `map`\n",
    "4. Оцените количество предложений в тексте: наивный способ это сделать -- подсчитать в скольки словах встречается `.`"
   ]
  }
 ],
 "metadata": {
  "kernelspec": {
   "display_name": "Python 3",
   "language": "python",
   "name": "python3"
  },
  "language_info": {
   "codemirror_mode": {
    "name": "ipython",
    "version": 3
   },
   "file_extension": ".py",
   "mimetype": "text/x-python",
   "name": "python",
   "nbconvert_exporter": "python",
   "pygments_lexer": "ipython3",
   "version": "3.6.6"
  }
 },
 "nbformat": 4,
 "nbformat_minor": 2
}
