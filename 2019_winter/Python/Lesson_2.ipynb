{
 "cells": [
  {
   "cell_type": "markdown",
   "metadata": {},
   "source": [
    "## Списки"
   ]
  },
  {
   "cell_type": "markdown",
   "metadata": {},
   "source": [
    "Ещё один тип данных, которые вчера уже попадались - списки."
   ]
  },
  {
   "cell_type": "code",
   "execution_count": 1,
   "metadata": {},
   "outputs": [
    {
     "data": {
      "text/plain": [
       "[1, 2, 11, 12, 3, 4, 13, 14]"
      ]
     },
     "execution_count": 1,
     "metadata": {},
     "output_type": "execute_result"
    }
   ],
   "source": [
    "l = [1, 2, 11, 12, 3, 4, 13, 14]\n",
    "l"
   ]
  },
  {
   "cell_type": "markdown",
   "metadata": {},
   "source": [
    "Работа со списками частично похожа на работу со строками.\n",
    "\n",
    "- нумерация элементов тоже начинается с 0"
   ]
  },
  {
   "cell_type": "code",
   "execution_count": 2,
   "metadata": {},
   "outputs": [
    {
     "data": {
      "text/plain": [
       "1"
      ]
     },
     "execution_count": 2,
     "metadata": {},
     "output_type": "execute_result"
    }
   ],
   "source": [
    "l[0]"
   ]
  },
  {
   "cell_type": "markdown",
   "metadata": {},
   "source": [
    "- длина узнаётся так же"
   ]
  },
  {
   "cell_type": "code",
   "execution_count": 3,
   "metadata": {},
   "outputs": [
    {
     "data": {
      "text/plain": [
       "8"
      ]
     },
     "execution_count": 3,
     "metadata": {},
     "output_type": "execute_result"
    }
   ],
   "source": [
    "len(l)"
   ]
  },
  {
   "cell_type": "markdown",
   "metadata": {},
   "source": [
    "- тоже можно доставать конкретные куски списка через индексацию: будут выданы в виде списка"
   ]
  },
  {
   "cell_type": "code",
   "execution_count": 4,
   "metadata": {},
   "outputs": [
    {
     "data": {
      "text/plain": [
       "[11, 12]"
      ]
     },
     "execution_count": 4,
     "metadata": {},
     "output_type": "execute_result"
    }
   ],
   "source": [
    "l[2:4]"
   ]
  },
  {
   "cell_type": "markdown",
   "metadata": {},
   "source": [
    "- так же можно менять шаг "
   ]
  },
  {
   "cell_type": "code",
   "execution_count": 5,
   "metadata": {},
   "outputs": [
    {
     "data": {
      "text/plain": [
       "[1, 11, 3, 13]"
      ]
     },
     "execution_count": 5,
     "metadata": {},
     "output_type": "execute_result"
    }
   ],
   "source": [
    "l[::2]"
   ]
  },
  {
   "cell_type": "markdown",
   "metadata": {},
   "source": [
    "- и обращаться с конца"
   ]
  },
  {
   "cell_type": "code",
   "execution_count": 6,
   "metadata": {},
   "outputs": [
    {
     "data": {
      "text/plain": [
       "13"
      ]
     },
     "execution_count": 6,
     "metadata": {},
     "output_type": "execute_result"
    }
   ],
   "source": [
    "l[-2]"
   ]
  },
  {
   "cell_type": "code",
   "execution_count": 7,
   "metadata": {},
   "outputs": [
    {
     "data": {
      "text/plain": [
       "[4, 3, 12, 11]"
      ]
     },
     "execution_count": 7,
     "metadata": {},
     "output_type": "execute_result"
    }
   ],
   "source": [
    "l[5:1:-1]"
   ]
  },
  {
   "cell_type": "code",
   "execution_count": 8,
   "metadata": {},
   "outputs": [
    {
     "data": {
      "text/plain": [
       "[4, 3, 12, 11]"
      ]
     },
     "execution_count": 8,
     "metadata": {},
     "output_type": "execute_result"
    }
   ],
   "source": [
    "l[5:1:-1]"
   ]
  },
  {
   "cell_type": "markdown",
   "metadata": {},
   "source": [
    "В отличие от строк\n",
    "\n",
    "- элементы списка можно изменять"
   ]
  },
  {
   "cell_type": "code",
   "execution_count": 9,
   "metadata": {},
   "outputs": [
    {
     "data": {
      "text/plain": [
       "[100500, 2, 11, 12, 3, 4, 13, 14]"
      ]
     },
     "execution_count": 9,
     "metadata": {},
     "output_type": "execute_result"
    }
   ],
   "source": [
    "l[0] = 100500\n",
    "l"
   ]
  },
  {
   "cell_type": "code",
   "execution_count": 10,
   "metadata": {},
   "outputs": [
    {
     "data": {
      "text/plain": [
       "[100500, 0, 0, 12, 3, 4, 13, 14]"
      ]
     },
     "execution_count": 10,
     "metadata": {},
     "output_type": "execute_result"
    }
   ],
   "source": [
    "l[1:3] = [0, 0]\n",
    "l"
   ]
  },
  {
   "cell_type": "code",
   "execution_count": 11,
   "metadata": {},
   "outputs": [
    {
     "data": {
      "text/plain": [
       "[100500, 0, 2, 12, 85, 0, 6, None, 'not a number', 12, 3, 4, 13, 14]"
      ]
     },
     "execution_count": 11,
     "metadata": {},
     "output_type": "execute_result"
    }
   ],
   "source": [
    "l[2:3] = [2, 12, 85, 0, 6, None, 'not a number']\n",
    "l"
   ]
  },
  {
   "cell_type": "code",
   "execution_count": 12,
   "metadata": {},
   "outputs": [
    {
     "data": {
      "text/plain": [
       "[1]"
      ]
     },
     "execution_count": 12,
     "metadata": {},
     "output_type": "execute_result"
    }
   ],
   "source": [
    "l[:] = [1]\n",
    "l"
   ]
  },
  {
   "cell_type": "code",
   "execution_count": 13,
   "metadata": {},
   "outputs": [
    {
     "data": {
      "text/plain": [
       "[[1, 2], [8, 9]]"
      ]
     },
     "execution_count": 13,
     "metadata": {},
     "output_type": "execute_result"
    }
   ],
   "source": [
    "l[:] = [[1, 2], [8, 9]]\n",
    "l"
   ]
  },
  {
   "cell_type": "markdown",
   "metadata": {},
   "source": [
    "- новые элементы присоединяются через функцию .append"
   ]
  },
  {
   "cell_type": "code",
   "execution_count": 14,
   "metadata": {},
   "outputs": [
    {
     "data": {
      "text/plain": [
       "[[1, 2], [8, 9], '1337']"
      ]
     },
     "execution_count": 14,
     "metadata": {},
     "output_type": "execute_result"
    }
   ],
   "source": [
    "l.append('1337')\n",
    "l"
   ]
  },
  {
   "cell_type": "code",
   "execution_count": 15,
   "metadata": {},
   "outputs": [
    {
     "ename": "TypeError",
     "evalue": "can only concatenate list (not \"str\") to list",
     "output_type": "error",
     "traceback": [
      "\u001b[0;31m---------------------------------------------------------------------------\u001b[0m",
      "\u001b[0;31mTypeError\u001b[0m                                 Traceback (most recent call last)",
      "\u001b[0;32m<ipython-input-15-7ce76b854b63>\u001b[0m in \u001b[0;36m<module>\u001b[0;34m()\u001b[0m\n\u001b[0;32m----> 1\u001b[0;31m \u001b[0ml\u001b[0m \u001b[0;34m+\u001b[0m \u001b[0;34m'1337'\u001b[0m\u001b[0;34m\u001b[0m\u001b[0m\n\u001b[0m",
      "\u001b[0;31mTypeError\u001b[0m: can only concatenate list (not \"str\") to list"
     ]
    }
   ],
   "source": [
    "l + '1337'"
   ]
  },
  {
   "cell_type": "markdown",
   "metadata": {},
   "source": [
    "- с помощью `+` нельзя присоединить просто отдельный элемент, но можно присоединить другой список"
   ]
  },
  {
   "cell_type": "code",
   "execution_count": 16,
   "metadata": {},
   "outputs": [
    {
     "data": {
      "text/plain": [
       "[[1, 2], [8, 9], '1337', 4, 5]"
      ]
     },
     "execution_count": 16,
     "metadata": {},
     "output_type": "execute_result"
    }
   ],
   "source": [
    "l + [4, 5]"
   ]
  },
  {
   "cell_type": "markdown",
   "metadata": {},
   "source": [
    "....и даже список, включающий в себя списки"
   ]
  },
  {
   "cell_type": "code",
   "execution_count": 17,
   "metadata": {},
   "outputs": [
    {
     "data": {
      "text/plain": [
       "[[1, 2], [8, 9], '1337', 5, [1, 2], [3, 4], [5, 6]]"
      ]
     },
     "execution_count": 17,
     "metadata": {},
     "output_type": "execute_result"
    }
   ],
   "source": [
    "l + [5, [1, 2], [3, 4], [5, 6]]"
   ]
  },
  {
   "cell_type": "markdown",
   "metadata": {},
   "source": []
  },
  {
   "cell_type": "code",
   "execution_count": 18,
   "metadata": {},
   "outputs": [
    {
     "data": {
      "text/plain": [
       "[0, 20, 40, 60, 80]"
      ]
     },
     "execution_count": 18,
     "metadata": {},
     "output_type": "execute_result"
    }
   ],
   "source": [
    "list(range(0, 100, 20))"
   ]
  },
  {
   "cell_type": "markdown",
   "metadata": {},
   "source": [
    "- http://pythontutor.ru/lessons/lists/problems/increasing_neighbours/\n",
    "\n",
    "Здесь вам будет нужна функция split(), которая сделает из строки с числами список"
   ]
  },
  {
   "cell_type": "code",
   "execution_count": 20,
   "metadata": {},
   "outputs": [
    {
     "data": {
      "text/plain": [
       "['1', '2', '3', '4', '5', '1']"
      ]
     },
     "execution_count": 20,
     "metadata": {},
     "output_type": "execute_result"
    }
   ],
   "source": [
    "inp = '1 2 3 4 5 1'\n",
    "inp = inp.split()\n",
    "inp"
   ]
  },
  {
   "cell_type": "code",
   "execution_count": 21,
   "metadata": {},
   "outputs": [
    {
     "data": {
      "text/plain": [
       "'24'"
      ]
     },
     "execution_count": 21,
     "metadata": {},
     "output_type": "execute_result"
    }
   ],
   "source": [
    "inp[1] + inp[3]"
   ]
  },
  {
   "cell_type": "code",
   "execution_count": 22,
   "metadata": {},
   "outputs": [
    {
     "data": {
      "text/plain": [
       "6"
      ]
     },
     "execution_count": 22,
     "metadata": {},
     "output_type": "execute_result"
    }
   ],
   "source": [
    "inp = [int(s) for s in inp] # превратить список строчных чисел в список чисел\n",
    "inp[1] + inp[3]"
   ]
  },
  {
   "cell_type": "markdown",
   "metadata": {},
   "source": [
    "- http://pythontutor.ru/lessons/lists/problems/same_sign_neighbours/\n",
    "\n",
    "Здесь нужна функция break, останавливающая цикл, если выполняется какое-то условие"
   ]
  },
  {
   "cell_type": "code",
   "execution_count": 23,
   "metadata": {},
   "outputs": [
    {
     "name": "stdout",
     "output_type": "stream",
     "text": [
      "1\n",
      "2\n",
      "3\n",
      "4\n",
      "5\n"
     ]
    }
   ],
   "source": [
    "for x in range(1, 10):\n",
    "    print(x)\n",
    "    if x % 5 == 0:\n",
    "        break"
   ]
  },
  {
   "cell_type": "markdown",
   "metadata": {},
   "source": [
    "- http://pythontutor.ru/lessons/lists/problems/maximal_element/ \n",
    "\n",
    "Функция index() возвращает индекс элемента, если он есть в списке. В случае, если элементов несколько, выдаётся индекс первого из них."
   ]
  },
  {
   "cell_type": "markdown",
   "metadata": {},
   "source": [
    "### Генерация списков"
   ]
  },
  {
   "cell_type": "code",
   "execution_count": 24,
   "metadata": {},
   "outputs": [
    {
     "data": {
      "text/plain": [
       "[0, 2, 4, 6, 8, 10, 12, 14, 16, 18, 20]"
      ]
     },
     "execution_count": 24,
     "metadata": {},
     "output_type": "execute_result"
    }
   ],
   "source": [
    "even_numbers1 = []\n",
    "for x in range(0, 21, 2):\n",
    "    even_numbers1.append(x)\n",
    "even_numbers1"
   ]
  },
  {
   "cell_type": "code",
   "execution_count": null,
   "metadata": {},
   "outputs": [],
   "source": [
    "list(range())"
   ]
  },
  {
   "cell_type": "code",
   "execution_count": 25,
   "metadata": {},
   "outputs": [
    {
     "data": {
      "text/plain": [
       "[0, 2, 4, 6, 8, 10, 12, 14, 16, 18, 20]"
      ]
     },
     "execution_count": 25,
     "metadata": {},
     "output_type": "execute_result"
    }
   ],
   "source": [
    "even_numbers2 = [x for x in range(0, 21, 2)]\n",
    "even_numbers2"
   ]
  },
  {
   "cell_type": "markdown",
   "metadata": {},
   "source": [
    "По сути, одно и то же, просто иначе записано\n",
    "\n",
    "Синтаксис\n",
    "- выражение записывается в квадратных скобках\n",
    "- первое выражение (в данном случае переменная x) задаёт элементы списка\n",
    "- затем идёт цикл, как-то это выражение трасформирующий\n",
    "\n",
    "Можно усложнять обе части:"
   ]
  },
  {
   "cell_type": "code",
   "execution_count": 26,
   "metadata": {},
   "outputs": [
    {
     "data": {
      "text/plain": [
       "[0, 4, 16, 36, 64, 100, 144, 196, 256, 324, 400]"
      ]
     },
     "execution_count": 26,
     "metadata": {},
     "output_type": "execute_result"
    }
   ],
   "source": [
    "even_squares = [x ** 2 for x in range(0, 21, 2)]\n",
    "even_squares"
   ]
  },
  {
   "cell_type": "code",
   "execution_count": 28,
   "metadata": {},
   "outputs": [
    {
     "data": {
      "text/plain": [
       "[0.0, 33.0, 138.0, 315.0]"
      ]
     },
     "execution_count": 28,
     "metadata": {},
     "output_type": "execute_result"
    }
   ],
   "source": [
    "[x ** 2 - x / 2 for x in range(0, 21, 2) if x % 3 == 0] # в общем, всё, чего душа желает"
   ]
  },
  {
   "cell_type": "code",
   "execution_count": 29,
   "metadata": {},
   "outputs": [
    {
     "data": {
      "text/plain": [
       "[0.0, 14.0, 60.0, 138.0, 248.0, 390.0]"
      ]
     },
     "execution_count": 29,
     "metadata": {},
     "output_type": "execute_result"
    }
   ],
   "source": [
    "same_list = []\n",
    "for x in range(0, 21, 2):\n",
    "    if x % 4 == 0:\n",
    "        same_list.append(x ** 2 - x / 2)\n",
    "same_list"
   ]
  },
  {
   "cell_type": "markdown",
   "metadata": {},
   "source": [
    "Посмотреть подробнее можно [здесь](https://habr.com/post/30232/)"
   ]
  },
  {
   "cell_type": "markdown",
   "metadata": {},
   "source": [
    "## Ещё  немного про строки\n",
    "\n",
    "### .join()\n",
    "\n",
    "Соединяет элементы последовательности (списка) в строку с разделителем:\n",
    "\n",
    "str.join(list), где str - разделитель"
   ]
  },
  {
   "cell_type": "code",
   "execution_count": 30,
   "metadata": {},
   "outputs": [
    {
     "data": {
      "text/plain": [
       "'x*100=1'"
      ]
     },
     "execution_count": 30,
     "metadata": {},
     "output_type": "execute_result"
    }
   ],
   "source": [
    "equation = ['x', '*', '100', '=', '1']\n",
    "''.join(equation)"
   ]
  },
  {
   "cell_type": "code",
   "execution_count": 31,
   "metadata": {},
   "outputs": [
    {
     "data": {
      "text/plain": [
       "'x * 100 = 1'"
      ]
     },
     "execution_count": 31,
     "metadata": {},
     "output_type": "execute_result"
    }
   ],
   "source": [
    "' '.join(equation)"
   ]
  },
  {
   "cell_type": "markdown",
   "metadata": {},
   "source": [
    "http://pythontutor.ru/lessons/lists/problems/swap_neighbours/"
   ]
  },
  {
   "cell_type": "markdown",
   "metadata": {},
   "source": [
    "### .replace()\n",
    "Заменяет все вхождения одной строки на другую. \n",
    "\n",
    "str.replace(old, new), где str - изменяемая строка, old - то, что заменяется, new - то, на что заменяется"
   ]
  },
  {
   "cell_type": "code",
   "execution_count": 32,
   "metadata": {},
   "outputs": [
    {
     "data": {
      "text/plain": [
       "'I hate you!'"
      ]
     },
     "execution_count": 32,
     "metadata": {},
     "output_type": "execute_result"
    }
   ],
   "source": [
    "message = 'I love you!'\n",
    "message.replace('love', 'hate')"
   ]
  },
  {
   "cell_type": "code",
   "execution_count": 33,
   "metadata": {},
   "outputs": [
    {
     "data": {
      "text/plain": [
       "'olololol'"
      ]
     },
     "execution_count": 33,
     "metadata": {},
     "output_type": "execute_result"
    }
   ],
   "source": [
    "message = 'oooo'\n",
    "message.replace('o', 'ol')"
   ]
  },
  {
   "cell_type": "markdown",
   "metadata": {},
   "source": [
    "### .title(), .lower(), .upper()\n",
    "\n",
    "Меняют регистр букв в строке"
   ]
  },
  {
   "cell_type": "code",
   "execution_count": 34,
   "metadata": {},
   "outputs": [],
   "source": [
    "song = 'Wish You Were Here - Pink Floyd'"
   ]
  },
  {
   "cell_type": "code",
   "execution_count": 35,
   "metadata": {},
   "outputs": [
    {
     "data": {
      "text/plain": [
       "'WISH YOU WERE HERE - PINK FLOYD'"
      ]
     },
     "execution_count": 35,
     "metadata": {},
     "output_type": "execute_result"
    }
   ],
   "source": [
    "song.upper()"
   ]
  },
  {
   "cell_type": "code",
   "execution_count": 36,
   "metadata": {},
   "outputs": [
    {
     "data": {
      "text/plain": [
       "'wish you were here - pink floyd'"
      ]
     },
     "execution_count": 36,
     "metadata": {},
     "output_type": "execute_result"
    }
   ],
   "source": [
    "song = song.lower()\n",
    "song"
   ]
  },
  {
   "cell_type": "code",
   "execution_count": 37,
   "metadata": {},
   "outputs": [
    {
     "data": {
      "text/plain": [
       "'Wish You Were Here - Pink Floyd'"
      ]
     },
     "execution_count": 37,
     "metadata": {},
     "output_type": "execute_result"
    }
   ],
   "source": [
    "song.title()"
   ]
  },
  {
   "cell_type": "markdown",
   "metadata": {},
   "source": [
    "Дополнительно почитать про методы строк можно [здесь](http://pythontutor.ru/lessons/str/), список методов [здесь](https://pythonworld.ru/tipy-dannyx-v-python/stroki-funkcii-i-metody-strok.html)"
   ]
  },
  {
   "cell_type": "markdown",
   "metadata": {},
   "source": [
    "### Специальные символы строк\n",
    "\n",
    "- \\n - перенос строки\n",
    "- \\t - табуляция"
   ]
  },
  {
   "cell_type": "code",
   "execution_count": 38,
   "metadata": {},
   "outputs": [
    {
     "name": "stdout",
     "output_type": "stream",
     "text": [
      "this\n",
      "\tline\n",
      "\t\tpretends\n",
      "\t\t\tto be\n",
      "\tthe code\n"
     ]
    }
   ],
   "source": [
    "symbols = 'this\\n\\tline\\n\\t\\tpretends\\n\\t\\t\\tto be\\n\\tthe code'\n",
    "print(symbols)"
   ]
  },
  {
   "cell_type": "markdown",
   "metadata": {},
   "source": [
    "Мини-задача: напишите программу, которая принимает на вход число n и порождает строку, которая при выводе через print() \"отодвигает\" каждое число на равное ему количество табуляций:\n",
    "\n",
    "Если n = 4, то:\n",
    "\n",
    "0\n",
    "\n",
    "    1\n",
    "        2\n",
    "            3"
   ]
  },
  {
   "cell_type": "markdown",
   "metadata": {},
   "source": [
    "## Словари"
   ]
  },
  {
   "cell_type": "markdown",
   "metadata": {},
   "source": [
    "Ещё одна изменяемая структура данных -- словарь (`dict`)\n",
    "\n",
    "Словарь хранит пары ключ значение и предоставляет быстрый доступ к значению по ключу."
   ]
  },
  {
   "cell_type": "code",
   "execution_count": 39,
   "metadata": {},
   "outputs": [
    {
     "data": {
      "text/plain": [
       "{'bob': 5, 'alice': 4, 'dan': 5, 'bill': 3}"
      ]
     },
     "execution_count": 39,
     "metadata": {},
     "output_type": "execute_result"
    }
   ],
   "source": [
    "l = list()\n",
    "d = {}\n",
    "# оценки разных людей чему-либо\n",
    "marks = {'bob': 5, 'alice': 4, 'dan': 5, 'bill': 3}\n",
    "marks"
   ]
  },
  {
   "cell_type": "code",
   "execution_count": 40,
   "metadata": {},
   "outputs": [
    {
     "data": {
      "text/plain": [
       "5"
      ]
     },
     "execution_count": 40,
     "metadata": {},
     "output_type": "execute_result"
    }
   ],
   "source": [
    "marks['bob']"
   ]
  },
  {
   "cell_type": "code",
   "execution_count": 41,
   "metadata": {},
   "outputs": [
    {
     "data": {
      "text/plain": [
       "{'bob': 5, 'alice': 5, 'dan': 5, 'bill': 3, 'anonymus': 1}"
      ]
     },
     "execution_count": 41,
     "metadata": {},
     "output_type": "execute_result"
    }
   ],
   "source": [
    "marks['alice'] = 5\n",
    "marks['anonymus'] = 1\n",
    "marks"
   ]
  },
  {
   "cell_type": "code",
   "execution_count": 42,
   "metadata": {},
   "outputs": [
    {
     "name": "stdout",
     "output_type": "stream",
     "text": [
      "True\n",
      "False\n"
     ]
    }
   ],
   "source": [
    "print('alice' in marks)\n",
    "print('mary' in marks)"
   ]
  },
  {
   "cell_type": "code",
   "execution_count": 44,
   "metadata": {},
   "outputs": [
    {
     "name": "stdout",
     "output_type": "stream",
     "text": [
      "['bob', 'alice', 'dan', 'bill', 'anonymus']\n",
      "dict_values([5, 5, 5, 3, 1])\n",
      "dict_items([('bob', 5), ('alice', 5), ('dan', 5), ('bill', 3), ('anonymus', 1)])\n"
     ]
    }
   ],
   "source": [
    "print(list(marks.keys()))\n",
    "print(marks.values())\n",
    "print(marks.items())"
   ]
  },
  {
   "cell_type": "code",
   "execution_count": 45,
   "metadata": {},
   "outputs": [
    {
     "name": "stdout",
     "output_type": "stream",
     "text": [
      "bob 5\n",
      "alice 5\n",
      "dan 5\n",
      "bill 3\n",
      "anonymus 1\n"
     ]
    }
   ],
   "source": [
    "for key in marks:\n",
    "    print(key, marks[key])"
   ]
  },
  {
   "cell_type": "code",
   "execution_count": 46,
   "metadata": {},
   "outputs": [
    {
     "ename": "TypeError",
     "evalue": "unhashable type: 'list'",
     "output_type": "error",
     "traceback": [
      "\u001b[0;31m---------------------------------------------------------------------------\u001b[0m",
      "\u001b[0;31mTypeError\u001b[0m                                 Traceback (most recent call last)",
      "\u001b[0;32m<ipython-input-46-d721cbe50421>\u001b[0m in \u001b[0;36m<module>\u001b[0;34m()\u001b[0m\n\u001b[0;32m----> 1\u001b[0;31m \u001b[0md\u001b[0m \u001b[0;34m=\u001b[0m \u001b[0;34m{\u001b[0m\u001b[0;34m[\u001b[0m\u001b[0;36m1\u001b[0m\u001b[0;34m,\u001b[0m \u001b[0;36m2\u001b[0m\u001b[0;34m]\u001b[0m\u001b[0;34m:\u001b[0m \u001b[0;36m1\u001b[0m\u001b[0;34m}\u001b[0m\u001b[0;34m\u001b[0m\u001b[0m\n\u001b[0m",
      "\u001b[0;31mTypeError\u001b[0m: unhashable type: 'list'"
     ]
    }
   ],
   "source": [
    "d = {[1, 2]: 1}"
   ]
  },
  {
   "cell_type": "markdown",
   "metadata": {},
   "source": [
    "- **порядок итерации по словарю произволен** : в отличие от ситуации со списком списка, элементы в словаре не упорядочены, а лежат в соответствии со своими хешами\n",
    "- **ключом словаря может быть только неизменяемый тип данных** : например: строки, числа, кортежи (списки, словари, множества не могут быть ключами)"
   ]
  },
  {
   "cell_type": "markdown",
   "metadata": {},
   "source": [
    "## Кортежи"
   ]
  },
  {
   "cell_type": "markdown",
   "metadata": {},
   "source": [
    "Кортеж -- неизменяемый список\n",
    "\n",
    "Одно из применений -- можно использовать как ключ словаря"
   ]
  },
  {
   "cell_type": "code",
   "execution_count": 47,
   "metadata": {},
   "outputs": [
    {
     "data": {
      "text/plain": [
       "(1, 2, 'Hello')"
      ]
     },
     "execution_count": 47,
     "metadata": {},
     "output_type": "execute_result"
    }
   ],
   "source": [
    "c = (1, 2, 'Hello')\n",
    "c"
   ]
  },
  {
   "cell_type": "code",
   "execution_count": 48,
   "metadata": {},
   "outputs": [
    {
     "data": {
      "text/plain": [
       "(1, 2)"
      ]
     },
     "execution_count": 48,
     "metadata": {},
     "output_type": "execute_result"
    }
   ],
   "source": [
    "c[0:2]"
   ]
  },
  {
   "cell_type": "code",
   "execution_count": null,
   "metadata": {},
   "outputs": [],
   "source": [
    "c[0] = 0"
   ]
  },
  {
   "cell_type": "code",
   "execution_count": null,
   "metadata": {},
   "outputs": [],
   "source": [
    "d = {\n",
    "    (1, 2): 'a',\n",
    "    (1, 3): 'b',\n",
    "    (2, 1): 'c'\n",
    "}\n",
    "d"
   ]
  },
  {
   "cell_type": "code",
   "execution_count": null,
   "metadata": {},
   "outputs": [],
   "source": []
  },
  {
   "cell_type": "markdown",
   "metadata": {},
   "source": [
    "## Множества"
   ]
  },
  {
   "cell_type": "markdown",
   "metadata": {},
   "source": [
    "Набор уникальных элементов\n",
    "\n",
    "Поддерживает операцию `in` за константное время (в случае со списком это `O(n)`)"
   ]
  },
  {
   "cell_type": "code",
   "execution_count": 49,
   "metadata": {},
   "outputs": [
    {
     "data": {
      "text/plain": [
       "{1, 2, 3, 4}"
      ]
     },
     "execution_count": 49,
     "metadata": {},
     "output_type": "execute_result"
    }
   ],
   "source": [
    "s = set([1, 2, 3, 4, 3, 2, 1])\n",
    "s"
   ]
  },
  {
   "cell_type": "code",
   "execution_count": 50,
   "metadata": {},
   "outputs": [
    {
     "name": "stdout",
     "output_type": "stream",
     "text": [
      "True\n",
      "False\n",
      "True\n"
     ]
    }
   ],
   "source": [
    "print(1 in s)\n",
    "print(5 in s)\n",
    "print(5 not in s)"
   ]
  },
  {
   "cell_type": "code",
   "execution_count": 51,
   "metadata": {},
   "outputs": [
    {
     "data": {
      "text/plain": [
       "{1, 2, 3, 4, 10}"
      ]
     },
     "execution_count": 51,
     "metadata": {},
     "output_type": "execute_result"
    }
   ],
   "source": [
    "s.add(10)\n",
    "s"
   ]
  },
  {
   "cell_type": "code",
   "execution_count": 52,
   "metadata": {},
   "outputs": [
    {
     "data": {
      "text/plain": [
       "{1, 2, 3, 4, 10}"
      ]
     },
     "execution_count": 52,
     "metadata": {},
     "output_type": "execute_result"
    }
   ],
   "source": [
    "s.add(1)\n",
    "s"
   ]
  },
  {
   "cell_type": "markdown",
   "metadata": {},
   "source": [
    "**элементы множества неупорядочены также как и ключи в массиве**"
   ]
  },
  {
   "cell_type": "code",
   "execution_count": 53,
   "metadata": {},
   "outputs": [
    {
     "ename": "TypeError",
     "evalue": "'set' object does not support indexing",
     "output_type": "error",
     "traceback": [
      "\u001b[0;31m---------------------------------------------------------------------------\u001b[0m",
      "\u001b[0;31mTypeError\u001b[0m                                 Traceback (most recent call last)",
      "\u001b[0;32m<ipython-input-53-c9c96910e542>\u001b[0m in \u001b[0;36m<module>\u001b[0;34m()\u001b[0m\n\u001b[0;32m----> 1\u001b[0;31m \u001b[0ms\u001b[0m\u001b[0;34m[\u001b[0m\u001b[0;36m0\u001b[0m\u001b[0;34m]\u001b[0m\u001b[0;34m\u001b[0m\u001b[0m\n\u001b[0m",
      "\u001b[0;31mTypeError\u001b[0m: 'set' object does not support indexing"
     ]
    }
   ],
   "source": [
    "s[0]"
   ]
  },
  {
   "cell_type": "markdown",
   "metadata": {},
   "source": [
    "доступ к элементам множества можно получить через `for ... in` или `list(s)`"
   ]
  },
  {
   "cell_type": "code",
   "execution_count": 54,
   "metadata": {},
   "outputs": [
    {
     "data": {
      "text/plain": [
       "[1, 2, 3, 4, 10]"
      ]
     },
     "execution_count": 54,
     "metadata": {},
     "output_type": "execute_result"
    }
   ],
   "source": [
    "list(s)"
   ]
  },
  {
   "cell_type": "markdown",
   "metadata": {},
   "source": [
    "Также есть много удобных функций для множеств, например объединение двух множеств"
   ]
  },
  {
   "cell_type": "code",
   "execution_count": 55,
   "metadata": {},
   "outputs": [
    {
     "data": {
      "text/plain": [
       "{1, 2, 3, 4, 5}"
      ]
     },
     "execution_count": 55,
     "metadata": {},
     "output_type": "execute_result"
    }
   ],
   "source": [
    "s1 = {1, 2, 3, 4}\n",
    "s2 = {2, 3, 4, 5}\n",
    "s1.union(s2)"
   ]
  },
  {
   "cell_type": "markdown",
   "metadata": {},
   "source": [
    "или разность"
   ]
  },
  {
   "cell_type": "code",
   "execution_count": 56,
   "metadata": {},
   "outputs": [
    {
     "data": {
      "text/plain": [
       "{1}"
      ]
     },
     "execution_count": 56,
     "metadata": {},
     "output_type": "execute_result"
    }
   ],
   "source": [
    "s1 - s2"
   ]
  },
  {
   "cell_type": "markdown",
   "metadata": {},
   "source": [
    "Множества позволяют элегантно решать некоторые задачи, например нахождение количества уникальных слов в тексте"
   ]
  },
  {
   "cell_type": "code",
   "execution_count": 57,
   "metadata": {},
   "outputs": [
    {
     "data": {
      "text/plain": [
       "['the',\n",
       " 'adventures',\n",
       " 'of',\n",
       " 'sherlock',\n",
       " 'holmes',\n",
       " 'arthur',\n",
       " 'conan',\n",
       " 'doyle',\n",
       " 'table',\n",
       " 'of']"
      ]
     },
     "execution_count": 57,
     "metadata": {},
     "output_type": "execute_result"
    }
   ],
   "source": [
    "with open('sherlock.txt') as f:\n",
    "    text = f.read().lower()\n",
    "\n",
    "word_list = text.split()\n",
    "word_list[:10]"
   ]
  },
  {
   "cell_type": "code",
   "execution_count": 59,
   "metadata": {},
   "outputs": [],
   "source": [
    "word_set = set(word_list)"
   ]
  },
  {
   "cell_type": "code",
   "execution_count": 60,
   "metadata": {},
   "outputs": [
    {
     "data": {
      "text/plain": [
       "14093"
      ]
     },
     "execution_count": 60,
     "metadata": {},
     "output_type": "execute_result"
    }
   ],
   "source": [
    "len(word_set)"
   ]
  },
  {
   "cell_type": "markdown",
   "metadata": {},
   "source": [
    "найдем, какие буквы не встречаются в данной фразе"
   ]
  },
  {
   "cell_type": "code",
   "execution_count": 61,
   "metadata": {},
   "outputs": [],
   "source": [
    "s = 'Neque porro quisquam est qui dolorem ipsum quia dolor sit amet, consectetur, adipisci velit'"
   ]
  },
  {
   "cell_type": "code",
   "execution_count": 62,
   "metadata": {},
   "outputs": [
    {
     "name": "stdout",
     "output_type": "stream",
     "text": [
      "97\n",
      "122\n",
      "b\n"
     ]
    }
   ],
   "source": [
    "print(ord('a'))\n",
    "print(ord('z'))\n",
    "print(chr(98))"
   ]
  },
  {
   "cell_type": "code",
   "execution_count": null,
   "metadata": {},
   "outputs": [],
   "source": [
    "set(map(chr, range(ord('a'), ord('z')+1))) - set(s.lower())"
   ]
  },
  {
   "cell_type": "code",
   "execution_count": null,
   "metadata": {},
   "outputs": [],
   "source": [
    "from collections import Counter\n",
    "\n",
    "c = Counter()\n",
    "c.update(text.split())"
   ]
  },
  {
   "cell_type": "code",
   "execution_count": null,
   "metadata": {},
   "outputs": [],
   "source": [
    "c.update(['the', 'the'])"
   ]
  },
  {
   "cell_type": "code",
   "execution_count": null,
   "metadata": {},
   "outputs": [],
   "source": [
    "c['the']"
   ]
  },
  {
   "cell_type": "markdown",
   "metadata": {},
   "source": [
    "## Работа с файлами"
   ]
  },
  {
   "cell_type": "code",
   "execution_count": 63,
   "metadata": {},
   "outputs": [
    {
     "data": {
      "text/plain": [
       "'\\n\\n\\n\\n                        THE ADVENTURES OF SHERLOCK HOLMES\\n\\n                               Arthur Conan Doyle\\n\\n\\n\\n                                Table of contents\\n\\n               A Scandal in Bohem'"
      ]
     },
     "execution_count": 63,
     "metadata": {},
     "output_type": "execute_result"
    }
   ],
   "source": [
    "file = open('sherlock.txt', 'r', encoding='utf-8')\n",
    "text1 = file.read()\n",
    "file.close()\n",
    "text1[:200]"
   ]
  },
  {
   "cell_type": "code",
   "execution_count": 64,
   "metadata": {},
   "outputs": [
    {
     "data": {
      "text/plain": [
       "'\\n\\n\\n\\n                        THE ADVENTURES OF SHERLOCK HOLMES\\n\\n                               Arthur Conan Doyle\\n\\n\\n\\n                                Table of contents\\n\\n               A Scandal in Bohem'"
      ]
     },
     "execution_count": 64,
     "metadata": {},
     "output_type": "execute_result"
    }
   ],
   "source": [
    "with open('sherlock.txt', encoding='utf8') as f:\n",
    "    text2 = f.read()\n",
    "text2[:200]"
   ]
  },
  {
   "cell_type": "code",
   "execution_count": 65,
   "metadata": {},
   "outputs": [],
   "source": [
    "with open('out.txt', 'w') as f:\n",
    "    f.write(\"\\nI'm \\nwriting\\n to file!!!\\n\")"
   ]
  },
  {
   "cell_type": "code",
   "execution_count": 66,
   "metadata": {},
   "outputs": [],
   "source": [
    "with open('out.txt', 'a') as f:\n",
    "    f.write(\"\\nI'm \\nwriting\\n to file!!!\\n\")"
   ]
  },
  {
   "cell_type": "code",
   "execution_count": 67,
   "metadata": {},
   "outputs": [
    {
     "name": "stdout",
     "output_type": "stream",
     "text": [
      "12195\n"
     ]
    }
   ],
   "source": [
    "with open('sherlock.txt') as f:\n",
    "    i = 0\n",
    "    for line in f:\n",
    "        i += 1\n",
    "print(i)"
   ]
  },
  {
   "cell_type": "code",
   "execution_count": 68,
   "metadata": {},
   "outputs": [],
   "source": [
    "import os"
   ]
  },
  {
   "cell_type": "code",
   "execution_count": 69,
   "metadata": {},
   "outputs": [
    {
     "data": {
      "text/plain": [
       "['out.txt',\n",
       " 'Lesson_1.ipynb',\n",
       " '.ipynb_checkpoints',\n",
       " 'create_corpus_example.py',\n",
       " 'Lesson_2.ipynb',\n",
       " 'Lesson_3.ipynb',\n",
       " 'sherlock.txt',\n",
       " 'Homework_2.ipynb']"
      ]
     },
     "execution_count": 69,
     "metadata": {},
     "output_type": "execute_result"
    }
   ],
   "source": [
    "os.listdir()"
   ]
  },
  {
   "cell_type": "markdown",
   "metadata": {},
   "source": [
    "Мини задачка: пройдите по всем файлам в текущей директории и выведите имя и первые 100 символов каждого файла (вам понадобится функция `os.path.isfile`)"
   ]
  },
  {
   "cell_type": "code",
   "execution_count": 71,
   "metadata": {},
   "outputs": [
    {
     "data": {
      "text/plain": [
       "False"
      ]
     },
     "execution_count": 71,
     "metadata": {},
     "output_type": "execute_result"
    }
   ],
   "source": [
    "os.path.isfile('.ipyn')"
   ]
  },
  {
   "cell_type": "code",
   "execution_count": 72,
   "metadata": {},
   "outputs": [
    {
     "name": "stdout",
     "output_type": "stream",
     "text": [
      "\n",
      "I'm \n",
      "writing\n",
      " to file!!!\n",
      "\n",
      "I'm \n",
      "writing\n",
      " to file!!!\n",
      "\n",
      "{\n",
      " \"cells\": [\n",
      "  {\n",
      "   \"cell_type\": \"markdown\",\n",
      "   \"metadata\": {},\n",
      "   \"source\": [\n",
      "    \"## Jupyter Note\n",
      "import requests\n",
      "from bs4 import BeautifulSoup\n",
      "import urllib\n",
      "import re\n",
      "\n",
      "# здесь создаётся корпус\n",
      "mar_\n",
      "{\n",
      " \"cells\": [\n",
      "  {\n",
      "   \"cell_type\": \"markdown\",\n",
      "   \"metadata\": {},\n",
      "   \"source\": [\n",
      "    \"## Списки\"\n",
      "   ]\n",
      "{\n",
      " \"cells\": [\n",
      "  {\n",
      "   \"cell_type\": \"markdown\",\n",
      "   \"metadata\": {},\n",
      "   \"source\": [\n",
      "    \"## Функции\"\n",
      "   \n",
      "\n",
      "\n",
      "\n",
      "\n",
      "                        THE ADVENTURES OF SHERLOCK HOLMES\n",
      "\n",
      "                               Arthur\n",
      "{\n",
      " \"cells\": [\n",
      "  {\n",
      "   \"cell_type\": \"markdown\",\n",
      "   \"metadata\": {},\n",
      "   \"source\": [\n",
      "    \"# Homework 2\\n\"\n"
     ]
    }
   ],
   "source": [
    "for path in os.listdir():\n",
    "    if os.path.isfile(path):\n",
    "        try:\n",
    "            with open(path, encoding='utf8') as f:\n",
    "                print(f.read()[:100])\n",
    "        except:\n",
    "            pass"
   ]
  },
  {
   "cell_type": "code",
   "execution_count": 75,
   "metadata": {},
   "outputs": [],
   "source": [
    "marks = {'bob': {'city': 'a','age': 1},\n",
    "    1: 4,\n",
    "    'dan': [1, 2],\n",
    "    'bill': 3}"
   ]
  },
  {
   "cell_type": "markdown",
   "metadata": {},
   "source": [
    "## Словари json\n",
    "\n",
    "**json (JavaScript Object Notation)** - формат данных, или даже скорее формат обмена данных\n",
    "\n",
    "Независим от языка, на котором создаётся (можно передавать данные в формате json между программами, написанными на разных языках)"
   ]
  },
  {
   "cell_type": "code",
   "execution_count": 73,
   "metadata": {},
   "outputs": [],
   "source": [
    "import json"
   ]
  },
  {
   "cell_type": "code",
   "execution_count": 76,
   "metadata": {},
   "outputs": [
    {
     "data": {
      "text/plain": [
       "'{\"bob\": {\"city\": \"a\", \"age\": 1}, \"1\": 4, \"dan\": [1, 2], \"bill\": 3}'"
      ]
     },
     "execution_count": 76,
     "metadata": {},
     "output_type": "execute_result"
    }
   ],
   "source": [
    "s = json.dumps(marks)\n",
    "s"
   ]
  },
  {
   "cell_type": "code",
   "execution_count": 77,
   "metadata": {},
   "outputs": [],
   "source": [
    "json.dump(marks, open('out.txt', 'w'))"
   ]
  },
  {
   "cell_type": "code",
   "execution_count": 78,
   "metadata": {},
   "outputs": [
    {
     "data": {
      "text/plain": [
       "{'1': 2}"
      ]
     },
     "execution_count": 78,
     "metadata": {},
     "output_type": "execute_result"
    }
   ],
   "source": [
    "s = '{\"1\": 2}'\n",
    "json.loads(s)"
   ]
  },
  {
   "cell_type": "code",
   "execution_count": 81,
   "metadata": {},
   "outputs": [],
   "source": [
    "mark = json.load(open('out.txt'))"
   ]
  },
  {
   "cell_type": "code",
   "execution_count": 84,
   "metadata": {},
   "outputs": [
    {
     "data": {
      "text/plain": [
       "{'city': 'a', 'age': 1}"
      ]
     },
     "execution_count": 84,
     "metadata": {},
     "output_type": "execute_result"
    }
   ],
   "source": [
    "mark['bob']"
   ]
  },
  {
   "cell_type": "code",
   "execution_count": 85,
   "metadata": {},
   "outputs": [
    {
     "data": {
      "text/plain": [
       "'a'"
      ]
     },
     "execution_count": 85,
     "metadata": {},
     "output_type": "execute_result"
    }
   ],
   "source": [
    "mark['bob']['city']"
   ]
  },
  {
   "cell_type": "code",
   "execution_count": 80,
   "metadata": {},
   "outputs": [
    {
     "data": {
      "text/plain": [
       "{'cells': [{'cell_type': 'markdown', 'metadata': {}, 'source': ['## Списки']},\n",
       "  {'cell_type': 'markdown',\n",
       "   'metadata': {},\n",
       "   'source': ['Ещё один тип данных, которые вчера уже попадались - списки.']},\n",
       "  {'cell_type': 'code',\n",
       "   'execution_count': 1,\n",
       "   'metadata': {},\n",
       "   'outputs': [{'data': {'text/plain': ['[1, 2, 11, 12, 3, 4, 13, 14]']},\n",
       "     'execution_count': 1,\n",
       "     'metadata': {},\n",
       "     'output_type': 'execute_result'}],\n",
       "   'source': ['l = [1, 2, 11, 12, 3, 4, 13, 14]\\n', 'l']},\n",
       "  {'cell_type': 'markdown',\n",
       "   'metadata': {},\n",
       "   'source': ['Работа со списками частично похожа на работу со строками.\\n',\n",
       "    '\\n',\n",
       "    '- нумерация элементов тоже начинается с 0']},\n",
       "  {'cell_type': 'code',\n",
       "   'execution_count': 2,\n",
       "   'metadata': {},\n",
       "   'outputs': [{'data': {'text/plain': ['1']},\n",
       "     'execution_count': 2,\n",
       "     'metadata': {},\n",
       "     'output_type': 'execute_result'}],\n",
       "   'source': ['l[0]']},\n",
       "  {'cell_type': 'markdown',\n",
       "   'metadata': {},\n",
       "   'source': ['- длина узнаётся так же']},\n",
       "  {'cell_type': 'code',\n",
       "   'execution_count': 3,\n",
       "   'metadata': {},\n",
       "   'outputs': [{'data': {'text/plain': ['8']},\n",
       "     'execution_count': 3,\n",
       "     'metadata': {},\n",
       "     'output_type': 'execute_result'}],\n",
       "   'source': ['len(l)']},\n",
       "  {'cell_type': 'markdown',\n",
       "   'metadata': {},\n",
       "   'source': ['- тоже можно доставать конкретные куски списка через индексацию: будут выданы в виде списка']},\n",
       "  {'cell_type': 'code',\n",
       "   'execution_count': 4,\n",
       "   'metadata': {},\n",
       "   'outputs': [{'data': {'text/plain': ['[11, 12]']},\n",
       "     'execution_count': 4,\n",
       "     'metadata': {},\n",
       "     'output_type': 'execute_result'}],\n",
       "   'source': ['l[2:4]']},\n",
       "  {'cell_type': 'markdown',\n",
       "   'metadata': {},\n",
       "   'source': ['- так же можно менять шаг ']},\n",
       "  {'cell_type': 'code',\n",
       "   'execution_count': 5,\n",
       "   'metadata': {},\n",
       "   'outputs': [{'data': {'text/plain': ['[1, 11, 3, 13]']},\n",
       "     'execution_count': 5,\n",
       "     'metadata': {},\n",
       "     'output_type': 'execute_result'}],\n",
       "   'source': ['l[::2]']},\n",
       "  {'cell_type': 'markdown',\n",
       "   'metadata': {},\n",
       "   'source': ['- и обращаться с конца']},\n",
       "  {'cell_type': 'code',\n",
       "   'execution_count': 6,\n",
       "   'metadata': {},\n",
       "   'outputs': [{'data': {'text/plain': ['13']},\n",
       "     'execution_count': 6,\n",
       "     'metadata': {},\n",
       "     'output_type': 'execute_result'}],\n",
       "   'source': ['l[-2]']},\n",
       "  {'cell_type': 'code',\n",
       "   'execution_count': 7,\n",
       "   'metadata': {},\n",
       "   'outputs': [{'data': {'text/plain': ['[4, 3, 12, 11]']},\n",
       "     'execution_count': 7,\n",
       "     'metadata': {},\n",
       "     'output_type': 'execute_result'}],\n",
       "   'source': ['l[5:1:-1]']},\n",
       "  {'cell_type': 'code',\n",
       "   'execution_count': 8,\n",
       "   'metadata': {},\n",
       "   'outputs': [{'data': {'text/plain': ['[4, 3, 12, 11]']},\n",
       "     'execution_count': 8,\n",
       "     'metadata': {},\n",
       "     'output_type': 'execute_result'}],\n",
       "   'source': ['l[5:1:-1]']},\n",
       "  {'cell_type': 'markdown',\n",
       "   'metadata': {},\n",
       "   'source': ['В отличие от строк\\n',\n",
       "    '\\n',\n",
       "    '- элементы списка можно изменять']},\n",
       "  {'cell_type': 'code',\n",
       "   'execution_count': 9,\n",
       "   'metadata': {},\n",
       "   'outputs': [{'data': {'text/plain': ['[100500, 2, 11, 12, 3, 4, 13, 14]']},\n",
       "     'execution_count': 9,\n",
       "     'metadata': {},\n",
       "     'output_type': 'execute_result'}],\n",
       "   'source': ['l[0] = 100500\\n', 'l']},\n",
       "  {'cell_type': 'code',\n",
       "   'execution_count': 10,\n",
       "   'metadata': {},\n",
       "   'outputs': [{'data': {'text/plain': ['[100500, 0, 0, 12, 3, 4, 13, 14]']},\n",
       "     'execution_count': 10,\n",
       "     'metadata': {},\n",
       "     'output_type': 'execute_result'}],\n",
       "   'source': ['l[1:3] = [0, 0]\\n', 'l']},\n",
       "  {'cell_type': 'code',\n",
       "   'execution_count': 11,\n",
       "   'metadata': {},\n",
       "   'outputs': [{'data': {'text/plain': [\"[100500, 0, 2, 12, 85, 0, 6, None, 'not a number', 12, 3, 4, 13, 14]\"]},\n",
       "     'execution_count': 11,\n",
       "     'metadata': {},\n",
       "     'output_type': 'execute_result'}],\n",
       "   'source': [\"l[2:3] = [2, 12, 85, 0, 6, None, 'not a number']\\n\", 'l']},\n",
       "  {'cell_type': 'code',\n",
       "   'execution_count': 12,\n",
       "   'metadata': {},\n",
       "   'outputs': [{'data': {'text/plain': ['[1]']},\n",
       "     'execution_count': 12,\n",
       "     'metadata': {},\n",
       "     'output_type': 'execute_result'}],\n",
       "   'source': ['l[:] = [1]\\n', 'l']},\n",
       "  {'cell_type': 'code',\n",
       "   'execution_count': 13,\n",
       "   'metadata': {},\n",
       "   'outputs': [{'data': {'text/plain': ['[[1, 2], [8, 9]]']},\n",
       "     'execution_count': 13,\n",
       "     'metadata': {},\n",
       "     'output_type': 'execute_result'}],\n",
       "   'source': ['l[:] = [[1, 2], [8, 9]]\\n', 'l']},\n",
       "  {'cell_type': 'markdown',\n",
       "   'metadata': {},\n",
       "   'source': ['- новые элементы присоединяются через функцию .append']},\n",
       "  {'cell_type': 'code',\n",
       "   'execution_count': 14,\n",
       "   'metadata': {},\n",
       "   'outputs': [{'data': {'text/plain': [\"[[1, 2], [8, 9], '1337']\"]},\n",
       "     'execution_count': 14,\n",
       "     'metadata': {},\n",
       "     'output_type': 'execute_result'}],\n",
       "   'source': [\"l.append('1337')\\n\", 'l']},\n",
       "  {'cell_type': 'code',\n",
       "   'execution_count': 15,\n",
       "   'metadata': {},\n",
       "   'outputs': [{'ename': 'TypeError',\n",
       "     'evalue': 'can only concatenate list (not \"str\") to list',\n",
       "     'output_type': 'error',\n",
       "     'traceback': ['\\x1b[0;31m---------------------------------------------------------------------------\\x1b[0m',\n",
       "      '\\x1b[0;31mTypeError\\x1b[0m                                 Traceback (most recent call last)',\n",
       "      \"\\x1b[0;32m<ipython-input-15-7ce76b854b63>\\x1b[0m in \\x1b[0;36m<module>\\x1b[0;34m()\\x1b[0m\\n\\x1b[0;32m----> 1\\x1b[0;31m \\x1b[0ml\\x1b[0m \\x1b[0;34m+\\x1b[0m \\x1b[0;34m'1337'\\x1b[0m\\x1b[0;34m\\x1b[0m\\x1b[0m\\n\\x1b[0m\",\n",
       "      '\\x1b[0;31mTypeError\\x1b[0m: can only concatenate list (not \"str\") to list']}],\n",
       "   'source': [\"l + '1337'\"]},\n",
       "  {'cell_type': 'markdown',\n",
       "   'metadata': {},\n",
       "   'source': ['- с помощью `+` нельзя присоединить просто отдельный элемент, но можно присоединить другой список']},\n",
       "  {'cell_type': 'code',\n",
       "   'execution_count': 16,\n",
       "   'metadata': {},\n",
       "   'outputs': [{'data': {'text/plain': [\"[[1, 2], [8, 9], '1337', 4, 5]\"]},\n",
       "     'execution_count': 16,\n",
       "     'metadata': {},\n",
       "     'output_type': 'execute_result'}],\n",
       "   'source': ['l + [4, 5]']},\n",
       "  {'cell_type': 'markdown',\n",
       "   'metadata': {},\n",
       "   'source': ['....и даже список, включающий в себя списки']},\n",
       "  {'cell_type': 'code',\n",
       "   'execution_count': 17,\n",
       "   'metadata': {},\n",
       "   'outputs': [{'data': {'text/plain': [\"[[1, 2], [8, 9], '1337', 5, [1, 2], [3, 4], [5, 6]]\"]},\n",
       "     'execution_count': 17,\n",
       "     'metadata': {},\n",
       "     'output_type': 'execute_result'}],\n",
       "   'source': ['l + [5, [1, 2], [3, 4], [5, 6]]']},\n",
       "  {'cell_type': 'markdown', 'metadata': {}, 'source': []},\n",
       "  {'cell_type': 'code',\n",
       "   'execution_count': 18,\n",
       "   'metadata': {},\n",
       "   'outputs': [{'data': {'text/plain': ['[0, 20, 40, 60, 80]']},\n",
       "     'execution_count': 18,\n",
       "     'metadata': {},\n",
       "     'output_type': 'execute_result'}],\n",
       "   'source': ['list(range(0, 100, 20))']},\n",
       "  {'cell_type': 'markdown',\n",
       "   'metadata': {},\n",
       "   'source': ['- http://pythontutor.ru/lessons/lists/problems/increasing_neighbours/\\n',\n",
       "    '\\n',\n",
       "    'Здесь вам будет нужна функция split(), которая сделает из строки с числами список']},\n",
       "  {'cell_type': 'code',\n",
       "   'execution_count': 20,\n",
       "   'metadata': {},\n",
       "   'outputs': [{'data': {'text/plain': [\"['1', '2', '3', '4', '5', '1']\"]},\n",
       "     'execution_count': 20,\n",
       "     'metadata': {},\n",
       "     'output_type': 'execute_result'}],\n",
       "   'source': [\"inp = '1 2 3 4 5 1'\\n\", 'inp = inp.split()\\n', 'inp']},\n",
       "  {'cell_type': 'code',\n",
       "   'execution_count': 21,\n",
       "   'metadata': {},\n",
       "   'outputs': [{'data': {'text/plain': [\"'24'\"]},\n",
       "     'execution_count': 21,\n",
       "     'metadata': {},\n",
       "     'output_type': 'execute_result'}],\n",
       "   'source': ['inp[1] + inp[3]']},\n",
       "  {'cell_type': 'code',\n",
       "   'execution_count': 22,\n",
       "   'metadata': {},\n",
       "   'outputs': [{'data': {'text/plain': ['6']},\n",
       "     'execution_count': 22,\n",
       "     'metadata': {},\n",
       "     'output_type': 'execute_result'}],\n",
       "   'source': ['inp = [int(s) for s in inp] # превратить список строчных чисел в список чисел\\n',\n",
       "    'inp[1] + inp[3]']},\n",
       "  {'cell_type': 'markdown',\n",
       "   'metadata': {},\n",
       "   'source': ['- http://pythontutor.ru/lessons/lists/problems/same_sign_neighbours/\\n',\n",
       "    '\\n',\n",
       "    'Здесь нужна функция break, останавливающая цикл, если выполняется какое-то условие']},\n",
       "  {'cell_type': 'code',\n",
       "   'execution_count': 23,\n",
       "   'metadata': {},\n",
       "   'outputs': [{'name': 'stdout',\n",
       "     'output_type': 'stream',\n",
       "     'text': ['1\\n', '2\\n', '3\\n', '4\\n', '5\\n']}],\n",
       "   'source': ['for x in range(1, 10):\\n',\n",
       "    '    print(x)\\n',\n",
       "    '    if x % 5 == 0:\\n',\n",
       "    '        break']},\n",
       "  {'cell_type': 'markdown',\n",
       "   'metadata': {},\n",
       "   'source': ['- http://pythontutor.ru/lessons/lists/problems/maximal_element/ \\n',\n",
       "    '\\n',\n",
       "    'Функция index() возвращает индекс элемента, если он есть в списке. В случае, если элементов несколько, выдаётся индекс первого из них.']},\n",
       "  {'cell_type': 'markdown',\n",
       "   'metadata': {},\n",
       "   'source': ['### Генерация списков']},\n",
       "  {'cell_type': 'code',\n",
       "   'execution_count': 24,\n",
       "   'metadata': {},\n",
       "   'outputs': [{'data': {'text/plain': ['[0, 2, 4, 6, 8, 10, 12, 14, 16, 18, 20]']},\n",
       "     'execution_count': 24,\n",
       "     'metadata': {},\n",
       "     'output_type': 'execute_result'}],\n",
       "   'source': ['even_numbers1 = []\\n',\n",
       "    'for x in range(0, 21, 2):\\n',\n",
       "    '    even_numbers1.append(x)\\n',\n",
       "    'even_numbers1']},\n",
       "  {'cell_type': 'code',\n",
       "   'execution_count': None,\n",
       "   'metadata': {},\n",
       "   'outputs': [],\n",
       "   'source': ['list(range())']},\n",
       "  {'cell_type': 'code',\n",
       "   'execution_count': 25,\n",
       "   'metadata': {},\n",
       "   'outputs': [{'data': {'text/plain': ['[0, 2, 4, 6, 8, 10, 12, 14, 16, 18, 20]']},\n",
       "     'execution_count': 25,\n",
       "     'metadata': {},\n",
       "     'output_type': 'execute_result'}],\n",
       "   'source': ['even_numbers2 = [x for x in range(0, 21, 2)]\\n',\n",
       "    'even_numbers2']},\n",
       "  {'cell_type': 'markdown',\n",
       "   'metadata': {},\n",
       "   'source': ['По сути, одно и то же, просто иначе записано\\n',\n",
       "    '\\n',\n",
       "    'Синтаксис\\n',\n",
       "    '- выражение записывается в квадратных скобках\\n',\n",
       "    '- первое выражение (в данном случае переменная x) задаёт элементы списка\\n',\n",
       "    '- затем идёт цикл, как-то это выражение трасформирующий\\n',\n",
       "    '\\n',\n",
       "    'Можно усложнять обе части:']},\n",
       "  {'cell_type': 'code',\n",
       "   'execution_count': 26,\n",
       "   'metadata': {},\n",
       "   'outputs': [{'data': {'text/plain': ['[0, 4, 16, 36, 64, 100, 144, 196, 256, 324, 400]']},\n",
       "     'execution_count': 26,\n",
       "     'metadata': {},\n",
       "     'output_type': 'execute_result'}],\n",
       "   'source': ['even_squares = [x ** 2 for x in range(0, 21, 2)]\\n',\n",
       "    'even_squares']},\n",
       "  {'cell_type': 'code',\n",
       "   'execution_count': 28,\n",
       "   'metadata': {},\n",
       "   'outputs': [{'data': {'text/plain': ['[0.0, 33.0, 138.0, 315.0]']},\n",
       "     'execution_count': 28,\n",
       "     'metadata': {},\n",
       "     'output_type': 'execute_result'}],\n",
       "   'source': ['[x ** 2 - x / 2 for x in range(0, 21, 2) if x % 3 == 0] # в общем, всё, чего душа желает']},\n",
       "  {'cell_type': 'code',\n",
       "   'execution_count': 29,\n",
       "   'metadata': {},\n",
       "   'outputs': [{'data': {'text/plain': ['[0.0, 14.0, 60.0, 138.0, 248.0, 390.0]']},\n",
       "     'execution_count': 29,\n",
       "     'metadata': {},\n",
       "     'output_type': 'execute_result'}],\n",
       "   'source': ['same_list = []\\n',\n",
       "    'for x in range(0, 21, 2):\\n',\n",
       "    '    if x % 4 == 0:\\n',\n",
       "    '        same_list.append(x ** 2 - x / 2)\\n',\n",
       "    'same_list']},\n",
       "  {'cell_type': 'markdown',\n",
       "   'metadata': {},\n",
       "   'source': ['Посмотреть подробнее можно [здесь](https://habr.com/post/30232/)']},\n",
       "  {'cell_type': 'markdown',\n",
       "   'metadata': {},\n",
       "   'source': ['## Ещё  немного про строки\\n',\n",
       "    '\\n',\n",
       "    '### .join()\\n',\n",
       "    '\\n',\n",
       "    'Соединяет элементы последовательности (списка) в строку с разделителем:\\n',\n",
       "    '\\n',\n",
       "    'str.join(list), где str - разделитель']},\n",
       "  {'cell_type': 'code',\n",
       "   'execution_count': 30,\n",
       "   'metadata': {},\n",
       "   'outputs': [{'data': {'text/plain': [\"'x*100=1'\"]},\n",
       "     'execution_count': 30,\n",
       "     'metadata': {},\n",
       "     'output_type': 'execute_result'}],\n",
       "   'source': [\"equation = ['x', '*', '100', '=', '1']\\n\",\n",
       "    \"''.join(equation)\"]},\n",
       "  {'cell_type': 'code',\n",
       "   'execution_count': 31,\n",
       "   'metadata': {},\n",
       "   'outputs': [{'data': {'text/plain': [\"'x * 100 = 1'\"]},\n",
       "     'execution_count': 31,\n",
       "     'metadata': {},\n",
       "     'output_type': 'execute_result'}],\n",
       "   'source': [\"' '.join(equation)\"]},\n",
       "  {'cell_type': 'markdown',\n",
       "   'metadata': {},\n",
       "   'source': ['http://pythontutor.ru/lessons/lists/problems/swap_neighbours/']},\n",
       "  {'cell_type': 'markdown',\n",
       "   'metadata': {},\n",
       "   'source': ['### .replace()\\n',\n",
       "    'Заменяет все вхождения одной строки на другую. \\n',\n",
       "    '\\n',\n",
       "    'str.replace(old, new), где str - изменяемая строка, old - то, что заменяется, new - то, на что заменяется']},\n",
       "  {'cell_type': 'code',\n",
       "   'execution_count': 32,\n",
       "   'metadata': {},\n",
       "   'outputs': [{'data': {'text/plain': [\"'I hate you!'\"]},\n",
       "     'execution_count': 32,\n",
       "     'metadata': {},\n",
       "     'output_type': 'execute_result'}],\n",
       "   'source': [\"message = 'I love you!'\\n\", \"message.replace('love', 'hate')\"]},\n",
       "  {'cell_type': 'code',\n",
       "   'execution_count': 33,\n",
       "   'metadata': {},\n",
       "   'outputs': [{'data': {'text/plain': [\"'olololol'\"]},\n",
       "     'execution_count': 33,\n",
       "     'metadata': {},\n",
       "     'output_type': 'execute_result'}],\n",
       "   'source': [\"message = 'oooo'\\n\", \"message.replace('o', 'ol')\"]},\n",
       "  {'cell_type': 'markdown',\n",
       "   'metadata': {},\n",
       "   'source': ['### .title(), .lower(), .upper()\\n',\n",
       "    '\\n',\n",
       "    'Меняют регистр букв в строке']},\n",
       "  {'cell_type': 'code',\n",
       "   'execution_count': 34,\n",
       "   'metadata': {},\n",
       "   'outputs': [],\n",
       "   'source': [\"song = 'Wish You Were Here - Pink Floyd'\"]},\n",
       "  {'cell_type': 'code',\n",
       "   'execution_count': 35,\n",
       "   'metadata': {},\n",
       "   'outputs': [{'data': {'text/plain': [\"'WISH YOU WERE HERE - PINK FLOYD'\"]},\n",
       "     'execution_count': 35,\n",
       "     'metadata': {},\n",
       "     'output_type': 'execute_result'}],\n",
       "   'source': ['song.upper()']},\n",
       "  {'cell_type': 'code',\n",
       "   'execution_count': 36,\n",
       "   'metadata': {},\n",
       "   'outputs': [{'data': {'text/plain': [\"'wish you were here - pink floyd'\"]},\n",
       "     'execution_count': 36,\n",
       "     'metadata': {},\n",
       "     'output_type': 'execute_result'}],\n",
       "   'source': ['song = song.lower()\\n', 'song']},\n",
       "  {'cell_type': 'code',\n",
       "   'execution_count': 37,\n",
       "   'metadata': {},\n",
       "   'outputs': [{'data': {'text/plain': [\"'Wish You Were Here - Pink Floyd'\"]},\n",
       "     'execution_count': 37,\n",
       "     'metadata': {},\n",
       "     'output_type': 'execute_result'}],\n",
       "   'source': ['song.title()']},\n",
       "  {'cell_type': 'markdown',\n",
       "   'metadata': {},\n",
       "   'source': ['Дополнительно почитать про методы строк можно [здесь](http://pythontutor.ru/lessons/str/), список методов [здесь](https://pythonworld.ru/tipy-dannyx-v-python/stroki-funkcii-i-metody-strok.html)']},\n",
       "  {'cell_type': 'markdown',\n",
       "   'metadata': {},\n",
       "   'source': ['### Специальные символы строк\\n',\n",
       "    '\\n',\n",
       "    '- \\\\n - перенос строки\\n',\n",
       "    '- \\\\t - табуляция']},\n",
       "  {'cell_type': 'code',\n",
       "   'execution_count': 38,\n",
       "   'metadata': {},\n",
       "   'outputs': [{'name': 'stdout',\n",
       "     'output_type': 'stream',\n",
       "     'text': ['this\\n',\n",
       "      '\\tline\\n',\n",
       "      '\\t\\tpretends\\n',\n",
       "      '\\t\\t\\tto be\\n',\n",
       "      '\\tthe code\\n']}],\n",
       "   'source': [\"symbols = 'this\\\\n\\\\tline\\\\n\\\\t\\\\tpretends\\\\n\\\\t\\\\t\\\\tto be\\\\n\\\\tthe code'\\n\",\n",
       "    'print(symbols)']},\n",
       "  {'cell_type': 'markdown',\n",
       "   'metadata': {},\n",
       "   'source': ['Мини-задача: напишите программу, которая принимает на вход число n и порождает строку, которая при выводе через print() \"отодвигает\" каждое число на равное ему количество табуляций:\\n',\n",
       "    '\\n',\n",
       "    'Если n = 4, то:\\n',\n",
       "    '\\n',\n",
       "    '0\\n',\n",
       "    '\\n',\n",
       "    '    1\\n',\n",
       "    '        2\\n',\n",
       "    '            3']},\n",
       "  {'cell_type': 'markdown', 'metadata': {}, 'source': ['## Словари']},\n",
       "  {'cell_type': 'markdown',\n",
       "   'metadata': {},\n",
       "   'source': ['Ещё одна изменяемая структура данных -- словарь (`dict`)\\n',\n",
       "    '\\n',\n",
       "    'Словарь хранит пары ключ значение и предоставляет быстрый доступ к значению по ключу.']},\n",
       "  {'cell_type': 'code',\n",
       "   'execution_count': 39,\n",
       "   'metadata': {},\n",
       "   'outputs': [{'data': {'text/plain': [\"{'bob': 5, 'alice': 4, 'dan': 5, 'bill': 3}\"]},\n",
       "     'execution_count': 39,\n",
       "     'metadata': {},\n",
       "     'output_type': 'execute_result'}],\n",
       "   'source': ['l = list()\\n',\n",
       "    'd = {}\\n',\n",
       "    '# оценки разных людей чему-либо\\n',\n",
       "    \"marks = {'bob': 5, 'alice': 4, 'dan': 5, 'bill': 3}\\n\",\n",
       "    'marks']},\n",
       "  {'cell_type': 'code',\n",
       "   'execution_count': 40,\n",
       "   'metadata': {},\n",
       "   'outputs': [{'data': {'text/plain': ['5']},\n",
       "     'execution_count': 40,\n",
       "     'metadata': {},\n",
       "     'output_type': 'execute_result'}],\n",
       "   'source': [\"marks['bob']\"]},\n",
       "  {'cell_type': 'code',\n",
       "   'execution_count': 41,\n",
       "   'metadata': {},\n",
       "   'outputs': [{'data': {'text/plain': [\"{'bob': 5, 'alice': 5, 'dan': 5, 'bill': 3, 'anonymus': 1}\"]},\n",
       "     'execution_count': 41,\n",
       "     'metadata': {},\n",
       "     'output_type': 'execute_result'}],\n",
       "   'source': [\"marks['alice'] = 5\\n\", \"marks['anonymus'] = 1\\n\", 'marks']},\n",
       "  {'cell_type': 'code',\n",
       "   'execution_count': 42,\n",
       "   'metadata': {},\n",
       "   'outputs': [{'name': 'stdout',\n",
       "     'output_type': 'stream',\n",
       "     'text': ['True\\n', 'False\\n']}],\n",
       "   'source': [\"print('alice' in marks)\\n\", \"print('mary' in marks)\"]},\n",
       "  {'cell_type': 'code',\n",
       "   'execution_count': 44,\n",
       "   'metadata': {},\n",
       "   'outputs': [{'name': 'stdout',\n",
       "     'output_type': 'stream',\n",
       "     'text': [\"['bob', 'alice', 'dan', 'bill', 'anonymus']\\n\",\n",
       "      'dict_values([5, 5, 5, 3, 1])\\n',\n",
       "      \"dict_items([('bob', 5), ('alice', 5), ('dan', 5), ('bill', 3), ('anonymus', 1)])\\n\"]}],\n",
       "   'source': ['print(list(marks.keys()))\\n',\n",
       "    'print(marks.values())\\n',\n",
       "    'print(marks.items())']},\n",
       "  {'cell_type': 'code',\n",
       "   'execution_count': 45,\n",
       "   'metadata': {},\n",
       "   'outputs': [{'name': 'stdout',\n",
       "     'output_type': 'stream',\n",
       "     'text': ['bob 5\\n', 'alice 5\\n', 'dan 5\\n', 'bill 3\\n', 'anonymus 1\\n']}],\n",
       "   'source': ['for key in marks:\\n', '    print(key, marks[key])']},\n",
       "  {'cell_type': 'code',\n",
       "   'execution_count': 46,\n",
       "   'metadata': {},\n",
       "   'outputs': [{'ename': 'TypeError',\n",
       "     'evalue': \"unhashable type: 'list'\",\n",
       "     'output_type': 'error',\n",
       "     'traceback': ['\\x1b[0;31m---------------------------------------------------------------------------\\x1b[0m',\n",
       "      '\\x1b[0;31mTypeError\\x1b[0m                                 Traceback (most recent call last)',\n",
       "      '\\x1b[0;32m<ipython-input-46-d721cbe50421>\\x1b[0m in \\x1b[0;36m<module>\\x1b[0;34m()\\x1b[0m\\n\\x1b[0;32m----> 1\\x1b[0;31m \\x1b[0md\\x1b[0m \\x1b[0;34m=\\x1b[0m \\x1b[0;34m{\\x1b[0m\\x1b[0;34m[\\x1b[0m\\x1b[0;36m1\\x1b[0m\\x1b[0;34m,\\x1b[0m \\x1b[0;36m2\\x1b[0m\\x1b[0;34m]\\x1b[0m\\x1b[0;34m:\\x1b[0m \\x1b[0;36m1\\x1b[0m\\x1b[0;34m}\\x1b[0m\\x1b[0;34m\\x1b[0m\\x1b[0m\\n\\x1b[0m',\n",
       "      \"\\x1b[0;31mTypeError\\x1b[0m: unhashable type: 'list'\"]}],\n",
       "   'source': ['d = {[1, 2]: 1}']},\n",
       "  {'cell_type': 'markdown',\n",
       "   'metadata': {},\n",
       "   'source': ['- **порядок итерации по словарю произволен** : в отличие от ситуации со списком списка, элементы в словаре не упорядочены, а лежат в соответствии со своими хешами\\n',\n",
       "    '- **ключом словаря может быть только неизменяемый тип данных** : например: строки, числа, кортежи (списки, словари, множества не могут быть ключами)']},\n",
       "  {'cell_type': 'markdown', 'metadata': {}, 'source': ['## Кортежи']},\n",
       "  {'cell_type': 'markdown',\n",
       "   'metadata': {},\n",
       "   'source': ['Кортеж -- неизменяемый список\\n',\n",
       "    '\\n',\n",
       "    'Одно из применений -- можно использовать как ключ словаря']},\n",
       "  {'cell_type': 'code',\n",
       "   'execution_count': 47,\n",
       "   'metadata': {},\n",
       "   'outputs': [{'data': {'text/plain': [\"(1, 2, 'Hello')\"]},\n",
       "     'execution_count': 47,\n",
       "     'metadata': {},\n",
       "     'output_type': 'execute_result'}],\n",
       "   'source': [\"c = (1, 2, 'Hello')\\n\", 'c']},\n",
       "  {'cell_type': 'code',\n",
       "   'execution_count': 48,\n",
       "   'metadata': {},\n",
       "   'outputs': [{'data': {'text/plain': ['(1, 2)']},\n",
       "     'execution_count': 48,\n",
       "     'metadata': {},\n",
       "     'output_type': 'execute_result'}],\n",
       "   'source': ['c[0:2]']},\n",
       "  {'cell_type': 'code',\n",
       "   'execution_count': None,\n",
       "   'metadata': {},\n",
       "   'outputs': [],\n",
       "   'source': ['c[0] = 0']},\n",
       "  {'cell_type': 'code',\n",
       "   'execution_count': None,\n",
       "   'metadata': {},\n",
       "   'outputs': [],\n",
       "   'source': ['d = {\\n',\n",
       "    \"    (1, 2): 'a',\\n\",\n",
       "    \"    (1, 3): 'b',\\n\",\n",
       "    \"    (2, 1): 'c'\\n\",\n",
       "    '}\\n',\n",
       "    'd']},\n",
       "  {'cell_type': 'code',\n",
       "   'execution_count': None,\n",
       "   'metadata': {},\n",
       "   'outputs': [],\n",
       "   'source': []},\n",
       "  {'cell_type': 'markdown', 'metadata': {}, 'source': ['## Множества']},\n",
       "  {'cell_type': 'markdown',\n",
       "   'metadata': {},\n",
       "   'source': ['Набор уникальных элементов\\n',\n",
       "    '\\n',\n",
       "    'Поддерживает операцию `in` за константное время (в случае со списком это `O(n)`)']},\n",
       "  {'cell_type': 'code',\n",
       "   'execution_count': 49,\n",
       "   'metadata': {},\n",
       "   'outputs': [{'data': {'text/plain': ['{1, 2, 3, 4}']},\n",
       "     'execution_count': 49,\n",
       "     'metadata': {},\n",
       "     'output_type': 'execute_result'}],\n",
       "   'source': ['s = set([1, 2, 3, 4, 3, 2, 1])\\n', 's']},\n",
       "  {'cell_type': 'code',\n",
       "   'execution_count': 50,\n",
       "   'metadata': {},\n",
       "   'outputs': [{'name': 'stdout',\n",
       "     'output_type': 'stream',\n",
       "     'text': ['True\\n', 'False\\n', 'True\\n']}],\n",
       "   'source': ['print(1 in s)\\n', 'print(5 in s)\\n', 'print(5 not in s)']},\n",
       "  {'cell_type': 'code',\n",
       "   'execution_count': 51,\n",
       "   'metadata': {},\n",
       "   'outputs': [{'data': {'text/plain': ['{1, 2, 3, 4, 10}']},\n",
       "     'execution_count': 51,\n",
       "     'metadata': {},\n",
       "     'output_type': 'execute_result'}],\n",
       "   'source': ['s.add(10)\\n', 's']},\n",
       "  {'cell_type': 'code',\n",
       "   'execution_count': 52,\n",
       "   'metadata': {},\n",
       "   'outputs': [{'data': {'text/plain': ['{1, 2, 3, 4, 10}']},\n",
       "     'execution_count': 52,\n",
       "     'metadata': {},\n",
       "     'output_type': 'execute_result'}],\n",
       "   'source': ['s.add(1)\\n', 's']},\n",
       "  {'cell_type': 'markdown',\n",
       "   'metadata': {},\n",
       "   'source': ['**элементы множества неупорядочены также как и ключи в массиве**']},\n",
       "  {'cell_type': 'code',\n",
       "   'execution_count': 53,\n",
       "   'metadata': {},\n",
       "   'outputs': [{'ename': 'TypeError',\n",
       "     'evalue': \"'set' object does not support indexing\",\n",
       "     'output_type': 'error',\n",
       "     'traceback': ['\\x1b[0;31m---------------------------------------------------------------------------\\x1b[0m',\n",
       "      '\\x1b[0;31mTypeError\\x1b[0m                                 Traceback (most recent call last)',\n",
       "      '\\x1b[0;32m<ipython-input-53-c9c96910e542>\\x1b[0m in \\x1b[0;36m<module>\\x1b[0;34m()\\x1b[0m\\n\\x1b[0;32m----> 1\\x1b[0;31m \\x1b[0ms\\x1b[0m\\x1b[0;34m[\\x1b[0m\\x1b[0;36m0\\x1b[0m\\x1b[0;34m]\\x1b[0m\\x1b[0;34m\\x1b[0m\\x1b[0m\\n\\x1b[0m',\n",
       "      \"\\x1b[0;31mTypeError\\x1b[0m: 'set' object does not support indexing\"]}],\n",
       "   'source': ['s[0]']},\n",
       "  {'cell_type': 'markdown',\n",
       "   'metadata': {},\n",
       "   'source': ['доступ к элементам множества можно получить через `for ... in` или `list(s)`']},\n",
       "  {'cell_type': 'code',\n",
       "   'execution_count': 54,\n",
       "   'metadata': {},\n",
       "   'outputs': [{'data': {'text/plain': ['[1, 2, 3, 4, 10]']},\n",
       "     'execution_count': 54,\n",
       "     'metadata': {},\n",
       "     'output_type': 'execute_result'}],\n",
       "   'source': ['list(s)']},\n",
       "  {'cell_type': 'markdown',\n",
       "   'metadata': {},\n",
       "   'source': ['Также есть много удобных функций для множеств, например объединение двух множеств']},\n",
       "  {'cell_type': 'code',\n",
       "   'execution_count': 55,\n",
       "   'metadata': {},\n",
       "   'outputs': [{'data': {'text/plain': ['{1, 2, 3, 4, 5}']},\n",
       "     'execution_count': 55,\n",
       "     'metadata': {},\n",
       "     'output_type': 'execute_result'}],\n",
       "   'source': ['s1 = {1, 2, 3, 4}\\n', 's2 = {2, 3, 4, 5}\\n', 's1.union(s2)']},\n",
       "  {'cell_type': 'markdown', 'metadata': {}, 'source': ['или разность']},\n",
       "  {'cell_type': 'code',\n",
       "   'execution_count': 56,\n",
       "   'metadata': {},\n",
       "   'outputs': [{'data': {'text/plain': ['{1}']},\n",
       "     'execution_count': 56,\n",
       "     'metadata': {},\n",
       "     'output_type': 'execute_result'}],\n",
       "   'source': ['s1 - s2']},\n",
       "  {'cell_type': 'markdown',\n",
       "   'metadata': {},\n",
       "   'source': ['Множества позволяют элегантно решать некоторые задачи, например нахождение количества уникальных слов в тексте']},\n",
       "  {'cell_type': 'code',\n",
       "   'execution_count': 57,\n",
       "   'metadata': {},\n",
       "   'outputs': [{'data': {'text/plain': [\"['the',\\n\",\n",
       "       \" 'adventures',\\n\",\n",
       "       \" 'of',\\n\",\n",
       "       \" 'sherlock',\\n\",\n",
       "       \" 'holmes',\\n\",\n",
       "       \" 'arthur',\\n\",\n",
       "       \" 'conan',\\n\",\n",
       "       \" 'doyle',\\n\",\n",
       "       \" 'table',\\n\",\n",
       "       \" 'of']\"]},\n",
       "     'execution_count': 57,\n",
       "     'metadata': {},\n",
       "     'output_type': 'execute_result'}],\n",
       "   'source': [\"with open('sherlock.txt') as f:\\n\",\n",
       "    '    text = f.read().lower()\\n',\n",
       "    '\\n',\n",
       "    'word_list = text.split()\\n',\n",
       "    'word_list[:10]']},\n",
       "  {'cell_type': 'code',\n",
       "   'execution_count': 59,\n",
       "   'metadata': {},\n",
       "   'outputs': [],\n",
       "   'source': ['word_set = set(word_list)']},\n",
       "  {'cell_type': 'code',\n",
       "   'execution_count': 60,\n",
       "   'metadata': {},\n",
       "   'outputs': [{'data': {'text/plain': ['14093']},\n",
       "     'execution_count': 60,\n",
       "     'metadata': {},\n",
       "     'output_type': 'execute_result'}],\n",
       "   'source': ['len(word_set)']},\n",
       "  {'cell_type': 'markdown',\n",
       "   'metadata': {},\n",
       "   'source': ['найдем, какие буквы не встречаются в данной фразе']},\n",
       "  {'cell_type': 'code',\n",
       "   'execution_count': 61,\n",
       "   'metadata': {},\n",
       "   'outputs': [],\n",
       "   'source': [\"s = 'Neque porro quisquam est qui dolorem ipsum quia dolor sit amet, consectetur, adipisci velit'\"]},\n",
       "  {'cell_type': 'code',\n",
       "   'execution_count': 62,\n",
       "   'metadata': {},\n",
       "   'outputs': [{'name': 'stdout',\n",
       "     'output_type': 'stream',\n",
       "     'text': ['97\\n', '122\\n', 'b\\n']}],\n",
       "   'source': [\"print(ord('a'))\\n\", \"print(ord('z'))\\n\", 'print(chr(98))']},\n",
       "  {'cell_type': 'code',\n",
       "   'execution_count': None,\n",
       "   'metadata': {},\n",
       "   'outputs': [],\n",
       "   'source': [\"set(map(chr, range(ord('a'), ord('z')+1))) - set(s.lower())\"]},\n",
       "  {'cell_type': 'code',\n",
       "   'execution_count': None,\n",
       "   'metadata': {},\n",
       "   'outputs': [],\n",
       "   'source': ['from collections import Counter\\n',\n",
       "    '\\n',\n",
       "    'c = Counter()\\n',\n",
       "    'c.update(text.split())']},\n",
       "  {'cell_type': 'code',\n",
       "   'execution_count': None,\n",
       "   'metadata': {},\n",
       "   'outputs': [],\n",
       "   'source': [\"c.update(['the', 'the'])\"]},\n",
       "  {'cell_type': 'code',\n",
       "   'execution_count': None,\n",
       "   'metadata': {},\n",
       "   'outputs': [],\n",
       "   'source': [\"c['the']\"]},\n",
       "  {'cell_type': 'code',\n",
       "   'execution_count': None,\n",
       "   'metadata': {},\n",
       "   'outputs': [],\n",
       "   'source': []},\n",
       "  {'cell_type': 'code',\n",
       "   'execution_count': None,\n",
       "   'metadata': {},\n",
       "   'outputs': [],\n",
       "   'source': []},\n",
       "  {'cell_type': 'code',\n",
       "   'execution_count': None,\n",
       "   'metadata': {},\n",
       "   'outputs': [],\n",
       "   'source': []},\n",
       "  {'cell_type': 'code',\n",
       "   'execution_count': None,\n",
       "   'metadata': {},\n",
       "   'outputs': [],\n",
       "   'source': []},\n",
       "  {'cell_type': 'code',\n",
       "   'execution_count': None,\n",
       "   'metadata': {},\n",
       "   'outputs': [],\n",
       "   'source': []},\n",
       "  {'cell_type': 'code',\n",
       "   'execution_count': None,\n",
       "   'metadata': {},\n",
       "   'outputs': [],\n",
       "   'source': []},\n",
       "  {'cell_type': 'markdown', 'metadata': {}, 'source': ['## Работа с файлами']},\n",
       "  {'cell_type': 'code',\n",
       "   'execution_count': 63,\n",
       "   'metadata': {},\n",
       "   'outputs': [{'data': {'text/plain': [\"'\\\\n\\\\n\\\\n\\\\n                        THE ADVENTURES OF SHERLOCK HOLMES\\\\n\\\\n                               Arthur Conan Doyle\\\\n\\\\n\\\\n\\\\n                                Table of contents\\\\n\\\\n               A Scandal in Bohem'\"]},\n",
       "     'execution_count': 63,\n",
       "     'metadata': {},\n",
       "     'output_type': 'execute_result'}],\n",
       "   'source': [\"file = open('sherlock.txt', 'r', encoding='utf-8')\\n\",\n",
       "    'text1 = file.read()\\n',\n",
       "    'file.close()\\n',\n",
       "    'text1[:200]']},\n",
       "  {'cell_type': 'code',\n",
       "   'execution_count': 64,\n",
       "   'metadata': {},\n",
       "   'outputs': [{'data': {'text/plain': [\"'\\\\n\\\\n\\\\n\\\\n                        THE ADVENTURES OF SHERLOCK HOLMES\\\\n\\\\n                               Arthur Conan Doyle\\\\n\\\\n\\\\n\\\\n                                Table of contents\\\\n\\\\n               A Scandal in Bohem'\"]},\n",
       "     'execution_count': 64,\n",
       "     'metadata': {},\n",
       "     'output_type': 'execute_result'}],\n",
       "   'source': [\"with open('sherlock.txt', encoding='utf8') as f:\\n\",\n",
       "    '    text2 = f.read()\\n',\n",
       "    'text2[:200]']},\n",
       "  {'cell_type': 'code',\n",
       "   'execution_count': 65,\n",
       "   'metadata': {},\n",
       "   'outputs': [],\n",
       "   'source': [\"with open('out.txt', 'w') as f:\\n\",\n",
       "    '    f.write(\"\\\\nI\\'m \\\\nwriting\\\\n to file!!!\\\\n\")']},\n",
       "  {'cell_type': 'code',\n",
       "   'execution_count': 66,\n",
       "   'metadata': {},\n",
       "   'outputs': [],\n",
       "   'source': [\"with open('out.txt', 'a') as f:\\n\",\n",
       "    '    f.write(\"\\\\nI\\'m \\\\nwriting\\\\n to file!!!\\\\n\")']},\n",
       "  {'cell_type': 'code',\n",
       "   'execution_count': 67,\n",
       "   'metadata': {},\n",
       "   'outputs': [{'name': 'stdout',\n",
       "     'output_type': 'stream',\n",
       "     'text': ['12195\\n']}],\n",
       "   'source': [\"with open('sherlock.txt') as f:\\n\",\n",
       "    '    i = 0\\n',\n",
       "    '    for line in f:\\n',\n",
       "    '        i += 1\\n',\n",
       "    'print(i)']},\n",
       "  {'cell_type': 'code',\n",
       "   'execution_count': 68,\n",
       "   'metadata': {},\n",
       "   'outputs': [],\n",
       "   'source': ['import os']},\n",
       "  {'cell_type': 'code',\n",
       "   'execution_count': 69,\n",
       "   'metadata': {},\n",
       "   'outputs': [{'data': {'text/plain': [\"['out.txt',\\n\",\n",
       "       \" 'Lesson_1.ipynb',\\n\",\n",
       "       \" '.ipynb_checkpoints',\\n\",\n",
       "       \" 'create_corpus_example.py',\\n\",\n",
       "       \" 'Lesson_2.ipynb',\\n\",\n",
       "       \" 'Lesson_3.ipynb',\\n\",\n",
       "       \" 'sherlock.txt',\\n\",\n",
       "       \" 'Homework_2.ipynb']\"]},\n",
       "     'execution_count': 69,\n",
       "     'metadata': {},\n",
       "     'output_type': 'execute_result'}],\n",
       "   'source': ['os.listdir()']},\n",
       "  {'cell_type': 'markdown',\n",
       "   'metadata': {},\n",
       "   'source': ['Мини задачка: пройдите по всем файлам в текущей директории и выведите имя и первые 100 символов каждого файла (вам понадобится функция `os.path.isfile`)']},\n",
       "  {'cell_type': 'code',\n",
       "   'execution_count': 71,\n",
       "   'metadata': {},\n",
       "   'outputs': [{'data': {'text/plain': ['False']},\n",
       "     'execution_count': 71,\n",
       "     'metadata': {},\n",
       "     'output_type': 'execute_result'}],\n",
       "   'source': [\"os.path.isfile('.ipyn')\"]},\n",
       "  {'cell_type': 'code',\n",
       "   'execution_count': 72,\n",
       "   'metadata': {},\n",
       "   'outputs': [{'name': 'stdout',\n",
       "     'output_type': 'stream',\n",
       "     'text': ['\\n',\n",
       "      \"I'm \\n\",\n",
       "      'writing\\n',\n",
       "      ' to file!!!\\n',\n",
       "      '\\n',\n",
       "      \"I'm \\n\",\n",
       "      'writing\\n',\n",
       "      ' to file!!!\\n',\n",
       "      '\\n',\n",
       "      '{\\n',\n",
       "      ' \"cells\": [\\n',\n",
       "      '  {\\n',\n",
       "      '   \"cell_type\": \"markdown\",\\n',\n",
       "      '   \"metadata\": {},\\n',\n",
       "      '   \"source\": [\\n',\n",
       "      '    \"## Jupyter Note\\n',\n",
       "      'import requests\\n',\n",
       "      'from bs4 import BeautifulSoup\\n',\n",
       "      'import urllib\\n',\n",
       "      'import re\\n',\n",
       "      '\\n',\n",
       "      '# здесь создаётся корпус\\n',\n",
       "      'mar_\\n',\n",
       "      '{\\n',\n",
       "      ' \"cells\": [\\n',\n",
       "      '  {\\n',\n",
       "      '   \"cell_type\": \"markdown\",\\n',\n",
       "      '   \"metadata\": {},\\n',\n",
       "      '   \"source\": [\\n',\n",
       "      '    \"## Списки\"\\n',\n",
       "      '   ]\\n',\n",
       "      '{\\n',\n",
       "      ' \"cells\": [\\n',\n",
       "      '  {\\n',\n",
       "      '   \"cell_type\": \"markdown\",\\n',\n",
       "      '   \"metadata\": {},\\n',\n",
       "      '   \"source\": [\\n',\n",
       "      '    \"## Функции\"\\n',\n",
       "      '   \\n',\n",
       "      '\\n',\n",
       "      '\\n',\n",
       "      '\\n',\n",
       "      '\\n',\n",
       "      '                        THE ADVENTURES OF SHERLOCK HOLMES\\n',\n",
       "      '\\n',\n",
       "      '                               Arthur\\n',\n",
       "      '{\\n',\n",
       "      ' \"cells\": [\\n',\n",
       "      '  {\\n',\n",
       "      '   \"cell_type\": \"markdown\",\\n',\n",
       "      '   \"metadata\": {},\\n',\n",
       "      '   \"source\": [\\n',\n",
       "      '    \"# Homework 2\\\\n\"\\n']}],\n",
       "   'source': ['for path in os.listdir():\\n',\n",
       "    '    if os.path.isfile(path):\\n',\n",
       "    '        try:\\n',\n",
       "    \"            with open(path, encoding='utf8') as f:\\n\",\n",
       "    '                print(f.read()[:100])\\n',\n",
       "    '        except:\\n',\n",
       "    '            pass']},\n",
       "  {'cell_type': 'code',\n",
       "   'execution_count': 75,\n",
       "   'metadata': {},\n",
       "   'outputs': [],\n",
       "   'source': [\"marks = {'bob': {'city': 'a','age': 1},\\n\",\n",
       "    '    1: 4,\\n',\n",
       "    \"    'dan': [1, 2],\\n\",\n",
       "    \"    'bill': 3}\"]},\n",
       "  {'cell_type': 'markdown',\n",
       "   'metadata': {},\n",
       "   'source': ['## Словари json\\n',\n",
       "    '\\n',\n",
       "    '**json (JavaScript Object Notation)** - формат данных, или даже скорее формат обмена данных\\n',\n",
       "    '\\n',\n",
       "    'Независим от языка, на котором создаётся (можно передавать данные в формате json между программами, написанными на разных языках)']},\n",
       "  {'cell_type': 'code',\n",
       "   'execution_count': 73,\n",
       "   'metadata': {},\n",
       "   'outputs': [],\n",
       "   'source': ['import json']},\n",
       "  {'cell_type': 'code',\n",
       "   'execution_count': 76,\n",
       "   'metadata': {},\n",
       "   'outputs': [{'data': {'text/plain': ['\\'{\"bob\": {\"city\": \"a\", \"age\": 1}, \"1\": 4, \"dan\": [1, 2], \"bill\": 3}\\'']},\n",
       "     'execution_count': 76,\n",
       "     'metadata': {},\n",
       "     'output_type': 'execute_result'}],\n",
       "   'source': ['s = json.dumps(marks)\\n', 's']},\n",
       "  {'cell_type': 'code',\n",
       "   'execution_count': 77,\n",
       "   'metadata': {},\n",
       "   'outputs': [],\n",
       "   'source': [\"json.dump(marks, open('out.txt', 'w'))\"]},\n",
       "  {'cell_type': 'code',\n",
       "   'execution_count': 78,\n",
       "   'metadata': {},\n",
       "   'outputs': [{'data': {'text/plain': [\"{'1': 2}\"]},\n",
       "     'execution_count': 78,\n",
       "     'metadata': {},\n",
       "     'output_type': 'execute_result'}],\n",
       "   'source': ['s = \\'{\"1\": 2}\\'\\n', 'json.loads(s)']},\n",
       "  {'cell_type': 'code',\n",
       "   'execution_count': None,\n",
       "   'metadata': {},\n",
       "   'outputs': [],\n",
       "   'source': [\"json.load(open('out.txt'))\"]},\n",
       "  {'cell_type': 'code',\n",
       "   'execution_count': None,\n",
       "   'metadata': {},\n",
       "   'outputs': [],\n",
       "   'source': [\"json.load(open('Lesson_2.ipynb'))\"]},\n",
       "  {'cell_type': 'markdown', 'metadata': {}, 'source': ['## Создание функций']},\n",
       "  {'cell_type': 'code',\n",
       "   'execution_count': None,\n",
       "   'metadata': {},\n",
       "   'outputs': [],\n",
       "   'source': ['def greet():\\n', \"    print('Hello, world')\"]},\n",
       "  {'cell_type': 'code',\n",
       "   'execution_count': None,\n",
       "   'metadata': {},\n",
       "   'outputs': [],\n",
       "   'source': ['greet()']},\n",
       "  {'cell_type': 'code',\n",
       "   'execution_count': None,\n",
       "   'metadata': {},\n",
       "   'outputs': [],\n",
       "   'source': ['def return_greet():\\n', \"    return 'Hello world'\"]},\n",
       "  {'cell_type': 'code',\n",
       "   'execution_count': None,\n",
       "   'metadata': {},\n",
       "   'outputs': [],\n",
       "   'source': ['return_greet()']},\n",
       "  {'cell_type': 'code',\n",
       "   'execution_count': None,\n",
       "   'metadata': {},\n",
       "   'outputs': [],\n",
       "   'source': ['def plus(a, b):\\n', '    return a + b']},\n",
       "  {'cell_type': 'code',\n",
       "   'execution_count': None,\n",
       "   'metadata': {},\n",
       "   'outputs': [],\n",
       "   'source': ['plus(1, 2)']},\n",
       "  {'cell_type': 'code',\n",
       "   'execution_count': None,\n",
       "   'metadata': {},\n",
       "   'outputs': [],\n",
       "   'source': [\"plus('good', 'bye')\"]},\n",
       "  {'cell_type': 'markdown',\n",
       "   'metadata': {},\n",
       "   'source': ['**Переменные**: локальные vs глобальные']},\n",
       "  {'cell_type': 'code',\n",
       "   'execution_count': None,\n",
       "   'metadata': {},\n",
       "   'outputs': [],\n",
       "   'source': ['x = [1]  # глобальная переменная\\n',\n",
       "    '\\n',\n",
       "    'def f():\\n',\n",
       "    '    x.append(1)\\n',\n",
       "    '    print(x)  # так делать не следует !!\\n',\n",
       "    '\\n',\n",
       "    'f()']},\n",
       "  {'cell_type': 'code',\n",
       "   'execution_count': None,\n",
       "   'metadata': {},\n",
       "   'outputs': [],\n",
       "   'source': ['x = [1]  # глобальная переменная\\n',\n",
       "    '\\n',\n",
       "    'def f():\\n',\n",
       "    '    x = [2]  # это уже та же самая переменная что и глобальный x\\n',\n",
       "    '    print(x)\\n',\n",
       "    '    \\n',\n",
       "    'f()\\n',\n",
       "    'print(x)  # видно что глобальный x не изменился']},\n",
       "  {'cell_type': 'markdown',\n",
       "   'metadata': {},\n",
       "   'source': ['Мини-задачка: напишите функцию factorial(x)']},\n",
       "  {'cell_type': 'code',\n",
       "   'execution_count': None,\n",
       "   'metadata': {},\n",
       "   'outputs': [],\n",
       "   'source': []}],\n",
       " 'metadata': {'kernelspec': {'display_name': 'Python 3',\n",
       "   'language': 'python',\n",
       "   'name': 'python3'},\n",
       "  'language_info': {'codemirror_mode': {'name': 'ipython', 'version': 3},\n",
       "   'file_extension': '.py',\n",
       "   'mimetype': 'text/x-python',\n",
       "   'name': 'python',\n",
       "   'nbconvert_exporter': 'python',\n",
       "   'pygments_lexer': 'ipython3',\n",
       "   'version': '3.6.6'}},\n",
       " 'nbformat': 4,\n",
       " 'nbformat_minor': 2}"
      ]
     },
     "execution_count": 80,
     "metadata": {},
     "output_type": "execute_result"
    }
   ],
   "source": [
    "json.load(open('Lesson_2.ipynb'))"
   ]
  },
  {
   "cell_type": "markdown",
   "metadata": {},
   "source": [
    "## Создание функций"
   ]
  },
  {
   "cell_type": "code",
   "execution_count": 86,
   "metadata": {},
   "outputs": [],
   "source": [
    "def greet():\n",
    "    print('Hello, world')"
   ]
  },
  {
   "cell_type": "code",
   "execution_count": 87,
   "metadata": {},
   "outputs": [
    {
     "name": "stdout",
     "output_type": "stream",
     "text": [
      "Hello, world\n"
     ]
    }
   ],
   "source": [
    "greet()"
   ]
  },
  {
   "cell_type": "code",
   "execution_count": 88,
   "metadata": {},
   "outputs": [],
   "source": [
    "def return_greet():\n",
    "    return 'Hello world'"
   ]
  },
  {
   "cell_type": "code",
   "execution_count": 89,
   "metadata": {},
   "outputs": [
    {
     "data": {
      "text/plain": [
       "'Hello world'"
      ]
     },
     "execution_count": 89,
     "metadata": {},
     "output_type": "execute_result"
    }
   ],
   "source": [
    "return_greet()"
   ]
  },
  {
   "cell_type": "code",
   "execution_count": 91,
   "metadata": {},
   "outputs": [
    {
     "data": {
      "text/plain": [
       "'Hello world'"
      ]
     },
     "execution_count": 91,
     "metadata": {},
     "output_type": "execute_result"
    }
   ],
   "source": [
    "hw = return_greet()\n",
    "hw"
   ]
  },
  {
   "cell_type": "code",
   "execution_count": 93,
   "metadata": {},
   "outputs": [],
   "source": [
    "def plus(a, b):\n",
    "    return a + b"
   ]
  },
  {
   "cell_type": "code",
   "execution_count": 94,
   "metadata": {},
   "outputs": [
    {
     "data": {
      "text/plain": [
       "3"
      ]
     },
     "execution_count": 94,
     "metadata": {},
     "output_type": "execute_result"
    }
   ],
   "source": [
    "plus(1, 2)"
   ]
  },
  {
   "cell_type": "code",
   "execution_count": 95,
   "metadata": {},
   "outputs": [
    {
     "data": {
      "text/plain": [
       "'goodbye'"
      ]
     },
     "execution_count": 95,
     "metadata": {},
     "output_type": "execute_result"
    }
   ],
   "source": [
    "plus('good', 'bye')"
   ]
  },
  {
   "cell_type": "markdown",
   "metadata": {},
   "source": [
    "**Переменные**: локальные vs глобальные"
   ]
  },
  {
   "cell_type": "code",
   "execution_count": 96,
   "metadata": {},
   "outputs": [
    {
     "name": "stdout",
     "output_type": "stream",
     "text": [
      "[1, 1]\n"
     ]
    }
   ],
   "source": [
    "x = [1]  # глобальная переменная\n",
    "\n",
    "def f():\n",
    "    x.append(1)\n",
    "    print(x)  # так делать не следует !!\n",
    "\n",
    "f()"
   ]
  },
  {
   "cell_type": "code",
   "execution_count": null,
   "metadata": {},
   "outputs": [],
   "source": [
    "x = [1]  # глобальная переменная\n",
    "\n",
    "def f():\n",
    "    x = [2]  # это уже та же самая переменная что и глобальный x\n",
    "    print(x)\n",
    "    \n",
    "f()\n",
    "print(x)  # видно что глобальный x не изменился"
   ]
  },
  {
   "cell_type": "markdown",
   "metadata": {},
   "source": [
    "Мини-задачка: напишите функцию factorial(x)"
   ]
  },
  {
   "cell_type": "code",
   "execution_count": null,
   "metadata": {},
   "outputs": [],
   "source": []
  }
 ],
 "metadata": {
  "kernelspec": {
   "display_name": "Python 3",
   "language": "python",
   "name": "python3"
  },
  "language_info": {
   "codemirror_mode": {
    "name": "ipython",
    "version": 3
   },
   "file_extension": ".py",
   "mimetype": "text/x-python",
   "name": "python",
   "nbconvert_exporter": "python",
   "pygments_lexer": "ipython3",
   "version": "3.6.6"
  }
 },
 "nbformat": 4,
 "nbformat_minor": 2
}
