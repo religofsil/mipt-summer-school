{
 "cells": [
  {
   "cell_type": "markdown",
   "metadata": {},
   "source": [
    "## Списки"
   ]
  },
  {
   "cell_type": "markdown",
   "metadata": {},
   "source": [
    "Ещё один тип данных, которые вчера уже попадались - списки."
   ]
  },
  {
   "cell_type": "code",
   "execution_count": 18,
   "metadata": {},
   "outputs": [
    {
     "data": {
      "text/plain": [
       "[1, 2, 11, 12, 3, 4, 13, 14]"
      ]
     },
     "execution_count": 18,
     "metadata": {},
     "output_type": "execute_result"
    }
   ],
   "source": [
    "l = [1, 2, 11, 12, 3, 4, 13, 14]\n",
    "l"
   ]
  },
  {
   "cell_type": "markdown",
   "metadata": {},
   "source": [
    "Работа со списками частично похожа на работу со строками.\n",
    "\n",
    "- нумерация элементов тоже начинается с 0"
   ]
  },
  {
   "cell_type": "code",
   "execution_count": 19,
   "metadata": {},
   "outputs": [
    {
     "data": {
      "text/plain": [
       "1"
      ]
     },
     "execution_count": 19,
     "metadata": {},
     "output_type": "execute_result"
    }
   ],
   "source": [
    "l[0]"
   ]
  },
  {
   "cell_type": "markdown",
   "metadata": {},
   "source": [
    "- длина узнаётся так же"
   ]
  },
  {
   "cell_type": "code",
   "execution_count": 20,
   "metadata": {},
   "outputs": [
    {
     "data": {
      "text/plain": [
       "8"
      ]
     },
     "execution_count": 20,
     "metadata": {},
     "output_type": "execute_result"
    }
   ],
   "source": [
    "len(l)"
   ]
  },
  {
   "cell_type": "markdown",
   "metadata": {},
   "source": [
    "- тоже можно доставать конкретные куски списка через индексацию: будут выданы в виде списка"
   ]
  },
  {
   "cell_type": "code",
   "execution_count": 21,
   "metadata": {},
   "outputs": [
    {
     "data": {
      "text/plain": [
       "[11, 12]"
      ]
     },
     "execution_count": 21,
     "metadata": {},
     "output_type": "execute_result"
    }
   ],
   "source": [
    "l[2:4]"
   ]
  },
  {
   "cell_type": "markdown",
   "metadata": {},
   "source": [
    "- так же можно менять шаг "
   ]
  },
  {
   "cell_type": "code",
   "execution_count": 22,
   "metadata": {},
   "outputs": [
    {
     "data": {
      "text/plain": [
       "[1, 11, 3, 13]"
      ]
     },
     "execution_count": 22,
     "metadata": {},
     "output_type": "execute_result"
    }
   ],
   "source": [
    "l[::2]"
   ]
  },
  {
   "cell_type": "markdown",
   "metadata": {},
   "source": [
    "- и обращаться с конца"
   ]
  },
  {
   "cell_type": "code",
   "execution_count": 23,
   "metadata": {},
   "outputs": [
    {
     "data": {
      "text/plain": [
       "13"
      ]
     },
     "execution_count": 23,
     "metadata": {},
     "output_type": "execute_result"
    }
   ],
   "source": [
    "l[-2]"
   ]
  },
  {
   "cell_type": "code",
   "execution_count": 27,
   "metadata": {},
   "outputs": [
    {
     "data": {
      "text/plain": [
       "[4, 3, 12, 11]"
      ]
     },
     "execution_count": 27,
     "metadata": {},
     "output_type": "execute_result"
    }
   ],
   "source": [
    "l[5:1:-1]"
   ]
  },
  {
   "cell_type": "code",
   "execution_count": 28,
   "metadata": {},
   "outputs": [
    {
     "data": {
      "text/plain": [
       "[4, 3, 12, 11]"
      ]
     },
     "execution_count": 28,
     "metadata": {},
     "output_type": "execute_result"
    }
   ],
   "source": [
    "l[5:1:-1]"
   ]
  },
  {
   "cell_type": "markdown",
   "metadata": {},
   "source": [
    "В отличие от строк\n",
    "\n",
    "- элементы списка можно изменять"
   ]
  },
  {
   "cell_type": "code",
   "execution_count": 52,
   "metadata": {},
   "outputs": [
    {
     "data": {
      "text/plain": [
       "[100500]"
      ]
     },
     "execution_count": 52,
     "metadata": {},
     "output_type": "execute_result"
    }
   ],
   "source": [
    "l[0] = 100500\n",
    "l"
   ]
  },
  {
   "cell_type": "code",
   "execution_count": 53,
   "metadata": {},
   "outputs": [
    {
     "data": {
      "text/plain": [
       "[100500, 0, 0]"
      ]
     },
     "execution_count": 53,
     "metadata": {},
     "output_type": "execute_result"
    }
   ],
   "source": [
    "l[1:3] = [0, 0]\n",
    "l"
   ]
  },
  {
   "cell_type": "code",
   "execution_count": 71,
   "metadata": {},
   "outputs": [
    {
     "data": {
      "text/plain": [
       "[[1, 2], [8, 9], 2, 12, 85, 0, 6, None, 'not a number']"
      ]
     },
     "execution_count": 71,
     "metadata": {},
     "output_type": "execute_result"
    }
   ],
   "source": [
    "l[2:3] = [2, 12, 85, 0, 6, None, 'not a number']\n",
    "l"
   ]
  },
  {
   "cell_type": "code",
   "execution_count": 72,
   "metadata": {},
   "outputs": [
    {
     "data": {
      "text/plain": [
       "[1]"
      ]
     },
     "execution_count": 72,
     "metadata": {},
     "output_type": "execute_result"
    }
   ],
   "source": [
    "l[:] = [1]\n",
    "l"
   ]
  },
  {
   "cell_type": "code",
   "execution_count": 73,
   "metadata": {},
   "outputs": [
    {
     "data": {
      "text/plain": [
       "[[1, 2], [8, 9]]"
      ]
     },
     "execution_count": 73,
     "metadata": {},
     "output_type": "execute_result"
    }
   ],
   "source": [
    "l[:] = [[1, 2], [8, 9]]\n",
    "l"
   ]
  },
  {
   "cell_type": "markdown",
   "metadata": {},
   "source": [
    "- новые элементы присоединяются через функцию .append"
   ]
  },
  {
   "cell_type": "code",
   "execution_count": 74,
   "metadata": {},
   "outputs": [
    {
     "data": {
      "text/plain": [
       "[[1, 2], [8, 9], '1337']"
      ]
     },
     "execution_count": 74,
     "metadata": {},
     "output_type": "execute_result"
    }
   ],
   "source": [
    "l.append('1337')\n",
    "l"
   ]
  },
  {
   "cell_type": "code",
   "execution_count": 75,
   "metadata": {},
   "outputs": [
    {
     "ename": "TypeError",
     "evalue": "can only concatenate list (not \"str\") to list",
     "output_type": "error",
     "traceback": [
      "\u001b[0;31m---------------------------------------------------------------------------\u001b[0m",
      "\u001b[0;31mTypeError\u001b[0m                                 Traceback (most recent call last)",
      "\u001b[0;32m<ipython-input-75-7ce76b854b63>\u001b[0m in \u001b[0;36m<module>\u001b[0;34m()\u001b[0m\n\u001b[0;32m----> 1\u001b[0;31m \u001b[0ml\u001b[0m \u001b[0;34m+\u001b[0m \u001b[0;34m'1337'\u001b[0m\u001b[0;34m\u001b[0m\u001b[0m\n\u001b[0m",
      "\u001b[0;31mTypeError\u001b[0m: can only concatenate list (not \"str\") to list"
     ]
    }
   ],
   "source": [
    "l + '1337'"
   ]
  },
  {
   "cell_type": "markdown",
   "metadata": {},
   "source": [
    "- с помощью `+` нельзя присоединить просто отдельный элемент, но можно присоединить другой список"
   ]
  },
  {
   "cell_type": "code",
   "execution_count": 76,
   "metadata": {},
   "outputs": [
    {
     "data": {
      "text/plain": [
       "[[1, 2], [8, 9], '1337', 4, 5]"
      ]
     },
     "execution_count": 76,
     "metadata": {},
     "output_type": "execute_result"
    }
   ],
   "source": [
    "l + [4, 5]"
   ]
  },
  {
   "cell_type": "markdown",
   "metadata": {},
   "source": [
    "....и даже список, включающий в себя списки"
   ]
  },
  {
   "cell_type": "code",
   "execution_count": 77,
   "metadata": {},
   "outputs": [
    {
     "data": {
      "text/plain": [
       "[[1, 2], [8, 9], '1337', 5, [1, 2], [3, 4], [5, 6]]"
      ]
     },
     "execution_count": 77,
     "metadata": {},
     "output_type": "execute_result"
    }
   ],
   "source": [
    "l + [5, [1, 2], [3, 4], [5, 6]]"
   ]
  },
  {
   "cell_type": "markdown",
   "metadata": {},
   "source": []
  },
  {
   "cell_type": "code",
   "execution_count": 88,
   "metadata": {},
   "outputs": [
    {
     "data": {
      "text/plain": [
       "[0, 20, 40, 60, 80]"
      ]
     },
     "execution_count": 88,
     "metadata": {},
     "output_type": "execute_result"
    }
   ],
   "source": [
    "list(range(0, 100, 20))"
   ]
  },
  {
   "cell_type": "markdown",
   "metadata": {},
   "source": [
    "- http://pythontutor.ru/lessons/lists/problems/increasing_neighbours/\n",
    "\n",
    "Здесь вам будет нужна функция split(), которая сделает из строки с числами список"
   ]
  },
  {
   "cell_type": "code",
   "execution_count": 100,
   "metadata": {},
   "outputs": [
    {
     "data": {
      "text/plain": [
       "['1', '2', '3', '4', '5', '1']"
      ]
     },
     "execution_count": 100,
     "metadata": {},
     "output_type": "execute_result"
    }
   ],
   "source": [
    "inp = '1 2 3 4 5 1'\n",
    "inp = inp.split()\n",
    "inp"
   ]
  },
  {
   "cell_type": "code",
   "execution_count": 101,
   "metadata": {},
   "outputs": [
    {
     "data": {
      "text/plain": [
       "'24'"
      ]
     },
     "execution_count": 101,
     "metadata": {},
     "output_type": "execute_result"
    }
   ],
   "source": [
    "inp[1] + inp[3]"
   ]
  },
  {
   "cell_type": "code",
   "execution_count": 119,
   "metadata": {},
   "outputs": [
    {
     "data": {
      "text/plain": [
       "6"
      ]
     },
     "execution_count": 119,
     "metadata": {},
     "output_type": "execute_result"
    }
   ],
   "source": [
    "inp = [int(s) for s in inp] # превратить список строчных чисел в список чисел\n",
    "inp[1] + inp[3]"
   ]
  },
  {
   "cell_type": "markdown",
   "metadata": {},
   "source": [
    "- http://pythontutor.ru/lessons/lists/problems/same_sign_neighbours/\n",
    "\n",
    "Здесь нужна функция break, останавливающая цикл, если выполняется какое-то условие"
   ]
  },
  {
   "cell_type": "code",
   "execution_count": 93,
   "metadata": {},
   "outputs": [
    {
     "name": "stdout",
     "output_type": "stream",
     "text": [
      "1\n",
      "2\n",
      "3\n",
      "4\n",
      "5\n"
     ]
    }
   ],
   "source": [
    "for x in range(1, 10):\n",
    "    print(x)\n",
    "    if x % 5 == 0:\n",
    "        break"
   ]
  },
  {
   "cell_type": "markdown",
   "metadata": {},
   "source": [
    "- http://pythontutor.ru/lessons/lists/problems/maximal_element/ \n",
    "\n",
    "Функция index() возвращает индекс элемента, если он есть в списке. В случае, если элементов несколько, выдаётся индекс первого из них."
   ]
  },
  {
   "cell_type": "markdown",
   "metadata": {},
   "source": [
    "### Генерация списков"
   ]
  },
  {
   "cell_type": "code",
   "execution_count": 130,
   "metadata": {},
   "outputs": [
    {
     "data": {
      "text/plain": [
       "[0, 2, 4, 6, 8, 10, 12, 14, 16, 18, 20]"
      ]
     },
     "execution_count": 130,
     "metadata": {},
     "output_type": "execute_result"
    }
   ],
   "source": [
    "even_numbers1 = []\n",
    "for x in range(0, 21, 2):\n",
    "    even_numbers1.append(x)\n",
    "even_numbers1"
   ]
  },
  {
   "cell_type": "code",
   "execution_count": 128,
   "metadata": {},
   "outputs": [
    {
     "data": {
      "text/plain": [
       "[0, 2, 4, 6, 8, 10, 12, 14, 16, 18, 20]"
      ]
     },
     "execution_count": 128,
     "metadata": {},
     "output_type": "execute_result"
    }
   ],
   "source": [
    "even_numbers2 = [x for x in range(0, 21, 2)]\n",
    "even_numbers2"
   ]
  },
  {
   "cell_type": "markdown",
   "metadata": {},
   "source": [
    "По сути, одно и то же, просто иначе записано\n",
    "\n",
    "Синтаксис\n",
    "- выражение записывается в квадратных скобках\n",
    "- первое выражение (в данном случае переменная x) задаёт элементы списка\n",
    "- затем идёт цикл, как-то это выражение трасформирующий\n",
    "\n",
    "Можно усложнять обе части:"
   ]
  },
  {
   "cell_type": "code",
   "execution_count": 131,
   "metadata": {},
   "outputs": [
    {
     "data": {
      "text/plain": [
       "[0, 4, 16, 36, 64, 100, 144, 196, 256, 324, 400]"
      ]
     },
     "execution_count": 131,
     "metadata": {},
     "output_type": "execute_result"
    }
   ],
   "source": [
    "even_squares = [x ** 2 for x in range(0, 21, 2)]\n",
    "even_squares"
   ]
  },
  {
   "cell_type": "code",
   "execution_count": 136,
   "metadata": {},
   "outputs": [
    {
     "data": {
      "text/plain": [
       "[0.0, 14.0, 60.0, 138.0, 248.0, 390.0]"
      ]
     },
     "execution_count": 136,
     "metadata": {},
     "output_type": "execute_result"
    }
   ],
   "source": [
    "[x ** 2 - x / 2 for x in range(0, 21, 2) if x % 4 == 0] # в общем, всё, чего душа желает"
   ]
  },
  {
   "cell_type": "code",
   "execution_count": 138,
   "metadata": {},
   "outputs": [
    {
     "data": {
      "text/plain": [
       "[0.0, 14.0, 60.0, 138.0, 248.0, 390.0]"
      ]
     },
     "execution_count": 138,
     "metadata": {},
     "output_type": "execute_result"
    }
   ],
   "source": [
    "same_list = []\n",
    "for x in range(0, 21, 2):\n",
    "    if x % 4 == 0:\n",
    "        same_list.append(x ** 2 - x / 2)\n",
    "same_list"
   ]
  },
  {
   "cell_type": "markdown",
   "metadata": {},
   "source": [
    "Посмотреть подробнее можно [здесь](https://habr.com/post/30232/)"
   ]
  },
  {
   "cell_type": "markdown",
   "metadata": {},
   "source": [
    "## Ещё  немного про строки\n",
    "\n",
    "### .join()\n",
    "\n",
    "Соединяет элементы последовательности (списка) в строку с разделителем:\n",
    "\n",
    "str.join(list), где str - разделитель"
   ]
  },
  {
   "cell_type": "code",
   "execution_count": 122,
   "metadata": {},
   "outputs": [
    {
     "data": {
      "text/plain": [
       "'x*100=1'"
      ]
     },
     "execution_count": 122,
     "metadata": {},
     "output_type": "execute_result"
    }
   ],
   "source": [
    "equation = ['x', '*', '100', '=', '1']\n",
    "''.join(equation)"
   ]
  },
  {
   "cell_type": "code",
   "execution_count": 123,
   "metadata": {},
   "outputs": [
    {
     "data": {
      "text/plain": [
       "'x * 100 = 1'"
      ]
     },
     "execution_count": 123,
     "metadata": {},
     "output_type": "execute_result"
    }
   ],
   "source": [
    "' '.join(equation)"
   ]
  },
  {
   "cell_type": "markdown",
   "metadata": {},
   "source": [
    "http://pythontutor.ru/lessons/lists/problems/swap_neighbours/"
   ]
  },
  {
   "cell_type": "markdown",
   "metadata": {},
   "source": [
    "### .replace()\n",
    "Заменяет все вхождения одной строки на другую. \n",
    "\n",
    "str.replace(old, new), где str - изменяемая строка, old - то, что заменяется, new - то, на что заменяется"
   ]
  },
  {
   "cell_type": "code",
   "execution_count": 141,
   "metadata": {},
   "outputs": [
    {
     "data": {
      "text/plain": [
       "'I hate you'"
      ]
     },
     "execution_count": 141,
     "metadata": {},
     "output_type": "execute_result"
    }
   ],
   "source": [
    "message = 'I love you!'\n",
    "message.replace('love', 'hate')"
   ]
  },
  {
   "cell_type": "code",
   "execution_count": 142,
   "metadata": {},
   "outputs": [
    {
     "data": {
      "text/plain": [
       "'olololol'"
      ]
     },
     "execution_count": 142,
     "metadata": {},
     "output_type": "execute_result"
    }
   ],
   "source": [
    "message = 'oooo'\n",
    "message.replace('o', 'ol')"
   ]
  },
  {
   "cell_type": "markdown",
   "metadata": {},
   "source": [
    "### .title(), .lower(), .upper()\n",
    "\n",
    "Меняют регистр букв в строке"
   ]
  },
  {
   "cell_type": "code",
   "execution_count": 143,
   "metadata": {},
   "outputs": [],
   "source": [
    "song = 'Wish You Were Here - Pink Floyd'"
   ]
  },
  {
   "cell_type": "code",
   "execution_count": 145,
   "metadata": {},
   "outputs": [
    {
     "data": {
      "text/plain": [
       "'WISH YOU WERE HERE - PINK FLOYD'"
      ]
     },
     "execution_count": 145,
     "metadata": {},
     "output_type": "execute_result"
    }
   ],
   "source": [
    "song.upper()"
   ]
  },
  {
   "cell_type": "code",
   "execution_count": 146,
   "metadata": {},
   "outputs": [
    {
     "data": {
      "text/plain": [
       "'wish you were here - pink floyd'"
      ]
     },
     "execution_count": 146,
     "metadata": {},
     "output_type": "execute_result"
    }
   ],
   "source": [
    "song = song.lower()\n",
    "song"
   ]
  },
  {
   "cell_type": "code",
   "execution_count": 147,
   "metadata": {},
   "outputs": [
    {
     "data": {
      "text/plain": [
       "'Wish You Were Here - Pink Floyd'"
      ]
     },
     "execution_count": 147,
     "metadata": {},
     "output_type": "execute_result"
    }
   ],
   "source": [
    "song.title()"
   ]
  },
  {
   "cell_type": "markdown",
   "metadata": {},
   "source": [
    "Дополнительно почитать про методы строк можно [здесь](http://pythontutor.ru/lessons/str/), список методов [здесь](https://pythonworld.ru/tipy-dannyx-v-python/stroki-funkcii-i-metody-strok.html)"
   ]
  },
  {
   "cell_type": "markdown",
   "metadata": {},
   "source": [
    "### Специальные символы строк\n",
    "\n",
    "- \\n - перенос строки\n",
    "- \\t - табуляция"
   ]
  },
  {
   "cell_type": "code",
   "execution_count": 179,
   "metadata": {},
   "outputs": [
    {
     "name": "stdout",
     "output_type": "stream",
     "text": [
      "this\n",
      "\tline\n",
      "\t\tpretends\n",
      "\t\t\tto be\n",
      "\tthe code\n"
     ]
    }
   ],
   "source": [
    "symbols = 'this\\n\\tline\\n\\t\\tpretends\\n\\t\\t\\tto be\\n\\tthe code'\n",
    "print(symbols)"
   ]
  },
  {
   "cell_type": "markdown",
   "metadata": {},
   "source": [
    "Мини-задача: напишите программу, которая принимает на вход число n и порождает строку, которая при выводе через print() \"отодвигает\" каждое число на равное ему количество табуляций:\n",
    "\n",
    "Если n = 4, то:\n",
    "\n",
    "0\n",
    "\n",
    "    1\n",
    "        2\n",
    "            3"
   ]
  },
  {
   "cell_type": "markdown",
   "metadata": {},
   "source": [
    "## Словари"
   ]
  },
  {
   "cell_type": "markdown",
   "metadata": {},
   "source": [
    "Ещё одна изменяемая структура данных -- словарь (`dict`)\n",
    "\n",
    "Словарь хранит пары ключ значение и предоставляет быстрый доступ к значению по ключу."
   ]
  },
  {
   "cell_type": "code",
   "execution_count": 5,
   "metadata": {},
   "outputs": [
    {
     "data": {
      "text/plain": [
       "{'bob': 5, 'alice': 4, 'dan': 5, 'bill': 3}"
      ]
     },
     "execution_count": 5,
     "metadata": {},
     "output_type": "execute_result"
    }
   ],
   "source": [
    "# оценки разных людей чему-либо\n",
    "marks = {'bob': 5, 'alice': 4, 'dan': 5, 'bill': 3}\n",
    "marks"
   ]
  },
  {
   "cell_type": "code",
   "execution_count": 6,
   "metadata": {},
   "outputs": [
    {
     "data": {
      "text/plain": [
       "5"
      ]
     },
     "execution_count": 6,
     "metadata": {},
     "output_type": "execute_result"
    }
   ],
   "source": [
    "marks['bob']"
   ]
  },
  {
   "cell_type": "code",
   "execution_count": 7,
   "metadata": {},
   "outputs": [
    {
     "data": {
      "text/plain": [
       "{'bob': 5, 'alice': 5, 'dan': 5, 'bill': 3, 'anonymus': 1}"
      ]
     },
     "execution_count": 7,
     "metadata": {},
     "output_type": "execute_result"
    }
   ],
   "source": [
    "marks['alice'] = 5\n",
    "marks['anonymus'] = 1\n",
    "marks"
   ]
  },
  {
   "cell_type": "code",
   "execution_count": 9,
   "metadata": {},
   "outputs": [
    {
     "name": "stdout",
     "output_type": "stream",
     "text": [
      "True\n",
      "False\n"
     ]
    }
   ],
   "source": [
    "print('alice' in marks)\n",
    "print('mary' in marks)"
   ]
  },
  {
   "cell_type": "code",
   "execution_count": 10,
   "metadata": {},
   "outputs": [
    {
     "name": "stdout",
     "output_type": "stream",
     "text": [
      "dict_keys(['bob', 'alice', 'dan', 'bill', 'anonymus'])\n",
      "dict_values([5, 5, 5, 3, 1])\n",
      "dict_items([('bob', 5), ('alice', 5), ('dan', 5), ('bill', 3), ('anonymus', 1)])\n"
     ]
    }
   ],
   "source": [
    "print(marks.keys())\n",
    "print(marks.values())\n",
    "print(marks.items())"
   ]
  },
  {
   "cell_type": "code",
   "execution_count": 11,
   "metadata": {},
   "outputs": [
    {
     "name": "stdout",
     "output_type": "stream",
     "text": [
      "bob 5\n",
      "alice 5\n",
      "dan 5\n",
      "bill 3\n",
      "anonymus 1\n"
     ]
    }
   ],
   "source": [
    "for key in marks:\n",
    "    print(key, marks[key])"
   ]
  },
  {
   "cell_type": "code",
   "execution_count": 12,
   "metadata": {},
   "outputs": [
    {
     "ename": "TypeError",
     "evalue": "unhashable type: 'list'",
     "output_type": "error",
     "traceback": [
      "\u001b[0;31m---------------------------------------------------------------------------\u001b[0m",
      "\u001b[0;31mTypeError\u001b[0m                                 Traceback (most recent call last)",
      "\u001b[0;32m<ipython-input-12-d721cbe50421>\u001b[0m in \u001b[0;36m<module>\u001b[0;34m()\u001b[0m\n\u001b[0;32m----> 1\u001b[0;31m \u001b[0md\u001b[0m \u001b[0;34m=\u001b[0m \u001b[0;34m{\u001b[0m\u001b[0;34m[\u001b[0m\u001b[0;36m1\u001b[0m\u001b[0;34m,\u001b[0m \u001b[0;36m2\u001b[0m\u001b[0;34m]\u001b[0m\u001b[0;34m:\u001b[0m \u001b[0;36m1\u001b[0m\u001b[0;34m}\u001b[0m\u001b[0;34m\u001b[0m\u001b[0m\n\u001b[0m",
      "\u001b[0;31mTypeError\u001b[0m: unhashable type: 'list'"
     ]
    }
   ],
   "source": [
    "d = {[1, 2]: 1}"
   ]
  },
  {
   "cell_type": "markdown",
   "metadata": {},
   "source": [
    "- **порядок итерации по словарю произволен** : в отличие от ситуации со списком списка, элементы в словаре не упорядочены, а лежат в соответствии со своими хешами\n",
    "- **ключом словаря может быть только неизменяемый тип данных** : например: строки, числа, кортежи (списки, словари, множества не могут быть ключами)"
   ]
  },
  {
   "cell_type": "markdown",
   "metadata": {},
   "source": [
    "## Кортежи"
   ]
  },
  {
   "cell_type": "markdown",
   "metadata": {},
   "source": [
    "Кортеж -- неизменяемый список\n",
    "\n",
    "Одно из применений -- можно использовать как ключ словаря"
   ]
  },
  {
   "cell_type": "code",
   "execution_count": 11,
   "metadata": {},
   "outputs": [
    {
     "data": {
      "text/plain": [
       "(1, 2, 'Hello')"
      ]
     },
     "execution_count": 11,
     "metadata": {},
     "output_type": "execute_result"
    }
   ],
   "source": [
    "c = (1, 2, 'Hello')\n",
    "c"
   ]
  },
  {
   "cell_type": "code",
   "execution_count": 83,
   "metadata": {},
   "outputs": [
    {
     "data": {
      "text/plain": [
       "(1, 2)"
      ]
     },
     "execution_count": 83,
     "metadata": {},
     "output_type": "execute_result"
    }
   ],
   "source": [
    "c[0:2]"
   ]
  },
  {
   "cell_type": "code",
   "execution_count": 12,
   "metadata": {},
   "outputs": [
    {
     "ename": "TypeError",
     "evalue": "'tuple' object does not support item assignment",
     "output_type": "error",
     "traceback": [
      "\u001b[0;31m---------------------------------------------------------------------------\u001b[0m",
      "\u001b[0;31mTypeError\u001b[0m                                 Traceback (most recent call last)",
      "\u001b[0;32m<ipython-input-12-0aed5cd8f234>\u001b[0m in \u001b[0;36m<module>\u001b[0;34m()\u001b[0m\n\u001b[0;32m----> 1\u001b[0;31m \u001b[0mc\u001b[0m\u001b[0;34m[\u001b[0m\u001b[0;36m0\u001b[0m\u001b[0;34m]\u001b[0m \u001b[0;34m=\u001b[0m \u001b[0;36m0\u001b[0m\u001b[0;34m\u001b[0m\u001b[0m\n\u001b[0m",
      "\u001b[0;31mTypeError\u001b[0m: 'tuple' object does not support item assignment"
     ]
    }
   ],
   "source": [
    "c[0] = 0"
   ]
  },
  {
   "cell_type": "code",
   "execution_count": 85,
   "metadata": {},
   "outputs": [
    {
     "data": {
      "text/plain": [
       "{(1, 2): 'a', (1, 3): 'b', (2, 1): 'c'}"
      ]
     },
     "execution_count": 85,
     "metadata": {},
     "output_type": "execute_result"
    }
   ],
   "source": [
    "d = {\n",
    "    (1, 2): 'a',\n",
    "    (1, 3): 'b',\n",
    "    (2, 1): 'c'\n",
    "}\n",
    "d"
   ]
  },
  {
   "cell_type": "code",
   "execution_count": null,
   "metadata": {},
   "outputs": [],
   "source": []
  },
  {
   "cell_type": "markdown",
   "metadata": {},
   "source": [
    "## Множества"
   ]
  },
  {
   "cell_type": "markdown",
   "metadata": {},
   "source": [
    "Набор уникальных элементов\n",
    "\n",
    "Поддерживает операцию `in` за константное время (в случае со списком это `O(n)`)"
   ]
  },
  {
   "cell_type": "code",
   "execution_count": 87,
   "metadata": {},
   "outputs": [
    {
     "data": {
      "text/plain": [
       "{1, 2, 3, 4}"
      ]
     },
     "execution_count": 87,
     "metadata": {},
     "output_type": "execute_result"
    }
   ],
   "source": [
    "s = set([1, 2, 3, 4, 3, 2, 1])\n",
    "s"
   ]
  },
  {
   "cell_type": "code",
   "execution_count": 88,
   "metadata": {},
   "outputs": [
    {
     "name": "stdout",
     "output_type": "stream",
     "text": [
      "True\n",
      "False\n",
      "True\n"
     ]
    }
   ],
   "source": [
    "print(1 in s)\n",
    "print(5 in s)\n",
    "print(5 not in s)"
   ]
  },
  {
   "cell_type": "code",
   "execution_count": 92,
   "metadata": {},
   "outputs": [
    {
     "data": {
      "text/plain": [
       "{1, 2, 3, 4, 10}"
      ]
     },
     "execution_count": 92,
     "metadata": {},
     "output_type": "execute_result"
    }
   ],
   "source": [
    "s.add(10)\n",
    "s"
   ]
  },
  {
   "cell_type": "code",
   "execution_count": 93,
   "metadata": {},
   "outputs": [
    {
     "data": {
      "text/plain": [
       "{1, 2, 3, 4, 10}"
      ]
     },
     "execution_count": 93,
     "metadata": {},
     "output_type": "execute_result"
    }
   ],
   "source": [
    "s.add(1)\n",
    "s"
   ]
  },
  {
   "cell_type": "markdown",
   "metadata": {},
   "source": [
    "**элементы множества неупорядочены также как и ключи в массиве**"
   ]
  },
  {
   "cell_type": "code",
   "execution_count": 90,
   "metadata": {},
   "outputs": [
    {
     "ename": "TypeError",
     "evalue": "'set' object does not support indexing",
     "output_type": "error",
     "traceback": [
      "\u001b[0;31m---------------------------------------------------------------------------\u001b[0m",
      "\u001b[0;31mTypeError\u001b[0m                                 Traceback (most recent call last)",
      "\u001b[0;32m<ipython-input-90-c9c96910e542>\u001b[0m in \u001b[0;36m<module>\u001b[0;34m()\u001b[0m\n\u001b[0;32m----> 1\u001b[0;31m \u001b[0ms\u001b[0m\u001b[0;34m[\u001b[0m\u001b[0;36m0\u001b[0m\u001b[0;34m]\u001b[0m\u001b[0;34m\u001b[0m\u001b[0m\n\u001b[0m",
      "\u001b[0;31mTypeError\u001b[0m: 'set' object does not support indexing"
     ]
    }
   ],
   "source": [
    "s[0]"
   ]
  },
  {
   "cell_type": "markdown",
   "metadata": {},
   "source": [
    "доступ к элементам множества можно получить через `for ... in` или `list(s)`"
   ]
  },
  {
   "cell_type": "code",
   "execution_count": 94,
   "metadata": {},
   "outputs": [
    {
     "data": {
      "text/plain": [
       "[1, 2, 3, 4, 10]"
      ]
     },
     "execution_count": 94,
     "metadata": {},
     "output_type": "execute_result"
    }
   ],
   "source": [
    "list(s)"
   ]
  },
  {
   "cell_type": "markdown",
   "metadata": {},
   "source": [
    "Также есть много удобных функций для множеств, например объединение двух множеств"
   ]
  },
  {
   "cell_type": "code",
   "execution_count": 34,
   "metadata": {},
   "outputs": [
    {
     "data": {
      "text/plain": [
       "{1, 2, 3, 4, 5}"
      ]
     },
     "execution_count": 34,
     "metadata": {},
     "output_type": "execute_result"
    }
   ],
   "source": [
    "s1 = {1, 2, 3, 4}\n",
    "s2 = {2, 3, 4, 5}\n",
    "s1.union(s2)"
   ]
  },
  {
   "cell_type": "markdown",
   "metadata": {},
   "source": [
    "или разность"
   ]
  },
  {
   "cell_type": "code",
   "execution_count": 48,
   "metadata": {},
   "outputs": [
    {
     "data": {
      "text/plain": [
       "{1}"
      ]
     },
     "execution_count": 48,
     "metadata": {},
     "output_type": "execute_result"
    }
   ],
   "source": [
    "s1 - s2"
   ]
  },
  {
   "cell_type": "markdown",
   "metadata": {},
   "source": [
    "Множества позволяют элегантно решать некоторые задачи, например нахождение количества уникальных слов в тексте"
   ]
  },
  {
   "cell_type": "code",
   "execution_count": 99,
   "metadata": {},
   "outputs": [
    {
     "data": {
      "text/plain": [
       "['the',\n",
       " 'adventures',\n",
       " 'of',\n",
       " 'sherlock',\n",
       " 'holmes',\n",
       " 'arthur',\n",
       " 'conan',\n",
       " 'doyle',\n",
       " 'table',\n",
       " 'of']"
      ]
     },
     "execution_count": 99,
     "metadata": {},
     "output_type": "execute_result"
    }
   ],
   "source": [
    "with open('sherlock.txt') as f:\n",
    "    text = f.read().lower()\n",
    "\n",
    "word_list = text.split()\n",
    "word_list[:10]"
   ]
  },
  {
   "cell_type": "code",
   "execution_count": 100,
   "metadata": {},
   "outputs": [],
   "source": [
    "word_set = set(word_list)"
   ]
  },
  {
   "cell_type": "code",
   "execution_count": 101,
   "metadata": {},
   "outputs": [
    {
     "data": {
      "text/plain": [
       "14093"
      ]
     },
     "execution_count": 101,
     "metadata": {},
     "output_type": "execute_result"
    }
   ],
   "source": [
    "len(word_set)"
   ]
  },
  {
   "cell_type": "markdown",
   "metadata": {},
   "source": [
    "найдем, какие буквы не встречаются в данной фразе"
   ]
  },
  {
   "cell_type": "code",
   "execution_count": 108,
   "metadata": {},
   "outputs": [],
   "source": [
    "s = 'Neque porro quisquam est qui dolorem ipsum quia dolor sit amet, consectetur, adipisci velit'"
   ]
  },
  {
   "cell_type": "code",
   "execution_count": 111,
   "metadata": {},
   "outputs": [
    {
     "name": "stdout",
     "output_type": "stream",
     "text": [
      "97\n",
      "122\n",
      "b\n"
     ]
    }
   ],
   "source": [
    "print(ord('a'))\n",
    "print(ord('z'))\n",
    "print(chr(98))"
   ]
  },
  {
   "cell_type": "code",
   "execution_count": 47,
   "metadata": {},
   "outputs": [
    {
     "data": {
      "text/plain": [
       "{'b', 'f', 'g', 'h', 'j', 'k', 'w', 'x', 'y', 'z'}"
      ]
     },
     "execution_count": 47,
     "metadata": {},
     "output_type": "execute_result"
    }
   ],
   "source": [
    "set(map(chr, range(ord('a'), ord('z')+1))) - set(s.lower())"
   ]
  },
  {
   "cell_type": "code",
   "execution_count": 173,
   "metadata": {},
   "outputs": [],
   "source": [
    "from collections import Counter\n",
    "\n",
    "c = Counter()\n",
    "c.update(text.split())"
   ]
  },
  {
   "cell_type": "code",
   "execution_count": 176,
   "metadata": {},
   "outputs": [],
   "source": [
    "c.update(['the', 'the'])"
   ]
  },
  {
   "cell_type": "code",
   "execution_count": 177,
   "metadata": {},
   "outputs": [
    {
     "data": {
      "text/plain": [
       "5252"
      ]
     },
     "execution_count": 177,
     "metadata": {},
     "output_type": "execute_result"
    }
   ],
   "source": [
    "c['the']"
   ]
  },
  {
   "cell_type": "code",
   "execution_count": null,
   "metadata": {},
   "outputs": [],
   "source": []
  },
  {
   "cell_type": "code",
   "execution_count": null,
   "metadata": {},
   "outputs": [],
   "source": []
  },
  {
   "cell_type": "code",
   "execution_count": null,
   "metadata": {},
   "outputs": [],
   "source": []
  },
  {
   "cell_type": "code",
   "execution_count": null,
   "metadata": {},
   "outputs": [],
   "source": []
  },
  {
   "cell_type": "code",
   "execution_count": null,
   "metadata": {},
   "outputs": [],
   "source": []
  },
  {
   "cell_type": "code",
   "execution_count": null,
   "metadata": {},
   "outputs": [],
   "source": []
  },
  {
   "cell_type": "markdown",
   "metadata": {},
   "source": [
    "## Работа с файлами"
   ]
  },
  {
   "cell_type": "code",
   "execution_count": 153,
   "metadata": {},
   "outputs": [
    {
     "data": {
      "text/plain": [
       "'\\n\\n\\n\\n                        THE ADVENTURES OF SHERLOCK HOLMES\\n\\n                               Arthur Conan Doyle\\n\\n\\n\\n                                Table of contents\\n\\n               A Scandal in Bohem'"
      ]
     },
     "execution_count": 153,
     "metadata": {},
     "output_type": "execute_result"
    }
   ],
   "source": [
    "file = open('sherlock.txt', 'r', encoding='utf-8')\n",
    "text1 = file.read()\n",
    "file.close()\n",
    "text1[:200]"
   ]
  },
  {
   "cell_type": "code",
   "execution_count": 154,
   "metadata": {},
   "outputs": [
    {
     "data": {
      "text/plain": [
       "'\\n\\n\\n\\n                        THE ADVENTURES OF SHERLOCK HOLMES\\n\\n                               Arthur Conan Doyle\\n\\n\\n\\n                                Table of contents\\n\\n               A Scandal in Bohem'"
      ]
     },
     "execution_count": 154,
     "metadata": {},
     "output_type": "execute_result"
    }
   ],
   "source": [
    "with open('sherlock.txt', encoding='utf8') as f:\n",
    "    text2 = f.read()\n",
    "text2[:200]"
   ]
  },
  {
   "cell_type": "code",
   "execution_count": 170,
   "metadata": {},
   "outputs": [],
   "source": [
    "with open('out.txt', 'w') as f:\n",
    "    f.write(\"\\nI'm \\nwriting\\n to file!!!\\n\")"
   ]
  },
  {
   "cell_type": "code",
   "execution_count": 157,
   "metadata": {},
   "outputs": [
    {
     "name": "stdout",
     "output_type": "stream",
     "text": [
      "12195\n"
     ]
    }
   ],
   "source": [
    "with open('sherlock.txt') as f:\n",
    "    i = 0\n",
    "    for line in f:\n",
    "        i += 1\n",
    "print(i)"
   ]
  },
  {
   "cell_type": "code",
   "execution_count": 159,
   "metadata": {},
   "outputs": [],
   "source": [
    "import os"
   ]
  },
  {
   "cell_type": "code",
   "execution_count": 160,
   "metadata": {},
   "outputs": [
    {
     "data": {
      "text/plain": [
       "['out.txt',\n",
       " 'Lesson_1.ipynb',\n",
       " '.ipynb_checkpoints',\n",
       " 'create_corpus_example.py',\n",
       " 'Lesson_2.ipynb',\n",
       " 'Lesson_3.ipynb',\n",
       " 'sherlock.txt',\n",
       " 'Homework_2.ipynb']"
      ]
     },
     "execution_count": 160,
     "metadata": {},
     "output_type": "execute_result"
    }
   ],
   "source": [
    "os.listdir()"
   ]
  },
  {
   "cell_type": "markdown",
   "metadata": {},
   "source": [
    "Мини задачка: пройдите по всем файлам в текущей директории и выведите имя и первые 100 символов каждого файла (вам понадобится функция `os.path.isfile`)"
   ]
  },
  {
   "cell_type": "code",
   "execution_count": 161,
   "metadata": {},
   "outputs": [
    {
     "data": {
      "text/plain": [
       "False"
      ]
     },
     "execution_count": 161,
     "metadata": {},
     "output_type": "execute_result"
    }
   ],
   "source": [
    "os.path.isfile('.ipyn')"
   ]
  },
  {
   "cell_type": "code",
   "execution_count": 162,
   "metadata": {},
   "outputs": [
    {
     "name": "stdout",
     "output_type": "stream",
     "text": [
      "\n",
      "I'm writing to file!!!\n",
      "\n",
      "{\n",
      " \"cells\": [\n",
      "  {\n",
      "   \"cell_type\": \"markdown\",\n",
      "   \"metadata\": {},\n",
      "   \"source\": [\n",
      "    \"## Jupyter Note\n",
      "import requests\n",
      "from bs4 import BeautifulSoup\n",
      "import urllib\n",
      "import re\n",
      "\n",
      "# здесь создаётся корпус\n",
      "mar_\n",
      "{\n",
      " \"cells\": [\n",
      "  {\n",
      "   \"cell_type\": \"markdown\",\n",
      "   \"metadata\": {},\n",
      "   \"source\": [\n",
      "    \"## Списки\"\n",
      "   ]\n",
      "{\n",
      " \"cells\": [\n",
      "  {\n",
      "   \"cell_type\": \"code\",\n",
      "   \"execution_count\": 1,\n",
      "   \"metadata\": {},\n",
      "   \"outputs\": \n",
      "\n",
      "\n",
      "\n",
      "\n",
      "                        THE ADVENTURES OF SHERLOCK HOLMES\n",
      "\n",
      "                               Arthur\n",
      "{\n",
      " \"cells\": [\n",
      "  {\n",
      "   \"cell_type\": \"markdown\",\n",
      "   \"metadata\": {},\n",
      "   \"source\": [\n",
      "    \"# Homework 2\\n\"\n"
     ]
    }
   ],
   "source": [
    "for path in os.listdir():\n",
    "    if os.path.isfile(path):\n",
    "        try:\n",
    "            with open(path, encoding='utf8') as f:\n",
    "                print(f.read()[:100])\n",
    "        except:\n",
    "            pass"
   ]
  },
  {
   "cell_type": "code",
   "execution_count": 163,
   "metadata": {},
   "outputs": [],
   "source": [
    "marks = {\n",
    "    'bob': {\n",
    "        'city': 'a',\n",
    "        'age': 1\n",
    "    },\n",
    "    1: 4,\n",
    "    'dan': [1, 2],\n",
    "    'bill': 3\n",
    "}"
   ]
  },
  {
   "cell_type": "markdown",
   "metadata": {},
   "source": [
    "## Словари json\n",
    "\n",
    "**json (JavaScript Object Notation)** - формат данных, или даже скорее формат обмена данных\n",
    "\n",
    "Независим от языка, на котором создаётся (можно передавать данные в формате json между программами, написанными на разных языках)"
   ]
  },
  {
   "cell_type": "code",
   "execution_count": 164,
   "metadata": {},
   "outputs": [],
   "source": [
    "import json"
   ]
  },
  {
   "cell_type": "code",
   "execution_count": 165,
   "metadata": {},
   "outputs": [
    {
     "data": {
      "text/plain": [
       "'{\"bob\": 5, \"alice\": 5, \"dan\": 5, \"bill\": 3, \"anonymus\": 1}'"
      ]
     },
     "execution_count": 165,
     "metadata": {},
     "output_type": "execute_result"
    }
   ],
   "source": [
    "s = json.dumps(marks)\n",
    "s"
   ]
  },
  {
   "cell_type": "code",
   "execution_count": 172,
   "metadata": {},
   "outputs": [],
   "source": [
    "json.dump(marks, open('out.txt', 'w'))"
   ]
  },
  {
   "cell_type": "code",
   "execution_count": 173,
   "metadata": {},
   "outputs": [
    {
     "data": {
      "text/plain": [
       "{'1': 2}"
      ]
     },
     "execution_count": 173,
     "metadata": {},
     "output_type": "execute_result"
    }
   ],
   "source": [
    "s = '{\"1\": 2}'\n",
    "json.loads(s)"
   ]
  },
  {
   "cell_type": "code",
   "execution_count": 174,
   "metadata": {},
   "outputs": [
    {
     "data": {
      "text/plain": [
       "{'bob': 5, 'alice': 5, 'dan': 5, 'bill': 3, 'anonymus': 1}"
      ]
     },
     "execution_count": 174,
     "metadata": {},
     "output_type": "execute_result"
    }
   ],
   "source": [
    "json.load(open('out.txt'))"
   ]
  },
  {
   "cell_type": "code",
   "execution_count": 166,
   "metadata": {},
   "outputs": [
    {
     "data": {
      "text/plain": [
       "{'cells': [{'cell_type': 'markdown', 'metadata': {}, 'source': ['## Списки']},\n",
       "  {'cell_type': 'markdown',\n",
       "   'metadata': {},\n",
       "   'source': ['Ещё один тип данных, которые вчера уже попадались - списки.']},\n",
       "  {'cell_type': 'code',\n",
       "   'execution_count': 18,\n",
       "   'metadata': {},\n",
       "   'outputs': [{'data': {'text/plain': ['[1, 2, 11, 12, 3, 4, 13, 14]']},\n",
       "     'execution_count': 18,\n",
       "     'metadata': {},\n",
       "     'output_type': 'execute_result'}],\n",
       "   'source': ['l = [1, 2, 11, 12, 3, 4, 13, 14]\\n', 'l']},\n",
       "  {'cell_type': 'markdown',\n",
       "   'metadata': {},\n",
       "   'source': ['Работа со списками частично похожа на работу со строками.\\n',\n",
       "    '\\n',\n",
       "    '- нумерация элементов тоже начинается с 0']},\n",
       "  {'cell_type': 'code',\n",
       "   'execution_count': 19,\n",
       "   'metadata': {},\n",
       "   'outputs': [{'data': {'text/plain': ['1']},\n",
       "     'execution_count': 19,\n",
       "     'metadata': {},\n",
       "     'output_type': 'execute_result'}],\n",
       "   'source': ['l[0]']},\n",
       "  {'cell_type': 'markdown',\n",
       "   'metadata': {},\n",
       "   'source': ['- длина узнаётся так же']},\n",
       "  {'cell_type': 'code',\n",
       "   'execution_count': 20,\n",
       "   'metadata': {},\n",
       "   'outputs': [{'data': {'text/plain': ['8']},\n",
       "     'execution_count': 20,\n",
       "     'metadata': {},\n",
       "     'output_type': 'execute_result'}],\n",
       "   'source': ['len(l)']},\n",
       "  {'cell_type': 'markdown',\n",
       "   'metadata': {},\n",
       "   'source': ['- тоже можно доставать конкретные куски списка через индексацию: будут выданы в виде списка']},\n",
       "  {'cell_type': 'code',\n",
       "   'execution_count': 21,\n",
       "   'metadata': {},\n",
       "   'outputs': [{'data': {'text/plain': ['[11, 12]']},\n",
       "     'execution_count': 21,\n",
       "     'metadata': {},\n",
       "     'output_type': 'execute_result'}],\n",
       "   'source': ['l[2:4]']},\n",
       "  {'cell_type': 'markdown',\n",
       "   'metadata': {},\n",
       "   'source': ['- так же можно менять шаг ']},\n",
       "  {'cell_type': 'code',\n",
       "   'execution_count': 22,\n",
       "   'metadata': {},\n",
       "   'outputs': [{'data': {'text/plain': ['[1, 11, 3, 13]']},\n",
       "     'execution_count': 22,\n",
       "     'metadata': {},\n",
       "     'output_type': 'execute_result'}],\n",
       "   'source': ['l[::2]']},\n",
       "  {'cell_type': 'markdown',\n",
       "   'metadata': {},\n",
       "   'source': ['- и обращаться с конца']},\n",
       "  {'cell_type': 'code',\n",
       "   'execution_count': 23,\n",
       "   'metadata': {},\n",
       "   'outputs': [{'data': {'text/plain': ['13']},\n",
       "     'execution_count': 23,\n",
       "     'metadata': {},\n",
       "     'output_type': 'execute_result'}],\n",
       "   'source': ['l[-2]']},\n",
       "  {'cell_type': 'code',\n",
       "   'execution_count': 27,\n",
       "   'metadata': {},\n",
       "   'outputs': [{'data': {'text/plain': ['[4, 3, 12, 11]']},\n",
       "     'execution_count': 27,\n",
       "     'metadata': {},\n",
       "     'output_type': 'execute_result'}],\n",
       "   'source': ['l[5:1:-1]']},\n",
       "  {'cell_type': 'code',\n",
       "   'execution_count': 28,\n",
       "   'metadata': {},\n",
       "   'outputs': [{'data': {'text/plain': ['[4, 3, 12, 11]']},\n",
       "     'execution_count': 28,\n",
       "     'metadata': {},\n",
       "     'output_type': 'execute_result'}],\n",
       "   'source': ['l[5:1:-1]']},\n",
       "  {'cell_type': 'markdown',\n",
       "   'metadata': {},\n",
       "   'source': ['В отличие от строк\\n',\n",
       "    '\\n',\n",
       "    '- элементы списка можно изменять']},\n",
       "  {'cell_type': 'code',\n",
       "   'execution_count': 52,\n",
       "   'metadata': {},\n",
       "   'outputs': [{'data': {'text/plain': ['[100500]']},\n",
       "     'execution_count': 52,\n",
       "     'metadata': {},\n",
       "     'output_type': 'execute_result'}],\n",
       "   'source': ['l[0] = 100500\\n', 'l']},\n",
       "  {'cell_type': 'code',\n",
       "   'execution_count': 53,\n",
       "   'metadata': {},\n",
       "   'outputs': [{'data': {'text/plain': ['[100500, 0, 0]']},\n",
       "     'execution_count': 53,\n",
       "     'metadata': {},\n",
       "     'output_type': 'execute_result'}],\n",
       "   'source': ['l[1:3] = [0, 0]\\n', 'l']},\n",
       "  {'cell_type': 'code',\n",
       "   'execution_count': 71,\n",
       "   'metadata': {},\n",
       "   'outputs': [{'data': {'text/plain': [\"[[1, 2], [8, 9], 2, 12, 85, 0, 6, None, 'not a number']\"]},\n",
       "     'execution_count': 71,\n",
       "     'metadata': {},\n",
       "     'output_type': 'execute_result'}],\n",
       "   'source': [\"l[2:3] = [2, 12, 85, 0, 6, None, 'not a number']\\n\", 'l']},\n",
       "  {'cell_type': 'code',\n",
       "   'execution_count': 72,\n",
       "   'metadata': {},\n",
       "   'outputs': [{'data': {'text/plain': ['[1]']},\n",
       "     'execution_count': 72,\n",
       "     'metadata': {},\n",
       "     'output_type': 'execute_result'}],\n",
       "   'source': ['l[:] = [1]\\n', 'l']},\n",
       "  {'cell_type': 'code',\n",
       "   'execution_count': 73,\n",
       "   'metadata': {},\n",
       "   'outputs': [{'data': {'text/plain': ['[[1, 2], [8, 9]]']},\n",
       "     'execution_count': 73,\n",
       "     'metadata': {},\n",
       "     'output_type': 'execute_result'}],\n",
       "   'source': ['l[:] = [[1, 2], [8, 9]]\\n', 'l']},\n",
       "  {'cell_type': 'markdown',\n",
       "   'metadata': {},\n",
       "   'source': ['- новые элементы присоединяются через функцию .append']},\n",
       "  {'cell_type': 'code',\n",
       "   'execution_count': 74,\n",
       "   'metadata': {},\n",
       "   'outputs': [{'data': {'text/plain': [\"[[1, 2], [8, 9], '1337']\"]},\n",
       "     'execution_count': 74,\n",
       "     'metadata': {},\n",
       "     'output_type': 'execute_result'}],\n",
       "   'source': [\"l.append('1337')\\n\", 'l']},\n",
       "  {'cell_type': 'code',\n",
       "   'execution_count': 75,\n",
       "   'metadata': {},\n",
       "   'outputs': [{'ename': 'TypeError',\n",
       "     'evalue': 'can only concatenate list (not \"str\") to list',\n",
       "     'output_type': 'error',\n",
       "     'traceback': ['\\x1b[0;31m---------------------------------------------------------------------------\\x1b[0m',\n",
       "      '\\x1b[0;31mTypeError\\x1b[0m                                 Traceback (most recent call last)',\n",
       "      \"\\x1b[0;32m<ipython-input-75-7ce76b854b63>\\x1b[0m in \\x1b[0;36m<module>\\x1b[0;34m()\\x1b[0m\\n\\x1b[0;32m----> 1\\x1b[0;31m \\x1b[0ml\\x1b[0m \\x1b[0;34m+\\x1b[0m \\x1b[0;34m'1337'\\x1b[0m\\x1b[0;34m\\x1b[0m\\x1b[0m\\n\\x1b[0m\",\n",
       "      '\\x1b[0;31mTypeError\\x1b[0m: can only concatenate list (not \"str\") to list']}],\n",
       "   'source': [\"l + '1337'\"]},\n",
       "  {'cell_type': 'markdown',\n",
       "   'metadata': {},\n",
       "   'source': ['- с помощью `+` нельзя присоединить просто отдельный элемент, но можно присоединить другой список']},\n",
       "  {'cell_type': 'code',\n",
       "   'execution_count': 76,\n",
       "   'metadata': {},\n",
       "   'outputs': [{'data': {'text/plain': [\"[[1, 2], [8, 9], '1337', 4, 5]\"]},\n",
       "     'execution_count': 76,\n",
       "     'metadata': {},\n",
       "     'output_type': 'execute_result'}],\n",
       "   'source': ['l + [4, 5]']},\n",
       "  {'cell_type': 'markdown',\n",
       "   'metadata': {},\n",
       "   'source': ['....и даже список, включающий в себя списки']},\n",
       "  {'cell_type': 'code',\n",
       "   'execution_count': 77,\n",
       "   'metadata': {},\n",
       "   'outputs': [{'data': {'text/plain': [\"[[1, 2], [8, 9], '1337', 5, [1, 2], [3, 4], [5, 6]]\"]},\n",
       "     'execution_count': 77,\n",
       "     'metadata': {},\n",
       "     'output_type': 'execute_result'}],\n",
       "   'source': ['l + [5, [1, 2], [3, 4], [5, 6]]']},\n",
       "  {'cell_type': 'markdown', 'metadata': {}, 'source': []},\n",
       "  {'cell_type': 'code',\n",
       "   'execution_count': 88,\n",
       "   'metadata': {},\n",
       "   'outputs': [{'data': {'text/plain': ['[0, 20, 40, 60, 80]']},\n",
       "     'execution_count': 88,\n",
       "     'metadata': {},\n",
       "     'output_type': 'execute_result'}],\n",
       "   'source': ['list(range(0, 100, 20))']},\n",
       "  {'cell_type': 'markdown',\n",
       "   'metadata': {},\n",
       "   'source': ['- http://pythontutor.ru/lessons/lists/problems/increasing_neighbours/\\n',\n",
       "    '\\n',\n",
       "    'Здесь вам будет нужна функция split(), которая сделает из строки с числами список']},\n",
       "  {'cell_type': 'code',\n",
       "   'execution_count': 100,\n",
       "   'metadata': {},\n",
       "   'outputs': [{'data': {'text/plain': [\"['1', '2', '3', '4', '5', '1']\"]},\n",
       "     'execution_count': 100,\n",
       "     'metadata': {},\n",
       "     'output_type': 'execute_result'}],\n",
       "   'source': [\"inp = '1 2 3 4 5 1'\\n\", 'inp = inp.split()\\n', 'inp']},\n",
       "  {'cell_type': 'code',\n",
       "   'execution_count': 101,\n",
       "   'metadata': {},\n",
       "   'outputs': [{'data': {'text/plain': [\"'24'\"]},\n",
       "     'execution_count': 101,\n",
       "     'metadata': {},\n",
       "     'output_type': 'execute_result'}],\n",
       "   'source': ['inp[1] + inp[3]']},\n",
       "  {'cell_type': 'code',\n",
       "   'execution_count': 119,\n",
       "   'metadata': {},\n",
       "   'outputs': [{'data': {'text/plain': ['6']},\n",
       "     'execution_count': 119,\n",
       "     'metadata': {},\n",
       "     'output_type': 'execute_result'}],\n",
       "   'source': ['inp = [int(s) for s in inp] # превратить список строчных чисел в список чисел\\n',\n",
       "    'inp[1] + inp[3]']},\n",
       "  {'cell_type': 'markdown',\n",
       "   'metadata': {},\n",
       "   'source': ['- http://pythontutor.ru/lessons/lists/problems/same_sign_neighbours/\\n',\n",
       "    '\\n',\n",
       "    'Здесь нужна функция break, останавливающая цикл, если выполняется какое-то условие']},\n",
       "  {'cell_type': 'code',\n",
       "   'execution_count': 93,\n",
       "   'metadata': {},\n",
       "   'outputs': [{'name': 'stdout',\n",
       "     'output_type': 'stream',\n",
       "     'text': ['1\\n', '2\\n', '3\\n', '4\\n', '5\\n']}],\n",
       "   'source': ['for x in range(1, 10):\\n',\n",
       "    '    print(x)\\n',\n",
       "    '    if x % 5 == 0:\\n',\n",
       "    '        break']},\n",
       "  {'cell_type': 'markdown',\n",
       "   'metadata': {},\n",
       "   'source': ['- http://pythontutor.ru/lessons/lists/problems/maximal_element/ \\n',\n",
       "    '\\n',\n",
       "    'Функция index() возвращает индекс элемента, если он есть в списке. В случае, если элементов несколько, выдаётся индекс первого из них.']},\n",
       "  {'cell_type': 'markdown',\n",
       "   'metadata': {},\n",
       "   'source': ['### Генерация списков']},\n",
       "  {'cell_type': 'code',\n",
       "   'execution_count': 130,\n",
       "   'metadata': {},\n",
       "   'outputs': [{'data': {'text/plain': ['[0, 2, 4, 6, 8, 10, 12, 14, 16, 18, 20]']},\n",
       "     'execution_count': 130,\n",
       "     'metadata': {},\n",
       "     'output_type': 'execute_result'}],\n",
       "   'source': ['even_numbers1 = []\\n',\n",
       "    'for x in range(0, 21, 2):\\n',\n",
       "    '    even_numbers1.append(x)\\n',\n",
       "    'even_numbers1']},\n",
       "  {'cell_type': 'code',\n",
       "   'execution_count': 128,\n",
       "   'metadata': {},\n",
       "   'outputs': [{'data': {'text/plain': ['[0, 2, 4, 6, 8, 10, 12, 14, 16, 18, 20]']},\n",
       "     'execution_count': 128,\n",
       "     'metadata': {},\n",
       "     'output_type': 'execute_result'}],\n",
       "   'source': ['even_numbers2 = [x for x in range(0, 21, 2)]\\n',\n",
       "    'even_numbers2']},\n",
       "  {'cell_type': 'markdown',\n",
       "   'metadata': {},\n",
       "   'source': ['По сути, одно и то же, просто иначе записано\\n',\n",
       "    '\\n',\n",
       "    'Синтаксис\\n',\n",
       "    '- выражение записывается в квадратных скобках\\n',\n",
       "    '- первое выражение (в данном случае переменная x) задаёт элементы списка\\n',\n",
       "    '- затем идёт цикл, как-то это выражение трасформирующий\\n',\n",
       "    '\\n',\n",
       "    'Можно усложнять обе части:']},\n",
       "  {'cell_type': 'code',\n",
       "   'execution_count': 131,\n",
       "   'metadata': {},\n",
       "   'outputs': [{'data': {'text/plain': ['[0, 4, 16, 36, 64, 100, 144, 196, 256, 324, 400]']},\n",
       "     'execution_count': 131,\n",
       "     'metadata': {},\n",
       "     'output_type': 'execute_result'}],\n",
       "   'source': ['even_squares = [x ** 2 for x in range(0, 21, 2)]\\n',\n",
       "    'even_squares']},\n",
       "  {'cell_type': 'code',\n",
       "   'execution_count': 136,\n",
       "   'metadata': {},\n",
       "   'outputs': [{'data': {'text/plain': ['[0.0, 14.0, 60.0, 138.0, 248.0, 390.0]']},\n",
       "     'execution_count': 136,\n",
       "     'metadata': {},\n",
       "     'output_type': 'execute_result'}],\n",
       "   'source': ['[x ** 2 - x / 2 for x in range(0, 21, 2) if x % 4 == 0] # в общем, всё, чего душа желает']},\n",
       "  {'cell_type': 'code',\n",
       "   'execution_count': 138,\n",
       "   'metadata': {},\n",
       "   'outputs': [{'data': {'text/plain': ['[0.0, 14.0, 60.0, 138.0, 248.0, 390.0]']},\n",
       "     'execution_count': 138,\n",
       "     'metadata': {},\n",
       "     'output_type': 'execute_result'}],\n",
       "   'source': ['same_list = []\\n',\n",
       "    'for x in range(0, 21, 2):\\n',\n",
       "    '    if x % 4 == 0:\\n',\n",
       "    '        same_list.append(x ** 2 - x / 2)\\n',\n",
       "    'same_list']},\n",
       "  {'cell_type': 'code',\n",
       "   'execution_count': None,\n",
       "   'metadata': {},\n",
       "   'outputs': [],\n",
       "   'source': []},\n",
       "  {'cell_type': 'markdown',\n",
       "   'metadata': {},\n",
       "   'source': ['Посмотреть подробнее можно [здесь](https://habr.com/post/30232/)']},\n",
       "  {'cell_type': 'markdown',\n",
       "   'metadata': {},\n",
       "   'source': ['## Ещё  немного про строки\\n',\n",
       "    '\\n',\n",
       "    '### .join()\\n',\n",
       "    '\\n',\n",
       "    'Соединяет элементы последовательности (списка) в строку с разделителем:\\n',\n",
       "    '\\n',\n",
       "    'str.join(list), где str - разделитель']},\n",
       "  {'cell_type': 'code',\n",
       "   'execution_count': 122,\n",
       "   'metadata': {},\n",
       "   'outputs': [{'data': {'text/plain': [\"'x*100=1'\"]},\n",
       "     'execution_count': 122,\n",
       "     'metadata': {},\n",
       "     'output_type': 'execute_result'}],\n",
       "   'source': [\"equation = ['x', '*', '100', '=', '1']\\n\",\n",
       "    \"''.join(equation)\"]},\n",
       "  {'cell_type': 'code',\n",
       "   'execution_count': 123,\n",
       "   'metadata': {},\n",
       "   'outputs': [{'data': {'text/plain': [\"'x * 100 = 1'\"]},\n",
       "     'execution_count': 123,\n",
       "     'metadata': {},\n",
       "     'output_type': 'execute_result'}],\n",
       "   'source': [\"' '.join(equation)\"]},\n",
       "  {'cell_type': 'markdown',\n",
       "   'metadata': {},\n",
       "   'source': ['http://pythontutor.ru/lessons/lists/problems/swap_neighbours/']},\n",
       "  {'cell_type': 'markdown',\n",
       "   'metadata': {},\n",
       "   'source': ['### .replace()\\n',\n",
       "    'Заменяет все вхождения одной строки на другую. \\n',\n",
       "    '\\n',\n",
       "    'str.replace(old, new), где str - изменяемая строка, old - то, что заменяется, new - то, на что заменяется']},\n",
       "  {'cell_type': 'code',\n",
       "   'execution_count': 141,\n",
       "   'metadata': {},\n",
       "   'outputs': [{'data': {'text/plain': [\"'I hate you'\"]},\n",
       "     'execution_count': 141,\n",
       "     'metadata': {},\n",
       "     'output_type': 'execute_result'}],\n",
       "   'source': [\"message = 'I love you!'\\n\", \"message.replace('love', 'hate')\"]},\n",
       "  {'cell_type': 'code',\n",
       "   'execution_count': 142,\n",
       "   'metadata': {},\n",
       "   'outputs': [{'data': {'text/plain': [\"'olololol'\"]},\n",
       "     'execution_count': 142,\n",
       "     'metadata': {},\n",
       "     'output_type': 'execute_result'}],\n",
       "   'source': [\"message = 'oooo'\\n\", \"message.replace('o', 'ol')\"]},\n",
       "  {'cell_type': 'markdown',\n",
       "   'metadata': {},\n",
       "   'source': ['### .title(), .lower(), .upper()\\n',\n",
       "    '\\n',\n",
       "    'Меняют регистр букв в строке']},\n",
       "  {'cell_type': 'code',\n",
       "   'execution_count': 143,\n",
       "   'metadata': {},\n",
       "   'outputs': [],\n",
       "   'source': [\"song = 'Wish You Were Here - Pink Floyd'\"]},\n",
       "  {'cell_type': 'code',\n",
       "   'execution_count': 145,\n",
       "   'metadata': {},\n",
       "   'outputs': [{'data': {'text/plain': [\"'WISH YOU WERE HERE - PINK FLOYD'\"]},\n",
       "     'execution_count': 145,\n",
       "     'metadata': {},\n",
       "     'output_type': 'execute_result'}],\n",
       "   'source': ['song.upper()']},\n",
       "  {'cell_type': 'code',\n",
       "   'execution_count': 146,\n",
       "   'metadata': {},\n",
       "   'outputs': [{'data': {'text/plain': [\"'wish you were here - pink floyd'\"]},\n",
       "     'execution_count': 146,\n",
       "     'metadata': {},\n",
       "     'output_type': 'execute_result'}],\n",
       "   'source': ['song = song.lower()\\n', 'song']},\n",
       "  {'cell_type': 'code',\n",
       "   'execution_count': 147,\n",
       "   'metadata': {},\n",
       "   'outputs': [{'data': {'text/plain': [\"'Wish You Were Here - Pink Floyd'\"]},\n",
       "     'execution_count': 147,\n",
       "     'metadata': {},\n",
       "     'output_type': 'execute_result'}],\n",
       "   'source': ['song.title()']},\n",
       "  {'cell_type': 'markdown',\n",
       "   'metadata': {},\n",
       "   'source': ['Дополнительно почитать про методы строк можно [здесь](http://pythontutor.ru/lessons/str/)']},\n",
       "  {'cell_type': 'markdown', 'metadata': {}, 'source': ['## Словари']},\n",
       "  {'cell_type': 'markdown',\n",
       "   'metadata': {},\n",
       "   'source': ['Ещё одна изменяемая структура данных -- словарь (`dict`)\\n',\n",
       "    '\\n',\n",
       "    'Словарь хранит пары ключ значение и предоставляет быстрый доступ к значению по ключу.']},\n",
       "  {'cell_type': 'code',\n",
       "   'execution_count': 5,\n",
       "   'metadata': {},\n",
       "   'outputs': [{'data': {'text/plain': [\"{'bob': 5, 'alice': 4, 'dan': 5, 'bill': 3}\"]},\n",
       "     'execution_count': 5,\n",
       "     'metadata': {},\n",
       "     'output_type': 'execute_result'}],\n",
       "   'source': ['# оценки разных людей чему-либо\\n',\n",
       "    \"marks = {'bob': 5, 'alice': 4, 'dan': 5, 'bill': 3}\\n\",\n",
       "    'marks']},\n",
       "  {'cell_type': 'code',\n",
       "   'execution_count': 6,\n",
       "   'metadata': {},\n",
       "   'outputs': [{'data': {'text/plain': ['5']},\n",
       "     'execution_count': 6,\n",
       "     'metadata': {},\n",
       "     'output_type': 'execute_result'}],\n",
       "   'source': [\"marks['bob']\"]},\n",
       "  {'cell_type': 'code',\n",
       "   'execution_count': 7,\n",
       "   'metadata': {},\n",
       "   'outputs': [{'data': {'text/plain': [\"{'bob': 5, 'alice': 5, 'dan': 5, 'bill': 3, 'anonymus': 1}\"]},\n",
       "     'execution_count': 7,\n",
       "     'metadata': {},\n",
       "     'output_type': 'execute_result'}],\n",
       "   'source': [\"marks['alice'] = 5\\n\", \"marks['anonymus'] = 1\\n\", 'marks']},\n",
       "  {'cell_type': 'code',\n",
       "   'execution_count': 9,\n",
       "   'metadata': {},\n",
       "   'outputs': [{'name': 'stdout',\n",
       "     'output_type': 'stream',\n",
       "     'text': ['True\\n', 'False\\n']}],\n",
       "   'source': [\"print('alice' in marks)\\n\", \"print('mary' in marks)\"]},\n",
       "  {'cell_type': 'code',\n",
       "   'execution_count': 10,\n",
       "   'metadata': {},\n",
       "   'outputs': [{'name': 'stdout',\n",
       "     'output_type': 'stream',\n",
       "     'text': [\"dict_keys(['bob', 'alice', 'dan', 'bill', 'anonymus'])\\n\",\n",
       "      'dict_values([5, 5, 5, 3, 1])\\n',\n",
       "      \"dict_items([('bob', 5), ('alice', 5), ('dan', 5), ('bill', 3), ('anonymus', 1)])\\n\"]}],\n",
       "   'source': ['print(marks.keys())\\n',\n",
       "    'print(marks.values())\\n',\n",
       "    'print(marks.items())']},\n",
       "  {'cell_type': 'code',\n",
       "   'execution_count': 11,\n",
       "   'metadata': {},\n",
       "   'outputs': [{'name': 'stdout',\n",
       "     'output_type': 'stream',\n",
       "     'text': ['bob 5\\n', 'alice 5\\n', 'dan 5\\n', 'bill 3\\n', 'anonymus 1\\n']}],\n",
       "   'source': ['for key in marks:\\n', '    print(key, marks[key])']},\n",
       "  {'cell_type': 'code',\n",
       "   'execution_count': 12,\n",
       "   'metadata': {},\n",
       "   'outputs': [{'ename': 'TypeError',\n",
       "     'evalue': \"unhashable type: 'list'\",\n",
       "     'output_type': 'error',\n",
       "     'traceback': ['\\x1b[0;31m---------------------------------------------------------------------------\\x1b[0m',\n",
       "      '\\x1b[0;31mTypeError\\x1b[0m                                 Traceback (most recent call last)',\n",
       "      '\\x1b[0;32m<ipython-input-12-d721cbe50421>\\x1b[0m in \\x1b[0;36m<module>\\x1b[0;34m()\\x1b[0m\\n\\x1b[0;32m----> 1\\x1b[0;31m \\x1b[0md\\x1b[0m \\x1b[0;34m=\\x1b[0m \\x1b[0;34m{\\x1b[0m\\x1b[0;34m[\\x1b[0m\\x1b[0;36m1\\x1b[0m\\x1b[0;34m,\\x1b[0m \\x1b[0;36m2\\x1b[0m\\x1b[0;34m]\\x1b[0m\\x1b[0;34m:\\x1b[0m \\x1b[0;36m1\\x1b[0m\\x1b[0;34m}\\x1b[0m\\x1b[0;34m\\x1b[0m\\x1b[0m\\n\\x1b[0m',\n",
       "      \"\\x1b[0;31mTypeError\\x1b[0m: unhashable type: 'list'\"]}],\n",
       "   'source': ['d = {[1, 2]: 1}']},\n",
       "  {'cell_type': 'markdown',\n",
       "   'metadata': {},\n",
       "   'source': ['- **порядок итерации по словарю произволен** : в отличие от ситуации со списком списка, элементы в словаре не упорядочены, а лежат в соответствии со своими хешами\\n',\n",
       "    '- **ключом словаря может быть только неизменяемый тип данных** : например: строки, числа, кортежи (списки, словари, множества не могут быть ключами)']},\n",
       "  {'cell_type': 'markdown', 'metadata': {}, 'source': ['## Кортежи']},\n",
       "  {'cell_type': 'markdown',\n",
       "   'metadata': {},\n",
       "   'source': ['Кортеж -- неизменяемый список\\n',\n",
       "    '\\n',\n",
       "    'Одно из применений -- можно использовать как ключ словаря']},\n",
       "  {'cell_type': 'code',\n",
       "   'execution_count': 11,\n",
       "   'metadata': {},\n",
       "   'outputs': [{'data': {'text/plain': [\"(1, 2, 'Hello')\"]},\n",
       "     'execution_count': 11,\n",
       "     'metadata': {},\n",
       "     'output_type': 'execute_result'}],\n",
       "   'source': [\"c = (1, 2, 'Hello')\\n\", 'c']},\n",
       "  {'cell_type': 'code',\n",
       "   'execution_count': 83,\n",
       "   'metadata': {},\n",
       "   'outputs': [{'data': {'text/plain': ['(1, 2)']},\n",
       "     'execution_count': 83,\n",
       "     'metadata': {},\n",
       "     'output_type': 'execute_result'}],\n",
       "   'source': ['c[0:2]']},\n",
       "  {'cell_type': 'code',\n",
       "   'execution_count': 12,\n",
       "   'metadata': {},\n",
       "   'outputs': [{'ename': 'TypeError',\n",
       "     'evalue': \"'tuple' object does not support item assignment\",\n",
       "     'output_type': 'error',\n",
       "     'traceback': ['\\x1b[0;31m---------------------------------------------------------------------------\\x1b[0m',\n",
       "      '\\x1b[0;31mTypeError\\x1b[0m                                 Traceback (most recent call last)',\n",
       "      '\\x1b[0;32m<ipython-input-12-0aed5cd8f234>\\x1b[0m in \\x1b[0;36m<module>\\x1b[0;34m()\\x1b[0m\\n\\x1b[0;32m----> 1\\x1b[0;31m \\x1b[0mc\\x1b[0m\\x1b[0;34m[\\x1b[0m\\x1b[0;36m0\\x1b[0m\\x1b[0;34m]\\x1b[0m \\x1b[0;34m=\\x1b[0m \\x1b[0;36m0\\x1b[0m\\x1b[0;34m\\x1b[0m\\x1b[0m\\n\\x1b[0m',\n",
       "      \"\\x1b[0;31mTypeError\\x1b[0m: 'tuple' object does not support item assignment\"]}],\n",
       "   'source': ['c[0] = 0']},\n",
       "  {'cell_type': 'code',\n",
       "   'execution_count': 85,\n",
       "   'metadata': {},\n",
       "   'outputs': [{'data': {'text/plain': [\"{(1, 2): 'a', (1, 3): 'b', (2, 1): 'c'}\"]},\n",
       "     'execution_count': 85,\n",
       "     'metadata': {},\n",
       "     'output_type': 'execute_result'}],\n",
       "   'source': ['d = {\\n',\n",
       "    \"    (1, 2): 'a',\\n\",\n",
       "    \"    (1, 3): 'b',\\n\",\n",
       "    \"    (2, 1): 'c'\\n\",\n",
       "    '}\\n',\n",
       "    'd']},\n",
       "  {'cell_type': 'code',\n",
       "   'execution_count': None,\n",
       "   'metadata': {},\n",
       "   'outputs': [],\n",
       "   'source': []},\n",
       "  {'cell_type': 'markdown', 'metadata': {}, 'source': ['## Множества']},\n",
       "  {'cell_type': 'markdown',\n",
       "   'metadata': {},\n",
       "   'source': ['Набор уникальных элементов\\n',\n",
       "    '\\n',\n",
       "    'Поддерживает операцию `in` за константное время (в случае со списком это `O(n)`)']},\n",
       "  {'cell_type': 'code',\n",
       "   'execution_count': 87,\n",
       "   'metadata': {},\n",
       "   'outputs': [{'data': {'text/plain': ['{1, 2, 3, 4}']},\n",
       "     'execution_count': 87,\n",
       "     'metadata': {},\n",
       "     'output_type': 'execute_result'}],\n",
       "   'source': ['s = set([1, 2, 3, 4, 3, 2, 1])\\n', 's']},\n",
       "  {'cell_type': 'code',\n",
       "   'execution_count': 88,\n",
       "   'metadata': {},\n",
       "   'outputs': [{'name': 'stdout',\n",
       "     'output_type': 'stream',\n",
       "     'text': ['True\\n', 'False\\n', 'True\\n']}],\n",
       "   'source': ['print(1 in s)\\n', 'print(5 in s)\\n', 'print(5 not in s)']},\n",
       "  {'cell_type': 'code',\n",
       "   'execution_count': 92,\n",
       "   'metadata': {},\n",
       "   'outputs': [{'data': {'text/plain': ['{1, 2, 3, 4, 10}']},\n",
       "     'execution_count': 92,\n",
       "     'metadata': {},\n",
       "     'output_type': 'execute_result'}],\n",
       "   'source': ['s.add(10)\\n', 's']},\n",
       "  {'cell_type': 'code',\n",
       "   'execution_count': 93,\n",
       "   'metadata': {},\n",
       "   'outputs': [{'data': {'text/plain': ['{1, 2, 3, 4, 10}']},\n",
       "     'execution_count': 93,\n",
       "     'metadata': {},\n",
       "     'output_type': 'execute_result'}],\n",
       "   'source': ['s.add(1)\\n', 's']},\n",
       "  {'cell_type': 'markdown',\n",
       "   'metadata': {},\n",
       "   'source': ['**элементы множества неупорядочены также как и ключи в массиве**']},\n",
       "  {'cell_type': 'code',\n",
       "   'execution_count': 90,\n",
       "   'metadata': {},\n",
       "   'outputs': [{'ename': 'TypeError',\n",
       "     'evalue': \"'set' object does not support indexing\",\n",
       "     'output_type': 'error',\n",
       "     'traceback': ['\\x1b[0;31m---------------------------------------------------------------------------\\x1b[0m',\n",
       "      '\\x1b[0;31mTypeError\\x1b[0m                                 Traceback (most recent call last)',\n",
       "      '\\x1b[0;32m<ipython-input-90-c9c96910e542>\\x1b[0m in \\x1b[0;36m<module>\\x1b[0;34m()\\x1b[0m\\n\\x1b[0;32m----> 1\\x1b[0;31m \\x1b[0ms\\x1b[0m\\x1b[0;34m[\\x1b[0m\\x1b[0;36m0\\x1b[0m\\x1b[0;34m]\\x1b[0m\\x1b[0;34m\\x1b[0m\\x1b[0m\\n\\x1b[0m',\n",
       "      \"\\x1b[0;31mTypeError\\x1b[0m: 'set' object does not support indexing\"]}],\n",
       "   'source': ['s[0]']},\n",
       "  {'cell_type': 'markdown',\n",
       "   'metadata': {},\n",
       "   'source': ['доступ к элементам множества можно получить через `for ... in` или `list(s)`']},\n",
       "  {'cell_type': 'code',\n",
       "   'execution_count': 94,\n",
       "   'metadata': {},\n",
       "   'outputs': [{'data': {'text/plain': ['[1, 2, 3, 4, 10]']},\n",
       "     'execution_count': 94,\n",
       "     'metadata': {},\n",
       "     'output_type': 'execute_result'}],\n",
       "   'source': ['list(s)']},\n",
       "  {'cell_type': 'markdown',\n",
       "   'metadata': {},\n",
       "   'source': ['Также есть много удобных функций для множеств, например объединение двух множеств']},\n",
       "  {'cell_type': 'code',\n",
       "   'execution_count': 34,\n",
       "   'metadata': {},\n",
       "   'outputs': [{'data': {'text/plain': ['{1, 2, 3, 4, 5}']},\n",
       "     'execution_count': 34,\n",
       "     'metadata': {},\n",
       "     'output_type': 'execute_result'}],\n",
       "   'source': ['s1 = {1, 2, 3, 4}\\n', 's2 = {2, 3, 4, 5}\\n', 's1.union(s2)']},\n",
       "  {'cell_type': 'markdown', 'metadata': {}, 'source': ['или разность']},\n",
       "  {'cell_type': 'code',\n",
       "   'execution_count': 48,\n",
       "   'metadata': {},\n",
       "   'outputs': [{'data': {'text/plain': ['{1}']},\n",
       "     'execution_count': 48,\n",
       "     'metadata': {},\n",
       "     'output_type': 'execute_result'}],\n",
       "   'source': ['s1 - s2']},\n",
       "  {'cell_type': 'markdown',\n",
       "   'metadata': {},\n",
       "   'source': ['Множества позволяют элегантно решать некоторые задачи, например нахождение количества уникальных слов в тексте']},\n",
       "  {'cell_type': 'code',\n",
       "   'execution_count': 99,\n",
       "   'metadata': {},\n",
       "   'outputs': [{'data': {'text/plain': [\"['the',\\n\",\n",
       "       \" 'adventures',\\n\",\n",
       "       \" 'of',\\n\",\n",
       "       \" 'sherlock',\\n\",\n",
       "       \" 'holmes',\\n\",\n",
       "       \" 'arthur',\\n\",\n",
       "       \" 'conan',\\n\",\n",
       "       \" 'doyle',\\n\",\n",
       "       \" 'table',\\n\",\n",
       "       \" 'of']\"]},\n",
       "     'execution_count': 99,\n",
       "     'metadata': {},\n",
       "     'output_type': 'execute_result'}],\n",
       "   'source': [\"with open('sherlock.txt') as f:\\n\",\n",
       "    '    text = f.read().lower()\\n',\n",
       "    '\\n',\n",
       "    'word_list = text.split()\\n',\n",
       "    'word_list[:10]']},\n",
       "  {'cell_type': 'code',\n",
       "   'execution_count': 100,\n",
       "   'metadata': {},\n",
       "   'outputs': [],\n",
       "   'source': ['word_set = set(word_list)']},\n",
       "  {'cell_type': 'code',\n",
       "   'execution_count': 101,\n",
       "   'metadata': {},\n",
       "   'outputs': [{'data': {'text/plain': ['14093']},\n",
       "     'execution_count': 101,\n",
       "     'metadata': {},\n",
       "     'output_type': 'execute_result'}],\n",
       "   'source': ['len(word_set)']},\n",
       "  {'cell_type': 'markdown',\n",
       "   'metadata': {},\n",
       "   'source': ['найдем, какие буквы не встречаются в данной фразе']},\n",
       "  {'cell_type': 'code',\n",
       "   'execution_count': 108,\n",
       "   'metadata': {},\n",
       "   'outputs': [],\n",
       "   'source': [\"s = 'Neque porro quisquam est qui dolorem ipsum quia dolor sit amet, consectetur, adipisci velit'\"]},\n",
       "  {'cell_type': 'code',\n",
       "   'execution_count': 111,\n",
       "   'metadata': {},\n",
       "   'outputs': [{'name': 'stdout',\n",
       "     'output_type': 'stream',\n",
       "     'text': ['97\\n', '122\\n', 'b\\n']}],\n",
       "   'source': [\"print(ord('a'))\\n\", \"print(ord('z'))\\n\", 'print(chr(98))']},\n",
       "  {'cell_type': 'code',\n",
       "   'execution_count': 47,\n",
       "   'metadata': {},\n",
       "   'outputs': [{'data': {'text/plain': [\"{'b', 'f', 'g', 'h', 'j', 'k', 'w', 'x', 'y', 'z'}\"]},\n",
       "     'execution_count': 47,\n",
       "     'metadata': {},\n",
       "     'output_type': 'execute_result'}],\n",
       "   'source': [\"set(map(chr, range(ord('a'), ord('z')+1))) - set(s.lower())\"]},\n",
       "  {'cell_type': 'code',\n",
       "   'execution_count': 173,\n",
       "   'metadata': {},\n",
       "   'outputs': [],\n",
       "   'source': ['from collections import Counter\\n',\n",
       "    '\\n',\n",
       "    'c = Counter()\\n',\n",
       "    'c.update(text.split())']},\n",
       "  {'cell_type': 'code',\n",
       "   'execution_count': 176,\n",
       "   'metadata': {},\n",
       "   'outputs': [],\n",
       "   'source': [\"c.update(['the', 'the'])\"]},\n",
       "  {'cell_type': 'code',\n",
       "   'execution_count': 177,\n",
       "   'metadata': {},\n",
       "   'outputs': [{'data': {'text/plain': ['5252']},\n",
       "     'execution_count': 177,\n",
       "     'metadata': {},\n",
       "     'output_type': 'execute_result'}],\n",
       "   'source': [\"c['the']\"]},\n",
       "  {'cell_type': 'code',\n",
       "   'execution_count': None,\n",
       "   'metadata': {},\n",
       "   'outputs': [],\n",
       "   'source': []},\n",
       "  {'cell_type': 'code',\n",
       "   'execution_count': None,\n",
       "   'metadata': {},\n",
       "   'outputs': [],\n",
       "   'source': []},\n",
       "  {'cell_type': 'code',\n",
       "   'execution_count': None,\n",
       "   'metadata': {},\n",
       "   'outputs': [],\n",
       "   'source': []},\n",
       "  {'cell_type': 'code',\n",
       "   'execution_count': None,\n",
       "   'metadata': {},\n",
       "   'outputs': [],\n",
       "   'source': []},\n",
       "  {'cell_type': 'code',\n",
       "   'execution_count': None,\n",
       "   'metadata': {},\n",
       "   'outputs': [],\n",
       "   'source': []},\n",
       "  {'cell_type': 'code',\n",
       "   'execution_count': None,\n",
       "   'metadata': {},\n",
       "   'outputs': [],\n",
       "   'source': []},\n",
       "  {'cell_type': 'markdown', 'metadata': {}, 'source': ['## Работа с файлами']},\n",
       "  {'cell_type': 'code',\n",
       "   'execution_count': 153,\n",
       "   'metadata': {},\n",
       "   'outputs': [{'data': {'text/plain': [\"'\\\\n\\\\n\\\\n\\\\n                        THE ADVENTURES OF SHERLOCK HOLMES\\\\n\\\\n                               Arthur Conan Doyle\\\\n\\\\n\\\\n\\\\n                                Table of contents\\\\n\\\\n               A Scandal in Bohem'\"]},\n",
       "     'execution_count': 153,\n",
       "     'metadata': {},\n",
       "     'output_type': 'execute_result'}],\n",
       "   'source': [\"file = open('sherlock.txt', 'r', encoding='utf-8')\\n\",\n",
       "    'text1 = file.read()\\n',\n",
       "    'file.close()\\n',\n",
       "    'text1[:200]']},\n",
       "  {'cell_type': 'code',\n",
       "   'execution_count': 154,\n",
       "   'metadata': {},\n",
       "   'outputs': [{'data': {'text/plain': [\"'\\\\n\\\\n\\\\n\\\\n                        THE ADVENTURES OF SHERLOCK HOLMES\\\\n\\\\n                               Arthur Conan Doyle\\\\n\\\\n\\\\n\\\\n                                Table of contents\\\\n\\\\n               A Scandal in Bohem'\"]},\n",
       "     'execution_count': 154,\n",
       "     'metadata': {},\n",
       "     'output_type': 'execute_result'}],\n",
       "   'source': [\"with open('sherlock.txt', encoding='utf8') as f:\\n\",\n",
       "    '    text2 = f.read()\\n',\n",
       "    'text2[:200]']},\n",
       "  {'cell_type': 'code',\n",
       "   'execution_count': 156,\n",
       "   'metadata': {},\n",
       "   'outputs': [],\n",
       "   'source': [\"with open('out.txt', 'w') as f:\\n\",\n",
       "    '    f.write(\"\\\\nI\\'m writing to file!!!\\\\n\")']},\n",
       "  {'cell_type': 'code',\n",
       "   'execution_count': 157,\n",
       "   'metadata': {},\n",
       "   'outputs': [{'name': 'stdout',\n",
       "     'output_type': 'stream',\n",
       "     'text': ['12195\\n']}],\n",
       "   'source': [\"with open('sherlock.txt') as f:\\n\",\n",
       "    '    i = 0\\n',\n",
       "    '    for line in f:\\n',\n",
       "    '        i += 1\\n',\n",
       "    'print(i)']},\n",
       "  {'cell_type': 'code',\n",
       "   'execution_count': 159,\n",
       "   'metadata': {},\n",
       "   'outputs': [],\n",
       "   'source': ['import os']},\n",
       "  {'cell_type': 'code',\n",
       "   'execution_count': 160,\n",
       "   'metadata': {},\n",
       "   'outputs': [{'data': {'text/plain': [\"['out.txt',\\n\",\n",
       "       \" 'Lesson_1.ipynb',\\n\",\n",
       "       \" '.ipynb_checkpoints',\\n\",\n",
       "       \" 'create_corpus_example.py',\\n\",\n",
       "       \" 'Lesson_2.ipynb',\\n\",\n",
       "       \" 'Lesson_3.ipynb',\\n\",\n",
       "       \" 'sherlock.txt',\\n\",\n",
       "       \" 'Homework_2.ipynb']\"]},\n",
       "     'execution_count': 160,\n",
       "     'metadata': {},\n",
       "     'output_type': 'execute_result'}],\n",
       "   'source': ['os.listdir()']},\n",
       "  {'cell_type': 'markdown',\n",
       "   'metadata': {},\n",
       "   'source': ['Мини задачка: пройдите по всем файлам в текущей директории и выведите имя и первые 100 символов каждого файла (вам понадобится функция `os.path.isfile`)']},\n",
       "  {'cell_type': 'code',\n",
       "   'execution_count': 161,\n",
       "   'metadata': {},\n",
       "   'outputs': [{'data': {'text/plain': ['False']},\n",
       "     'execution_count': 161,\n",
       "     'metadata': {},\n",
       "     'output_type': 'execute_result'}],\n",
       "   'source': [\"os.path.isfile('.ipyn')\"]},\n",
       "  {'cell_type': 'code',\n",
       "   'execution_count': 162,\n",
       "   'metadata': {},\n",
       "   'outputs': [{'name': 'stdout',\n",
       "     'output_type': 'stream',\n",
       "     'text': ['\\n',\n",
       "      \"I'm writing to file!!!\\n\",\n",
       "      '\\n',\n",
       "      '{\\n',\n",
       "      ' \"cells\": [\\n',\n",
       "      '  {\\n',\n",
       "      '   \"cell_type\": \"markdown\",\\n',\n",
       "      '   \"metadata\": {},\\n',\n",
       "      '   \"source\": [\\n',\n",
       "      '    \"## Jupyter Note\\n',\n",
       "      'import requests\\n',\n",
       "      'from bs4 import BeautifulSoup\\n',\n",
       "      'import urllib\\n',\n",
       "      'import re\\n',\n",
       "      '\\n',\n",
       "      '# здесь создаётся корпус\\n',\n",
       "      'mar_\\n',\n",
       "      '{\\n',\n",
       "      ' \"cells\": [\\n',\n",
       "      '  {\\n',\n",
       "      '   \"cell_type\": \"markdown\",\\n',\n",
       "      '   \"metadata\": {},\\n',\n",
       "      '   \"source\": [\\n',\n",
       "      '    \"## Списки\"\\n',\n",
       "      '   ]\\n',\n",
       "      '{\\n',\n",
       "      ' \"cells\": [\\n',\n",
       "      '  {\\n',\n",
       "      '   \"cell_type\": \"code\",\\n',\n",
       "      '   \"execution_count\": 1,\\n',\n",
       "      '   \"metadata\": {},\\n',\n",
       "      '   \"outputs\": \\n',\n",
       "      '\\n',\n",
       "      '\\n',\n",
       "      '\\n',\n",
       "      '\\n',\n",
       "      '                        THE ADVENTURES OF SHERLOCK HOLMES\\n',\n",
       "      '\\n',\n",
       "      '                               Arthur\\n',\n",
       "      '{\\n',\n",
       "      ' \"cells\": [\\n',\n",
       "      '  {\\n',\n",
       "      '   \"cell_type\": \"markdown\",\\n',\n",
       "      '   \"metadata\": {},\\n',\n",
       "      '   \"source\": [\\n',\n",
       "      '    \"# Homework 2\\\\n\"\\n']}],\n",
       "   'source': ['for path in os.listdir():\\n',\n",
       "    '    if os.path.isfile(path):\\n',\n",
       "    '        try:\\n',\n",
       "    \"            with open(path, encoding='utf8') as f:\\n\",\n",
       "    '                print(f.read()[:100])\\n',\n",
       "    '        except:\\n',\n",
       "    '            pass']},\n",
       "  {'cell_type': 'markdown',\n",
       "   'metadata': {},\n",
       "   'source': ['## Словари json\\n',\n",
       "    '\\n',\n",
       "    '**json (JavaScript Object Notation)** - форма']},\n",
       "  {'cell_type': 'code',\n",
       "   'execution_count': 163,\n",
       "   'metadata': {},\n",
       "   'outputs': [],\n",
       "   'source': ['marks = {\\n',\n",
       "    \"    'bob': {\\n\",\n",
       "    \"        'city': 'a',\\n\",\n",
       "    \"        'age': 1\\n\",\n",
       "    '    },\\n',\n",
       "    '    1: 4,\\n',\n",
       "    \"    'dan': [1, 2],\\n\",\n",
       "    \"    'bill': 3\\n\",\n",
       "    '}']},\n",
       "  {'cell_type': 'code',\n",
       "   'execution_count': 155,\n",
       "   'metadata': {},\n",
       "   'outputs': [],\n",
       "   'source': ['import json']},\n",
       "  {'cell_type': 'code',\n",
       "   'execution_count': 164,\n",
       "   'metadata': {},\n",
       "   'outputs': [{'data': {'text/plain': ['\\'{\"bob\": {\"city\": \"a\", \"age\": 1}, \"1\": 4, \"dan\": [1, 2], \"bill\": 3}\\'']},\n",
       "     'execution_count': 164,\n",
       "     'metadata': {},\n",
       "     'output_type': 'execute_result'}],\n",
       "   'source': ['s = json.dumps(marks)\\n', 's']},\n",
       "  {'cell_type': 'code',\n",
       "   'execution_count': 165,\n",
       "   'metadata': {},\n",
       "   'outputs': [],\n",
       "   'source': [\"json.dump(marks, open('out.txt', 'w'))\"]},\n",
       "  {'cell_type': 'code',\n",
       "   'execution_count': 161,\n",
       "   'metadata': {},\n",
       "   'outputs': [{'data': {'text/plain': [\"{'1': 2}\"]},\n",
       "     'execution_count': 161,\n",
       "     'metadata': {},\n",
       "     'output_type': 'execute_result'}],\n",
       "   'source': ['s = \\'{\"1\": 2}\\'\\n', 'json.loads(s)']},\n",
       "  {'cell_type': 'code',\n",
       "   'execution_count': 166,\n",
       "   'metadata': {},\n",
       "   'outputs': [{'data': {'text/plain': [\"{'1': 4, 'bill': 3, 'bob': {'age': 1, 'city': 'a'}, 'dan': [1, 2]}\"]},\n",
       "     'execution_count': 166,\n",
       "     'metadata': {},\n",
       "     'output_type': 'execute_result'}],\n",
       "   'source': [\"json.load(open('out.txt'))\"]},\n",
       "  {'cell_type': 'code',\n",
       "   'execution_count': 167,\n",
       "   'metadata': {},\n",
       "   'outputs': [{'data': {'text/plain': [\"{'cells': [{'cell_type': 'markdown', 'metadata': {}, 'source': ['## Словари']},\\n\",\n",
       "       \"  {'cell_type': 'markdown',\\n\",\n",
       "       \"   'metadata': {},\\n\",\n",
       "       \"   'source': ['Новая структура данных -- словарь (`dict`)\\\\n',\\n\",\n",
       "       \"    '\\\\n',\\n\",\n",
       "       \"    'Эта структура данных хранит пары ключ-значение и предоставляет быстрый доступ по ключу']},\\n\",\n",
       "       \"  {'cell_type': 'code',\\n\",\n",
       "       \"   'execution_count': 81,\\n\",\n",
       "       \"   'metadata': {},\\n\",\n",
       "       '   \\'outputs\\': [{\\'data\\': {\\'text/plain\\': [\"{\\'alice\\': 4, \\'bill\\': 3, \\'bob\\': 5, \\'dan\\': 5}\"]},\\n',\n",
       "       \"     'execution_count': 81,\\n\",\n",
       "       \"     'metadata': {},\\n\",\n",
       "       \"     'output_type': 'execute_result'}],\\n\",\n",
       "       \"   'source': ['# оценки разных людей\\\\n',\\n\",\n",
       "       \"    'marks = {\\\\n',\\n\",\n",
       "       '    \"    \\'bob\\': 5,\\\\n\",\\n',\n",
       "       '    \"    \\'alice\\': 4,\\\\n\",\\n',\n",
       "       '    \"    \\'dan\\': 5,\\\\n\",\\n',\n",
       "       '    \"    \\'bill\\': 3\\\\n\",\\n',\n",
       "       \"    '}\\\\n',\\n\",\n",
       "       \"    'marks']},\\n\",\n",
       "       \"  {'cell_type': 'code',\\n\",\n",
       "       \"   'execution_count': 77,\\n\",\n",
       "       \"   'metadata': {},\\n\",\n",
       "       \"   'outputs': [{'data': {'text/plain': ['5']},\\n\",\n",
       "       \"     'execution_count': 77,\\n\",\n",
       "       \"     'metadata': {},\\n\",\n",
       "       \"     'output_type': 'execute_result'}],\\n\",\n",
       "       '   \\'source\\': [\"marks[\\'bob\\']\"]},\\n',\n",
       "       \"  {'cell_type': 'code',\\n\",\n",
       "       \"   'execution_count': 3,\\n\",\n",
       "       \"   'metadata': {},\\n\",\n",
       "       '   \\'outputs\\': [{\\'data\\': {\\'text/plain\\': [\"{\\'alice\\': 5, \\'anonymus\\': 1, \\'bill\\': 3, \\'bob\\': 5, \\'dan\\': 5}\"]},\\n',\n",
       "       \"     'execution_count': 3,\\n\",\n",
       "       \"     'metadata': {},\\n\",\n",
       "       \"     'output_type': 'execute_result'}],\\n\",\n",
       "       '   \\'source\\': [\"marks[\\'alice\\'] = 5\\\\n\", \"marks[\\'anonymus\\'] = 1\\\\n\", \\'marks\\']},\\n',\n",
       "       \"  {'cell_type': 'code',\\n\",\n",
       "       \"   'execution_count': 4,\\n\",\n",
       "       \"   'metadata': {},\\n\",\n",
       "       \"   'outputs': [{'name': 'stdout',\\n\",\n",
       "       \"     'output_type': 'stream',\\n\",\n",
       "       \"     'text': ['True\\\\n', 'False\\\\n']}],\\n\",\n",
       "       '   \\'source\\': [\"print(\\'alice\\' in marks)\\\\n\", \"print(\\'mary\\' in marks)\"]},\\n',\n",
       "       \"  {'cell_type': 'code',\\n\",\n",
       "       \"   'execution_count': 80,\\n\",\n",
       "       \"   'metadata': {},\\n\",\n",
       "       \"   'outputs': [{'name': 'stdout',\\n\",\n",
       "       \"     'output_type': 'stream',\\n\",\n",
       "       '     \\'text\\': [\"dict_keys([\\'bob\\', \\'alice\\', \\'dan\\', \\'bill\\'])\\\\n\",\\n',\n",
       "       \"      'dict_values([5, 4, 5, 3])\\\\n',\\n\",\n",
       "       '      \"dict_items([(\\'bob\\', 5), (\\'alice\\', 4), (\\'dan\\', 5), (\\'bill\\', 3)])\\\\n\"]}],\\n',\n",
       "       \"   'source': ['print(marks.keys())\\\\n',\\n\",\n",
       "       \"    'print(marks.values())\\\\n',\\n\",\n",
       "       \"    'print(marks.items())']},\\n\",\n",
       "       \"  {'cell_type': 'code',\\n\",\n",
       "       \"   'execution_count': 6,\\n\",\n",
       "       \"   'metadata': {},\\n\",\n",
       "       \"   'outputs': [{'name': 'stdout',\\n\",\n",
       "       \"     'output_type': 'stream',\\n\",\n",
       "       \"     'text': ['bob 5\\\\n', 'alice 5\\\\n', 'dan 5\\\\n', 'bill 3\\\\n', 'anonymus 1\\\\n']}],\\n\",\n",
       "       \"   'source': ['for key in marks:\\\\n', '    print(key, marks[key])']},\\n\",\n",
       "       \"  {'cell_type': 'code',\\n\",\n",
       "       \"   'execution_count': 82,\\n\",\n",
       "       \"   'metadata': {},\\n\",\n",
       "       \"   'outputs': [{'ename': 'TypeError',\\n\",\n",
       "       '     \\'evalue\\': \"unhashable type: \\'list\\'\",\\n',\n",
       "       \"     'output_type': 'error',\\n\",\n",
       "       \"     'traceback': ['\\\\x1b[0;31m---------------------------------------------------------------------------\\\\x1b[0m',\\n\",\n",
       "       \"      '\\\\x1b[0;31mTypeError\\\\x1b[0m                                 Traceback (most recent call last)',\\n\",\n",
       "       \"      '\\\\x1b[0;32m<ipython-input-82-d721cbe50421>\\\\x1b[0m in \\\\x1b[0;36m<module>\\\\x1b[0;34m()\\\\x1b[0m\\\\n\\\\x1b[0;32m----> 1\\\\x1b[0;31m \\\\x1b[0md\\\\x1b[0m \\\\x1b[0;34m=\\\\x1b[0m \\\\x1b[0;34m{\\\\x1b[0m\\\\x1b[0;34m[\\\\x1b[0m\\\\x1b[0;36m1\\\\x1b[0m\\\\x1b[0;34m,\\\\x1b[0m \\\\x1b[0;36m2\\\\x1b[0m\\\\x1b[0;34m]\\\\x1b[0m\\\\x1b[0;34m:\\\\x1b[0m \\\\x1b[0;36m1\\\\x1b[0m\\\\x1b[0;34m}\\\\x1b[0m\\\\x1b[0;34m\\\\x1b[0m\\\\x1b[0m\\\\n\\\\x1b[0m',\\n\",\n",
       "       '      \"\\\\x1b[0;31mTypeError\\\\x1b[0m: unhashable type: \\'list\\'\"]}],\\n',\n",
       "       \"   'source': ['d = {[1, 2]: 1}']},\\n\",\n",
       "       \"  {'cell_type': 'markdown',\\n\",\n",
       "       \"   'metadata': {},\\n\",\n",
       "       \"   'source': ['**порядок итерации по словарю произволен**\\\\n',\\n\",\n",
       "       \"    '\\\\n',\\n\",\n",
       "       \"    'в отличие от ситуации со списком списка, элементы в словаре не упорядочены, а лежат в соответствии со своими хешами']},\\n\",\n",
       "       \"  {'cell_type': 'markdown',\\n\",\n",
       "       \"   'metadata': {},\\n\",\n",
       "       \"   'source': ['**ключом словаря может быть только неизменяемый тип данных**\\\\n',\\n\",\n",
       "       \"    '\\\\n',\\n\",\n",
       "       \"    'например: строки, числа, кортежи\\\\n',\\n\",\n",
       "       \"    '\\\\n',\\n\",\n",
       "       \"    'не могут быть ключами: списки, словари, множества и тд']},\\n\",\n",
       "       \"  {'cell_type': 'markdown', 'metadata': {}, 'source': ['## Кортежи']},\\n\",\n",
       "       \"  {'cell_type': 'markdown',\\n\",\n",
       "       \"   'metadata': {},\\n\",\n",
       "       \"   'source': ['Кортеж -- неизменяемый список\\\\n',\\n\",\n",
       "       \"    '\\\\n',\\n\",\n",
       "       \"    'Одно из применений -- можно использовать как ключ словаря']},\\n\",\n",
       "       \"  {'cell_type': 'code',\\n\",\n",
       "       \"   'execution_count': 11,\\n\",\n",
       "       \"   'metadata': {},\\n\",\n",
       "       '   \\'outputs\\': [{\\'data\\': {\\'text/plain\\': [\"(1, 2, \\'Hello\\')\"]},\\n',\n",
       "       \"     'execution_count': 11,\\n\",\n",
       "       \"     'metadata': {},\\n\",\n",
       "       \"     'output_type': 'execute_result'}],\\n\",\n",
       "       '   \\'source\\': [\"c = (1, 2, \\'Hello\\')\\\\n\", \\'c\\']},\\n',\n",
       "       \"  {'cell_type': 'code',\\n\",\n",
       "       \"   'execution_count': 83,\\n\",\n",
       "       \"   'metadata': {},\\n\",\n",
       "       \"   'outputs': [{'data': {'text/plain': ['(1, 2)']},\\n\",\n",
       "       \"     'execution_count': 83,\\n\",\n",
       "       \"     'metadata': {},\\n\",\n",
       "       \"     'output_type': 'execute_result'}],\\n\",\n",
       "       \"   'source': ['c[0:2]']},\\n\",\n",
       "       \"  {'cell_type': 'code',\\n\",\n",
       "       \"   'execution_count': 12,\\n\",\n",
       "       \"   'metadata': {},\\n\",\n",
       "       \"   'outputs': [{'ename': 'TypeError',\\n\",\n",
       "       '     \\'evalue\\': \"\\'tuple\\' object does not support item assignment\",\\n',\n",
       "       \"     'output_type': 'error',\\n\",\n",
       "       \"     'traceback': ['\\\\x1b[0;31m---------------------------------------------------------------------------\\\\x1b[0m',\\n\",\n",
       "       \"      '\\\\x1b[0;31mTypeError\\\\x1b[0m                                 Traceback (most recent call last)',\\n\",\n",
       "       \"      '\\\\x1b[0;32m<ipython-input-12-0aed5cd8f234>\\\\x1b[0m in \\\\x1b[0;36m<module>\\\\x1b[0;34m()\\\\x1b[0m\\\\n\\\\x1b[0;32m----> 1\\\\x1b[0;31m \\\\x1b[0mc\\\\x1b[0m\\\\x1b[0;34m[\\\\x1b[0m\\\\x1b[0;36m0\\\\x1b[0m\\\\x1b[0;34m]\\\\x1b[0m \\\\x1b[0;34m=\\\\x1b[0m \\\\x1b[0;36m0\\\\x1b[0m\\\\x1b[0;34m\\\\x1b[0m\\\\x1b[0m\\\\n\\\\x1b[0m',\\n\",\n",
       "       '      \"\\\\x1b[0;31mTypeError\\\\x1b[0m: \\'tuple\\' object does not support item assignment\"]}],\\n',\n",
       "       \"   'source': ['c[0] = 0']},\\n\",\n",
       "       \"  {'cell_type': 'code',\\n\",\n",
       "       \"   'execution_count': 85,\\n\",\n",
       "       \"   'metadata': {},\\n\",\n",
       "       '   \\'outputs\\': [{\\'data\\': {\\'text/plain\\': [\"{(1, 2): \\'a\\', (1, 3): \\'b\\', (2, 1): \\'c\\'}\"]},\\n',\n",
       "       \"     'execution_count': 85,\\n\",\n",
       "       \"     'metadata': {},\\n\",\n",
       "       \"     'output_type': 'execute_result'}],\\n\",\n",
       "       \"   'source': ['d = {\\\\n',\\n\",\n",
       "       '    \"    (1, 2): \\'a\\',\\\\n\",\\n',\n",
       "       '    \"    (1, 3): \\'b\\',\\\\n\",\\n',\n",
       "       '    \"    (2, 1): \\'c\\'\\\\n\",\\n',\n",
       "       \"    '}\\\\n',\\n\",\n",
       "       \"    'd']},\\n\",\n",
       "       \"  {'cell_type': 'code',\\n\",\n",
       "       \"   'execution_count': None,\\n\",\n",
       "       \"   'metadata': {},\\n\",\n",
       "       \"   'outputs': [],\\n\",\n",
       "       \"   'source': []},\\n\",\n",
       "       \"  {'cell_type': 'markdown', 'metadata': {}, 'source': ['## Множества']},\\n\",\n",
       "       \"  {'cell_type': 'markdown',\\n\",\n",
       "       \"   'metadata': {},\\n\",\n",
       "       \"   'source': ['в этом типе данных все элементы уникальны\\\\n',\\n\",\n",
       "       \"    '\\\\n',\\n\",\n",
       "       \"    'множество поддерживает операцию `in` за константное время (в случае со списком это `O(n)`)']},\\n\",\n",
       "       \"  {'cell_type': 'code',\\n\",\n",
       "       \"   'execution_count': 87,\\n\",\n",
       "       \"   'metadata': {},\\n\",\n",
       "       \"   'outputs': [{'data': {'text/plain': ['{1, 2, 3, 4}']},\\n\",\n",
       "       \"     'execution_count': 87,\\n\",\n",
       "       \"     'metadata': {},\\n\",\n",
       "       \"     'output_type': 'execute_result'}],\\n\",\n",
       "       \"   'source': ['s = set([1, 2, 3, 4, 3, 2, 1])\\\\n', 's']},\\n\",\n",
       "       \"  {'cell_type': 'code',\\n\",\n",
       "       \"   'execution_count': 88,\\n\",\n",
       "       \"   'metadata': {},\\n\",\n",
       "       \"   'outputs': [{'name': 'stdout',\\n\",\n",
       "       \"     'output_type': 'stream',\\n\",\n",
       "       \"     'text': ['True\\\\n', 'False\\\\n', 'True\\\\n']}],\\n\",\n",
       "       \"   'source': ['print(1 in s)\\\\n', 'print(5 in s)\\\\n', 'print(5 not in s)']},\\n\",\n",
       "       \"  {'cell_type': 'code',\\n\",\n",
       "       \"   'execution_count': 92,\\n\",\n",
       "       \"   'metadata': {},\\n\",\n",
       "       \"   'outputs': [{'data': {'text/plain': ['{1, 2, 3, 4, 10}']},\\n\",\n",
       "       \"     'execution_count': 92,\\n\",\n",
       "       \"     'metadata': {},\\n\",\n",
       "       \"     'output_type': 'execute_result'}],\\n\",\n",
       "       \"   'source': ['s.add(10)\\\\n', 's']},\\n\",\n",
       "       \"  {'cell_type': 'code',\\n\",\n",
       "       \"   'execution_count': 93,\\n\",\n",
       "       \"   'metadata': {},\\n\",\n",
       "       \"   'outputs': [{'data': {'text/plain': ['{1, 2, 3, 4, 10}']},\\n\",\n",
       "       \"     'execution_count': 93,\\n\",\n",
       "       \"     'metadata': {},\\n\",\n",
       "       \"     'output_type': 'execute_result'}],\\n\",\n",
       "       \"   'source': ['s.add(1)\\\\n', 's']},\\n\",\n",
       "       \"  {'cell_type': 'markdown',\\n\",\n",
       "       \"   'metadata': {},\\n\",\n",
       "       \"   'source': ['**элементы множества неупорядочены также как и ключи в массиве**']},\\n\",\n",
       "       \"  {'cell_type': 'code',\\n\",\n",
       "       \"   'execution_count': 90,\\n\",\n",
       "       \"   'metadata': {},\\n\",\n",
       "       \"   'outputs': [{'ename': 'TypeError',\\n\",\n",
       "       '     \\'evalue\\': \"\\'set\\' object does not support indexing\",\\n',\n",
       "       \"     'output_type': 'error',\\n\",\n",
       "       \"     'traceback': ['\\\\x1b[0;31m---------------------------------------------------------------------------\\\\x1b[0m',\\n\",\n",
       "       \"      '\\\\x1b[0;31mTypeError\\\\x1b[0m                                 Traceback (most recent call last)',\\n\",\n",
       "       \"      '\\\\x1b[0;32m<ipython-input-90-c9c96910e542>\\\\x1b[0m in \\\\x1b[0;36m<module>\\\\x1b[0;34m()\\\\x1b[0m\\\\n\\\\x1b[0;32m----> 1\\\\x1b[0;31m \\\\x1b[0ms\\\\x1b[0m\\\\x1b[0;34m[\\\\x1b[0m\\\\x1b[0;36m0\\\\x1b[0m\\\\x1b[0;34m]\\\\x1b[0m\\\\x1b[0;34m\\\\x1b[0m\\\\x1b[0m\\\\n\\\\x1b[0m',\\n\",\n",
       "       '      \"\\\\x1b[0;31mTypeError\\\\x1b[0m: \\'set\\' object does not support indexing\"]}],\\n',\n",
       "       \"   'source': ['s[0]']},\\n\",\n",
       "       \"  {'cell_type': 'markdown',\\n\",\n",
       "       \"   'metadata': {},\\n\",\n",
       "       \"   'source': ['доступ к элементам множества можно получить через `for ... in` или `list(s)`']},\\n\",\n",
       "       \"  {'cell_type': 'code',\\n\",\n",
       "       \"   'execution_count': 94,\\n\",\n",
       "       \"   'metadata': {},\\n\",\n",
       "       \"   'outputs': [{'data': {'text/plain': ['[1, 2, 3, 4, 10]']},\\n\",\n",
       "       \"     'execution_count': 94,\\n\",\n",
       "       \"     'metadata': {},\\n\",\n",
       "       \"     'output_type': 'execute_result'}],\\n\",\n",
       "       \"   'source': ['list(s)']},\\n\",\n",
       "       \"  {'cell_type': 'markdown',\\n\",\n",
       "       \"   'metadata': {},\\n\",\n",
       "       \"   'source': ['Также есть много удобных функций для множеств, например объединение двух множеств']},\\n\",\n",
       "       \"  {'cell_type': 'code',\\n\",\n",
       "       \"   'execution_count': 34,\\n\",\n",
       "       \"   'metadata': {},\\n\",\n",
       "       \"   'outputs': [{'data': {'text/plain': ['{1, 2, 3, 4, 5}']},\\n\",\n",
       "       \"     'execution_count': 34,\\n\",\n",
       "       \"     'metadata': {},\\n\",\n",
       "       \"     'output_type': 'execute_result'}],\\n\",\n",
       "       \"   'source': ['s1 = {1, 2, 3, 4}\\\\n', 's2 = {2, 3, 4, 5}\\\\n', 's1.union(s2)']},\\n\",\n",
       "       \"  {'cell_type': 'markdown', 'metadata': {}, 'source': ['или разность']},\\n\",\n",
       "       \"  {'cell_type': 'code',\\n\",\n",
       "       \"   'execution_count': 48,\\n\",\n",
       "       \"   'metadata': {},\\n\",\n",
       "       \"   'outputs': [{'data': {'text/plain': ['{1}']},\\n\",\n",
       "       \"     'execution_count': 48,\\n\",\n",
       "       \"     'metadata': {},\\n\",\n",
       "       \"     'output_type': 'execute_result'}],\\n\",\n",
       "       \"   'source': ['s1 - s2']},\\n\",\n",
       "       \"  {'cell_type': 'markdown',\\n\",\n",
       "       \"   'metadata': {},\\n\",\n",
       "       \"   'source': ['Множества позволяют элегантно решать некоторые задачи, например нахождение количества уникальных слов в тексте']},\\n\",\n",
       "       \"  {'cell_type': 'code',\\n\",\n",
       "       \"   'execution_count': 99,\\n\",\n",
       "       \"   'metadata': {},\\n\",\n",
       "       '   \\'outputs\\': [{\\'data\\': {\\'text/plain\\': [\"[\\'the\\',\\\\n\",\\n',\n",
       "       '       \" \\'adventures\\',\\\\n\",\\n',\n",
       "       '       \" \\'of\\',\\\\n\",\\n',\n",
       "       '       \" \\'sherlock\\',\\\\n\",\\n',\n",
       "       '       \" \\'holmes\\',\\\\n\",\\n',\n",
       "       '       \" \\'arthur\\',\\\\n\",\\n',\n",
       "       '       \" \\'conan\\',\\\\n\",\\n',\n",
       "       '       \" \\'doyle\\',\\\\n\",\\n',\n",
       "       '       \" \\'table\\',\\\\n\",\\n',\n",
       "       '       \" \\'of\\']\"]},\\n',\n",
       "       \"     'execution_count': 99,\\n\",\n",
       "       \"     'metadata': {},\\n\",\n",
       "       \"     'output_type': 'execute_result'}],\\n\",\n",
       "       '   \\'source\\': [\"with open(\\'sherlock.txt\\') as f:\\\\n\",\\n',\n",
       "       \"    '    text = f.read().lower()\\\\n',\\n\",\n",
       "       \"    '\\\\n',\\n\",\n",
       "       \"    'word_list = text.split()\\\\n',\\n\",\n",
       "       \"    'word_list[:10]']},\\n\",\n",
       "       \"  {'cell_type': 'code',\\n\",\n",
       "       \"   'execution_count': 100,\\n\",\n",
       "       \"   'metadata': {},\\n\",\n",
       "       \"   'outputs': [],\\n\",\n",
       "       \"   'source': ['word_set = set(word_list)']},\\n\",\n",
       "       \"  {'cell_type': 'code',\\n\",\n",
       "       \"   'execution_count': 101,\\n\",\n",
       "       \"   'metadata': {},\\n\",\n",
       "       \"   'outputs': [{'data': {'text/plain': ['14093']},\\n\",\n",
       "       \"     'execution_count': 101,\\n\",\n",
       "       \"     'metadata': {},\\n\",\n",
       "       \"     'output_type': 'execute_result'}],\\n\",\n",
       "       \"   'source': ['len(word_set)']},\\n\",\n",
       "       \"  {'cell_type': 'markdown',\\n\",\n",
       "       \"   'metadata': {},\\n\",\n",
       "       \"   'source': ['найдем, какие буквы не встречаются в данной фразе']},\\n\",\n",
       "       \"  {'cell_type': 'code',\\n\",\n",
       "       \"   'execution_count': 108,\\n\",\n",
       "       \"   'metadata': {},\\n\",\n",
       "       \"   'outputs': [],\\n\",\n",
       "       '   \\'source\\': [\"s = \\'Neque porro quisquam est qui dolorem ipsum quia dolor sit amet, consectetur, adipisci velit\\'\"]},\\n',\n",
       "       \"  {'cell_type': 'code',\\n\",\n",
       "       \"   'execution_count': 111,\\n\",\n",
       "       \"   'metadata': {},\\n\",\n",
       "       \"   'outputs': [{'name': 'stdout',\\n\",\n",
       "       \"     'output_type': 'stream',\\n\",\n",
       "       \"     'text': ['97\\\\n', '122\\\\n', 'b\\\\n']}],\\n\",\n",
       "       '   \\'source\\': [\"print(ord(\\'a\\'))\\\\n\", \"print(ord(\\'z\\'))\\\\n\", \\'print(chr(98))\\']},\\n',\n",
       "       \"  {'cell_type': 'code',\\n\",\n",
       "       \"   'execution_count': 47,\\n\",\n",
       "       \"   'metadata': {},\\n\",\n",
       "       '   \\'outputs\\': [{\\'data\\': {\\'text/plain\\': [\"{\\'b\\', \\'f\\', \\'g\\', \\'h\\', \\'j\\', \\'k\\', \\'w\\', \\'x\\', \\'y\\', \\'z\\'}\"]},\\n',\n",
       "       \"     'execution_count': 47,\\n\",\n",
       "       \"     'metadata': {},\\n\",\n",
       "       \"     'output_type': 'execute_result'}],\\n\",\n",
       "       '   \\'source\\': [\"set(map(chr, range(ord(\\'a\\'), ord(\\'z\\')+1))) - set(s.lower())\"]},\\n',\n",
       "       \"  {'cell_type': 'markdown', 'metadata': {}, 'source': ['## Работа с файлами']},\\n\",\n",
       "       \"  {'cell_type': 'code',\\n\",\n",
       "       \"   'execution_count': 130,\\n\",\n",
       "       \"   'metadata': {},\\n\",\n",
       "       \"   'outputs': [],\\n\",\n",
       "       '   \\'source\\': [\"with open(\\'sherlock.txt\\', encoding=\\'utf8\\') as f:\\\\n\",\\n',\n",
       "       \"    '    text = f.read()']},\\n\",\n",
       "       \"  {'cell_type': 'code',\\n\",\n",
       "       \"   'execution_count': 121,\\n\",\n",
       "       \"   'metadata': {},\\n\",\n",
       "       \"   'outputs': [{'name': 'stdout',\\n\",\n",
       "       \"     'output_type': 'stream',\\n\",\n",
       "       \"     'text': ['русский\\\\n']}],\\n\",\n",
       "       '   \\'source\\': [\"with open(\\'untitled.txt\\', ) as f:\\\\n\", \\'    print(f.read())\\']},\\n',\n",
       "       \"  {'cell_type': 'code',\\n\",\n",
       "       \"   'execution_count': 117,\\n\",\n",
       "       \"   'metadata': {},\\n\",\n",
       "       \"   'outputs': [],\\n\",\n",
       "       '   \\'source\\': [\"with open(\\'out.txt\\', \\'w\\') as f:\\\\n\",\\n',\n",
       "       '    \\'    f.write(\"\\\\\\\\nI\\\\\\'m writing to file!!!\\\\\\\\n\")\\']},\\n',\n",
       "       \"  {'cell_type': 'code',\\n\",\n",
       "       \"   'execution_count': 115,\\n\",\n",
       "       \"   'metadata': {},\\n\",\n",
       "       \"   'outputs': [{'name': 'stdout',\\n\",\n",
       "       \"     'output_type': 'stream',\\n\",\n",
       "       \"     'text': ['12195\\\\n']}],\\n\",\n",
       "       '   \\'source\\': [\"with open(\\'sherlock.txt\\') as f:\\\\n\",\\n',\n",
       "       \"    '    i = 0\\\\n',\\n\",\n",
       "       \"    '    for line in f:\\\\n',\\n\",\n",
       "       \"    '        i += 1\\\\n',\\n\",\n",
       "       \"    'print(i)']},\\n\",\n",
       "       \"  {'cell_type': 'code',\\n\",\n",
       "       \"   'execution_count': 52,\\n\",\n",
       "       \"   'metadata': {},\\n\",\n",
       "       \"   'outputs': [],\\n\",\n",
       "       \"   'source': ['import os']},\\n\",\n",
       "       \"  {'cell_type': 'code',\\n\",\n",
       "       \"   'execution_count': 119,\\n\",\n",
       "       \"   'metadata': {},\\n\",\n",
       "       '   \\'outputs\\': [{\\'data\\': {\\'text/plain\\': [\"[\\'out.txt\\',\\\\n\",\\n',\n",
       "       '       \" \\'func.ipynb\\',\\\\n\",\\n',\n",
       "       '       \" \\'Homework2.ipynb\\',\\\\n\",\\n',\n",
       "       '       \" \\'.ipynb_checkpoints\\',\\\\n\",\\n',\n",
       "       '       \" \\'Lesson3.ipynb\\',\\\\n\",\\n',\n",
       "       '       \" \\'Homework1.ipynb\\',\\\\n\",\\n',\n",
       "       '       \" \\'Lesson1-2.ipynb\\',\\\\n\",\\n',\n",
       "       '       \" \\'sherlock.txt\\']\"]},\\n',\n",
       "       \"     'execution_count': 119,\\n\",\n",
       "       \"     'metadata': {},\\n\",\n",
       "       \"     'output_type': 'execute_result'}],\\n\",\n",
       "       \"   'source': ['os.listdir()']},\\n\",\n",
       "       \"  {'cell_type': 'markdown',\\n\",\n",
       "       \"   'metadata': {},\\n\",\n",
       "       \"   'source': ['Мини задачка: пройдите по всем файлам в текущей директории и выведите имя и первые 100 символов каждого файла (вам понадобится функция `os.path.isfile`)']},\\n\",\n",
       "       \"  {'cell_type': 'code',\\n\",\n",
       "       \"   'execution_count': 125,\\n\",\n",
       "       \"   'metadata': {},\\n\",\n",
       "       \"   'outputs': [{'data': {'text/plain': ['False']},\\n\",\n",
       "       \"     'execution_count': 125,\\n\",\n",
       "       \"     'metadata': {},\\n\",\n",
       "       \"     'output_type': 'execute_result'}],\\n\",\n",
       "       '   \\'source\\': [\"os.path.isfile(\\'.ipyn\\')\"]},\\n',\n",
       "       \"  {'cell_type': 'code',\\n\",\n",
       "       \"   'execution_count': 129,\\n\",\n",
       "       \"   'metadata': {},\\n\",\n",
       "       \"   'outputs': [{'name': 'stdout',\\n\",\n",
       "       \"     'output_type': 'stream',\\n\",\n",
       "       '     \\'text\\': [\"I\\'m writing to file!!!I\\'m writing to file!!!\\\\n\",\\n',\n",
       "       '      \"I\\'m writing to file!!!\\\\n\",\\n',\n",
       "       \"      '\\\\n',\\n\",\n",
       "       \"      '{\\\\n',\\n\",\n",
       "       '      \\' \"cells\": [\\\\n\\',\\n',\n",
       "       \"      '  {\\\\n',\\n\",\n",
       "       '      \\'   \"cell_type\": \"markdown\",\\\\n\\',\\n',\n",
       "       '      \\'   \"metadata\": {},\\\\n\\',\\n',\n",
       "       '      \\'   \"source\": [\\\\n\\',\\n',\n",
       "       '      \\'    \"## Элементы фун\\\\n\\',\\n',\n",
       "       \"      'русский\\\\n',\\n\",\n",
       "       \"      '{\\\\n',\\n\",\n",
       "       '      \\' \"cells\": [\\\\n\\',\\n',\n",
       "       \"      '  {\\\\n',\\n\",\n",
       "       '      \\'   \"cell_type\": \"markdown\",\\\\n\\',\\n',\n",
       "       '      \\'   \"metadata\": {},\\\\n\\',\\n',\n",
       "       '      \\'   \"source\": [\\\\n\\',\\n',\n",
       "       '      \\'    \"# Второе домашн\\\\n\\',\\n',\n",
       "       \"      '{\\\\n',\\n\",\n",
       "       '      \\' \"cells\": [\\\\n\\',\\n',\n",
       "       \"      '  {\\\\n',\\n\",\n",
       "       '      \\'   \"cell_type\": \"markdown\",\\\\n\\',\\n',\n",
       "       '      \\'   \"metadata\": {},\\\\n\\',\\n',\n",
       "       '      \\'   \"source\": [\\\\n\\',\\n',\n",
       "       '      \\'    \"## Словари\"\\\\n\\',\\n',\n",
       "       \"      '   \\\\n',\\n\",\n",
       "       \"      '{\\\\n',\\n\",\n",
       "       '      \\' \"cells\": [\\\\n\\',\\n',\n",
       "       \"      '  {\\\\n',\\n\",\n",
       "       '      \\'   \"cell_type\": \"markdown\",\\\\n\\',\\n',\n",
       "       '      \\'   \"metadata\": {},\\\\n\\',\\n',\n",
       "       '      \\'   \"source\": [\\\\n\\',\\n',\n",
       "       '      \\'    \"# Первое домашн\\\\n\\',\\n',\n",
       "       \"      '{\\\\n',\\n\",\n",
       "       '      \\' \"cells\": [\\\\n\\',\\n',\n",
       "       \"      '  {\\\\n',\\n\",\n",
       "       '      \\'   \"cell_type\": \"markdown\",\\\\n\\',\\n',\n",
       "       '      \\'   \"metadata\": {},\\\\n\\',\\n',\n",
       "       '      \\'   \"source\": [\\\\n\\',\\n',\n",
       "       '      \\'    \"На наших заняти\\\\n\\',\\n',\n",
       "       \"      '\\\\n',\\n\",\n",
       "       \"      '\\\\n',\\n\",\n",
       "       \"      '\\\\n',\\n\",\n",
       "       \"      '\\\\n',\\n\",\n",
       "       \"      '                        THE ADVENTURES OF SHERLOCK HOLMES\\\\n',\\n\",\n",
       "       \"      '\\\\n',\\n\",\n",
       "       \"      '                               Arthur\\\\n']}],\\n\",\n",
       "       \"   'source': ['for path in os.listdir():\\\\n',\\n\",\n",
       "       \"    '    if os.path.isfile(path):\\\\n',\\n\",\n",
       "       \"    '        try:\\\\n',\\n\",\n",
       "       '    \"            with open(path, encoding=\\'utf8\\') as f:\\\\n\",\\n',\n",
       "       \"    '                print(f.read()[:100])\\\\n',\\n\",\n",
       "       \"    '        except:\\\\n',\\n\",\n",
       "       \"    '            pass']},\\n\",\n",
       "       \"  {'cell_type': 'code',\\n\",\n",
       "       \"   'execution_count': 163,\\n\",\n",
       "       \"   'metadata': {},\\n\",\n",
       "       \"   'outputs': [],\\n\",\n",
       "       \"   'source': ['marks = {\\\\n',\\n\",\n",
       "       '    \"    \\'bob\\': {\\\\n\",\\n',\n",
       "       '    \"        \\'city\\': \\'a\\',\\\\n\",\\n',\n",
       "       '    \"        \\'age\\': 1\\\\n\",\\n',\n",
       "       \"    '    },\\\\n',\\n\",\n",
       "       \"    '    1: 4,\\\\n',\\n\",\n",
       "       '    \"    \\'dan\\': [1, 2],\\\\n\",\\n',\n",
       "       '    \"    \\'bill\\': 3\\\\n\",\\n',\n",
       "       \"    '}']},\\n\",\n",
       "       \"  {'cell_type': 'code',\\n\",\n",
       "       \"   'execution_count': 155,\\n\",\n",
       "       \"   'metadata': {},\\n\",\n",
       "       \"   'outputs': [],\\n\",\n",
       "       \"   'source': ['import json']},\\n\",\n",
       "       \"  {'cell_type': 'code',\\n\",\n",
       "       \"   'execution_count': 164,\\n\",\n",
       "       \"   'metadata': {},\\n\",\n",
       "       '   \\'outputs\\': [{\\'data\\': {\\'text/plain\\': [\\'\\\\\\'{\"bob\": {\"city\": \"a\", \"age\": 1}, \"1\": 4, \"dan\": [1, 2], \"bill\": 3}\\\\\\'\\']},\\n',\n",
       "       \"     'execution_count': 164,\\n\",\n",
       "       \"     'metadata': {},\\n\",\n",
       "       \"     'output_type': 'execute_result'}],\\n\",\n",
       "       \"   'source': ['s = json.dumps(marks)\\\\n', 's']},\\n\",\n",
       "       \"  {'cell_type': 'code',\\n\",\n",
       "       \"   'execution_count': 165,\\n\",\n",
       "       \"   'metadata': {},\\n\",\n",
       "       \"   'outputs': [],\\n\",\n",
       "       '   \\'source\\': [\"json.dump(marks, open(\\'out.txt\\', \\'w\\'))\"]},\\n',\n",
       "       \"  {'cell_type': 'code',\\n\",\n",
       "       \"   'execution_count': 161,\\n\",\n",
       "       \"   'metadata': {},\\n\",\n",
       "       '   \\'outputs\\': [{\\'data\\': {\\'text/plain\\': [\"{\\'1\\': 2}\"]},\\n',\n",
       "       \"     'execution_count': 161,\\n\",\n",
       "       \"     'metadata': {},\\n\",\n",
       "       \"     'output_type': 'execute_result'}],\\n\",\n",
       "       '   \\'source\\': [\\'s = \\\\\\'{\"1\": 2}\\\\\\'\\\\n\\', \\'json.loads(s)\\']},\\n',\n",
       "       \"  {'cell_type': 'code',\\n\",\n",
       "       \"   'execution_count': 166,\\n\",\n",
       "       \"   'metadata': {},\\n\",\n",
       "       '   \\'outputs\\': [{\\'data\\': {\\'text/plain\\': [\"{\\'1\\': 4, \\'bill\\': 3, \\'bob\\': {\\'age\\': 1, \\'city\\': \\'a\\'}, \\'dan\\': [1, 2]}\"]},\\n',\n",
       "       \"     'execution_count': 166,\\n\",\n",
       "       \"     'metadata': {},\\n\",\n",
       "       \"     'output_type': 'execute_result'}],\\n\",\n",
       "       '   \\'source\\': [\"json.load(open(\\'out.txt\\'))\"]},\\n',\n",
       "       \"  {'cell_type': 'code',\\n\",\n",
       "       \"   'execution_count': None,\\n\",\n",
       "       \"   'metadata': {},\\n\",\n",
       "       \"   'outputs': [],\\n\",\n",
       "       \"   'source': ['j']}],\\n\",\n",
       "       \" 'metadata': {'kernelspec': {'display_name': 'Python 3',\\n\",\n",
       "       \"   'language': 'python',\\n\",\n",
       "       \"   'name': 'python3'},\\n\",\n",
       "       \"  'language_info': {'codemirror_mode': {'name': 'ipython', 'version': 3},\\n\",\n",
       "       \"   'file_extension': '.py',\\n\",\n",
       "       \"   'mimetype': 'text/x-python',\\n\",\n",
       "       \"   'name': 'python',\\n\",\n",
       "       \"   'nbconvert_exporter': 'python',\\n\",\n",
       "       \"   'pygments_lexer': 'ipython3',\\n\",\n",
       "       \"   'version': '3.6.4'}},\\n\",\n",
       "       \" 'nbformat': 4,\\n\",\n",
       "       \" 'nbformat_minor': 2}\"]},\n",
       "     'execution_count': 167,\n",
       "     'metadata': {},\n",
       "     'output_type': 'execute_result'}],\n",
       "   'source': [\"json.load(open('Lesson3.ipynb'))\"]}],\n",
       " 'metadata': {'kernelspec': {'display_name': 'Python 3',\n",
       "   'language': 'python',\n",
       "   'name': 'python3'},\n",
       "  'language_info': {'codemirror_mode': {'name': 'ipython', 'version': 3},\n",
       "   'file_extension': '.py',\n",
       "   'mimetype': 'text/x-python',\n",
       "   'name': 'python',\n",
       "   'nbconvert_exporter': 'python',\n",
       "   'pygments_lexer': 'ipython3',\n",
       "   'version': '3.6.6'}},\n",
       " 'nbformat': 4,\n",
       " 'nbformat_minor': 2}"
      ]
     },
     "execution_count": 166,
     "metadata": {},
     "output_type": "execute_result"
    }
   ],
   "source": [
    "json.load(open('Lesson_2.ipynb'))"
   ]
  },
  {
   "cell_type": "code",
   "execution_count": null,
   "metadata": {},
   "outputs": [],
   "source": []
  }
 ],
 "metadata": {
  "kernelspec": {
   "display_name": "Python 3",
   "language": "python",
   "name": "python3"
  },
  "language_info": {
   "codemirror_mode": {
    "name": "ipython",
    "version": 3
   },
   "file_extension": ".py",
   "mimetype": "text/x-python",
   "name": "python",
   "nbconvert_exporter": "python",
   "pygments_lexer": "ipython3",
   "version": "3.6.6"
  }
 },
 "nbformat": 4,
 "nbformat_minor": 2
}
