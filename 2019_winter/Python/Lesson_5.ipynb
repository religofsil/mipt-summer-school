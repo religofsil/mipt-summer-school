{
 "cells": [
  {
   "cell_type": "markdown",
   "metadata": {},
   "source": [
    "# Some more pandas"
   ]
  },
  {
   "cell_type": "markdown",
   "metadata": {},
   "source": [
    "![](z94ZHJCmPIE.jpg)"
   ]
  },
  {
   "cell_type": "code",
   "execution_count": null,
   "metadata": {},
   "outputs": [],
   "source": [
    "import numpy as np \n",
    "import pandas as pd "
   ]
  },
  {
   "cell_type": "markdown",
   "metadata": {},
   "source": [
    "## Как самостоятельно создать датафрейм?\n",
    "\n",
    "### 1) из списка словарей"
   ]
  },
  {
   "cell_type": "code",
   "execution_count": null,
   "metadata": {},
   "outputs": [],
   "source": [
    "towns1 = [{'Name': 'Moscow', 'Capital': 'Yes', 'Population': 15512000, 'Density': 4882.48}, # density - плотность населения,\n",
    "         {'Name': 'Tartu', 'Capital': 'No', 'Population':  93124, 'Density': 2508.6},       #число человек на км\n",
    "         {'Name': 'Kyoto', 'Capital': 'No', 'Population':  1472027, 'Density': 1778.18},\n",
    "         {'Name': 'Monaco', 'Capital': 'Yes', 'Population': 975, 'Density': 5257.03}]"
   ]
  },
  {
   "cell_type": "code",
   "execution_count": null,
   "metadata": {},
   "outputs": [],
   "source": [
    "df_towns1 = pd.DataFrame(towns1)\n",
    "df_towns1"
   ]
  },
  {
   "cell_type": "markdown",
   "metadata": {},
   "source": [
    "Как видите, столбцы располагаются не всегда в том порядке, в каком они были даны.\n",
    "\n",
    "Порядок можно изменить либо так:"
   ]
  },
  {
   "cell_type": "code",
   "execution_count": null,
   "metadata": {},
   "outputs": [],
   "source": [
    "df_towns1 = df_towns[['Name', 'Capital', 'Population', 'Density']]\n",
    "df_towns1"
   ]
  },
  {
   "cell_type": "markdown",
   "metadata": {},
   "source": [
    "### 2) из словаря со списками: from_dict(data)"
   ]
  },
  {
   "cell_type": "code",
   "execution_count": null,
   "metadata": {},
   "outputs": [],
   "source": [
    "towns2 = {'Name': ['Moscow', 'Tartu', 'Kyoto', 'Monaco'],\n",
    "         'Capital': ['Yes', 'No', 'No', 'Yes'],\n",
    "         'Population': [15512000, 93124, 1472027, 975],\n",
    "         'Density': [4882.48, 2508.6, 1778.18, 5257.03] }\n",
    "df_towns2 = pd.DataFrame.from_dict(towns2)\n",
    "df_towns2"
   ]
  },
  {
   "cell_type": "markdown",
   "metadata": {},
   "source": [
    "Также можно создать датафрейм не из просто словаря, а из OrderedDict"
   ]
  },
  {
   "cell_type": "code",
   "execution_count": null,
   "metadata": {},
   "outputs": [],
   "source": [
    "from collections import OrderedDict"
   ]
  },
  {
   "cell_type": "code",
   "execution_count": null,
   "metadata": {},
   "outputs": [],
   "source": [
    "towns3 = OrderedDict([ ('Name', ['Moscow', 'Tartu', 'Kyoto', 'Monaco']),\n",
    "          ('Capital', ['Yes', 'No', 'No', 'Yes']),\n",
    "          ('Population',  [15512000, 93124, 1472027, 975]),\n",
    "          ('Density', [4882.48, 2508.6, 1778.18, 5257.03]) ] )\n",
    "df_towns3 = pd.DataFrame.from_dict(ord_towns)\n",
    "df_towns3"
   ]
  },
  {
   "cell_type": "markdown",
   "metadata": {},
   "source": [
    "### 3) из списка кортежей/списков: from_records(data, columns=labels)"
   ]
  },
  {
   "cell_type": "code",
   "execution_count": null,
   "metadata": {},
   "outputs": [],
   "source": [
    "towns4 = [['Moscow', 'Tartu', 'Kyoto', 'Monaco'],\n",
    "         ['Yes', 'No', 'No', 'Yes'],\n",
    "         [15512000, 93124, 1472027, 975],\n",
    "         [4882.48, 2508.6, 1778.18, 5257.03]]\n",
    "labels = ['Name', 'Capital', 'Population', 'Density'] # названия столбцов в таком случае указываются отдельно\n",
    "df_towns4 = pd.DataFrame.from_records(towns, columns=labels)\n",
    "df_towns4"
   ]
  },
  {
   "cell_type": "markdown",
   "metadata": {},
   "source": [
    "Некоторая подборка рабочих методов, единственное что, в последней версии пандас не рекомендуется использовать from_items() и вообще этот метод скоро удалят"
   ]
  },
  {
   "cell_type": "markdown",
   "metadata": {},
   "source": [
    "![](pandas-dataframe-shadow.png)"
   ]
  },
  {
   "cell_type": "markdown",
   "metadata": {},
   "source": [
    "## Сохранить датафрейм\n",
    "\n",
    "to_csv(filename, sep='')"
   ]
  },
  {
   "cell_type": "code",
   "execution_count": null,
   "metadata": {},
   "outputs": [],
   "source": [
    "df_towns4.to_csv('towns.csv', sep='\\t', encoding='utf-8')"
   ]
  },
  {
   "cell_type": "markdown",
   "metadata": {},
   "source": [
    "Теперь наши данные сохранены и их можно снова при надобности извлекать с помощью pd.read_csv()"
   ]
  },
  {
   "cell_type": "code",
   "execution_count": null,
   "metadata": {},
   "outputs": [],
   "source": [
    "writer = pd.ExcelWriter(path, engine = 'xlsxwriter')\n",
    "df_towns4.to_excel(writer, sheet_name = 'x1')\n",
    "df2.to_excel(writer, sheet_name = 'x2')\n",
    "writer.save()\n",
    "writer.close()"
   ]
  },
  {
   "cell_type": "markdown",
   "metadata": {},
   "source": [
    "### Задание 1\n",
    "\n",
    "1) добавьте в таблицу ещё по 3-4 города (отредактировав список словарей, например)\n",
    "\n",
    "2) сохраните её в .csv\n",
    "\n",
    "3) напишите функцию, которая будет считать приблизительную площать города по населению и плотности (плотность населения равно количеству человек на километр квадратный), получая на вход его название и извлекая данные из датафрейма\n",
    "\n",
    "4) добавьте в датафрейм столбик 'Square', куда сохранятся площади из 3).\n",
    "\n",
    "5) сохраните получившийся датафрейм в отдельный csv-файл\n",
    "\n",
    "6) получившиеся код и файлы пришлите мне и Мише"
   ]
  },
  {
   "cell_type": "code",
   "execution_count": null,
   "metadata": {},
   "outputs": [],
   "source": [
    "my_towns = ..."
   ]
  },
  {
   "cell_type": "markdown",
   "metadata": {},
   "source": [
    "# Регулярные выражения"
   ]
  },
  {
   "cell_type": "markdown",
   "metadata": {},
   "source": [
    "![](l1z19s49sk5bpc8vkmcbho7zgro.jpeg)"
   ]
  },
  {
   "cell_type": "markdown",
   "metadata": {},
   "source": [
    "**Регулярные выражения** - по сути, это поиск по  (и не только) последовательности символов, заваемая ими. Т.е.жн это способ указать, какого вида сочетание нам нужно, далее уже разные уровни сложности."
   ]
  },
  {
   "cell_type": "code",
   "execution_count": null,
   "metadata": {},
   "outputs": [],
   "source": [
    "import re"
   ]
  },
  {
   "cell_type": "markdown",
   "metadata": {},
   "source": [
    "### re.findall() - находит все вхождения"
   ]
  },
  {
   "cell_type": "code",
   "execution_count": null,
   "metadata": {},
   "outputs": [],
   "source": [
    "re.findall('a', 'a')"
   ]
  },
  {
   "cell_type": "code",
   "execution_count": null,
   "metadata": {},
   "outputs": [],
   "source": [
    "re.findall('a', 'aa')"
   ]
  },
  {
   "cell_type": "code",
   "execution_count": null,
   "metadata": {},
   "outputs": [],
   "source": [
    "re.findall('aa', 'aaa')"
   ]
  },
  {
   "cell_type": "code",
   "execution_count": null,
   "metadata": {},
   "outputs": [],
   "source": [
    "re.findall('hello', \"hello hello hello\")"
   ]
  },
  {
   "cell_type": "markdown",
   "metadata": {},
   "source": [
    "`*` означает повторение группы или символа от нуля до бесконечности раз"
   ]
  },
  {
   "cell_type": "code",
   "execution_count": null,
   "metadata": {},
   "outputs": [],
   "source": [
    "re.findall('h.*o', \"hello hello hello\") # жадный поиск"
   ]
  },
  {
   "cell_type": "code",
   "execution_count": null,
   "metadata": {},
   "outputs": [],
   "source": [
    " re.findall('h.*?o', \"hello hello hello\") # ? позволяет его ограничить"
   ]
  },
  {
   "cell_type": "code",
   "execution_count": null,
   "metadata": {},
   "outputs": [],
   "source": [
    "re.findall('a[bcd]e', 'abe abbe')"
   ]
  },
  {
   "cell_type": "code",
   "execution_count": null,
   "metadata": {},
   "outputs": [],
   "source": [
    "re.findall('a[bcd]*e', 'ae abe abbe abbcde')"
   ]
  },
  {
   "cell_type": "code",
   "execution_count": null,
   "metadata": {},
   "outputs": [],
   "source": [
    "re.findall(r'a[bcd]*b', 'abcbdcbde')"
   ]
  },
  {
   "cell_type": "markdown",
   "metadata": {},
   "source": [
    "`*` - 0 или больше\n",
    "\n",
    "`+` - 1 или больше\n",
    "\n",
    "`?` - 0 или 1\n",
    "\n",
    "`.` - любой символ\n",
    "\n",
    "`[..]` - любой из символов внутри (можно писать `[a-z], [А-Я]`)\n",
    "\n",
    "`[^..]` - любой не из символов внутри\n",
    "\n",
    "`\\d` = `[0-9]`\n",
    "\n",
    "`\\D` - все нечисловые символы\n",
    "\n",
    "`\\s` - все пробельные символы\n",
    "\n",
    "`\\S` - все непробельные символы\n",
    "\n",
    "`\\w` - алфавитные символы\n",
    "\n",
    "`\\b` - граница слова\n",
    "\n",
    "`^, $` - начало и конец строки\n",
    "\n",
    "`{n}` - ровно n раз"
   ]
  },
  {
   "cell_type": "code",
   "execution_count": null,
   "metadata": {},
   "outputs": [],
   "source": [
    "re.findall('\\d{5}', '1234512345')"
   ]
  },
  {
   "cell_type": "code",
   "execution_count": null,
   "metadata": {},
   "outputs": [],
   "source": [
    "re.findall('\\d\\d/\\d\\d/\\d{4}', '11/02/1992')"
   ]
  },
  {
   "cell_type": "code",
   "execution_count": null,
   "metadata": {},
   "outputs": [],
   "source": [
    "re.findall('\\w{2,3}', 'a aa aaa aa aaa bbb bb cccc')"
   ]
  },
  {
   "cell_type": "code",
   "execution_count": null,
   "metadata": {},
   "outputs": [],
   "source": [
    "re.findall('[-+]?\\d+', '1 2 -1 +2456')"
   ]
  },
  {
   "cell_type": "code",
   "execution_count": null,
   "metadata": {},
   "outputs": [],
   "source": [
    "re.findall('15|24', '15 24')"
   ]
  },
  {
   "cell_type": "code",
   "execution_count": null,
   "metadata": {},
   "outputs": [],
   "source": [
    "re.findall('^.{2}\\d', '123')"
   ]
  },
  {
   "cell_type": "markdown",
   "metadata": {},
   "source": [
    "### Попробуйте порешать задачи отсюда\n",
    "\n",
    "https://regex101.com/r/aGn8QC/2\n",
    "\n",
    "- Найдите все натуральные числа (возможно, окружённые буквами);\n",
    "\n",
    "- Найдите все «слова», написанные капсом (то есть строго заглавными), возможно внутри настоящих слов (аааБББввв);\n",
    "\n",
    "- Найдите слова, в которых есть русская буква, а когда-нибудь за ней цифра;\n",
    "\n",
    "- Найдите все слова, начинающиеся с русской или латинской большой буквы (\\b — граница слова);\n",
    "\n",
    "- Найдите слова, которые начинаются на гласную (\\b — граница слова);;\n",
    "\n",
    "- Найдите все натуральные числа, не находящиеся внутри или на границе слова;\n",
    "\n",
    "- Найдите строчки, в которых есть символ * (. — это точно не конец строки!);\n",
    "\n",
    "- Найдите строчки, в которых есть открывающая и когда-нибудь потом закрывающая скобки;\n",
    "\n",
    "Отдельно:\n",
    "\n",
    "- напишите выражение, которые сможет расспознать номер телефона в тексте (российский)"
   ]
  }
 ],
 "metadata": {
  "kernelspec": {
   "display_name": "Python 3",
   "language": "python",
   "name": "python3"
  },
  "language_info": {
   "codemirror_mode": {
    "name": "ipython",
    "version": 3
   },
   "file_extension": ".py",
   "mimetype": "text/x-python",
   "name": "python",
   "nbconvert_exporter": "python",
   "pygments_lexer": "ipython3",
   "version": "3.6.6"
  }
 },
 "nbformat": 4,
 "nbformat_minor": 2
}
