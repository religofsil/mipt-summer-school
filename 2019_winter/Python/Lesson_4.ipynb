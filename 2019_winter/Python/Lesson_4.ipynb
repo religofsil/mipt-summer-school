{
 "cells": [
  {
   "cell_type": "markdown",
   "metadata": {},
   "source": [
    "# Обработка данных"
   ]
  },
  {
   "cell_type": "code",
   "execution_count": 1,
   "metadata": {},
   "outputs": [],
   "source": [
    "import numpy as np  # быстрые математические операции\n",
    "import pandas as pd # для считывания данных"
   ]
  },
  {
   "cell_type": "markdown",
   "metadata": {},
   "source": [
    "**pd.read_csv** - считывается структурированные данные из csv-таблицы (столбцы * строки образуют строгую таблицу) "
   ]
  },
  {
   "cell_type": "code",
   "execution_count": null,
   "metadata": {},
   "outputs": [],
   "source": [
    "Y = pd.read_csv('shifts.csv')"
   ]
  },
  {
   "cell_type": "code",
   "execution_count": 2,
   "metadata": {},
   "outputs": [],
   "source": [
    "Y = pd.read_csv('shifts.csv', sep='\\t') \n",
    "# разделитель по умолчанию sep=',', в данном случае пришлось заменить его на табуляцию"
   ]
  },
  {
   "cell_type": "code",
   "execution_count": null,
   "metadata": {},
   "outputs": [],
   "source": [
    "Y[:20] # как видите, в ячейках могут встречаться запятые"
   ]
  },
  {
   "cell_type": "markdown",
   "metadata": {},
   "source": [
    "При работе с csv через pandas, вы получаете объект под названием DataFrame, который состоит из строк и столбцов. Вы можете получать столбцы таким же образом, каким получаете элементы словаря."
   ]
  },
  {
   "cell_type": "code",
   "execution_count": 3,
   "metadata": {},
   "outputs": [
    {
     "data": {
      "text/plain": [
       "0                  Sanskrit\n",
       "1                     Khmer\n",
       "2             Ancient Greek\n",
       "3                   Swahili\n",
       "4                Lithuanian\n",
       "5          Mandarin Chinese\n",
       "6                 Icelandic\n",
       "7                     Mehri\n",
       "8                 Hungarian\n",
       "9       Mongolian (Khalkha)\n",
       "10                     Zulu\n",
       "11                 Kilivila\n",
       "12                     Fula\n",
       "13                   Bezhta\n",
       "14                  Russian\n",
       "15                Icelandic\n",
       "16                  Russian\n",
       "17                 Nganasan\n",
       "18                  Turkish\n",
       "19                   Gagauz\n",
       "20                   Gagauz\n",
       "21                 Chamalal\n",
       "22               Vietnamese\n",
       "23                  Russian\n",
       "24                  Lezgian\n",
       "25                   Bezhta\n",
       "26                  English\n",
       "27                  English\n",
       "28                   Polish\n",
       "29                   Danish\n",
       "               ...         \n",
       "3678                  Langi\n",
       "3679                  Maori\n",
       "3680                Amharic\n",
       "3681                   Geez\n",
       "3682                   Geez\n",
       "3683                Soqotri\n",
       "3684                Soqotri\n",
       "3685                Amharic\n",
       "3686                Soqotri\n",
       "3687                Soqotri\n",
       "3688                Soqotri\n",
       "3689                Soqotri\n",
       "3690                Soqotri\n",
       "3691                Amharic\n",
       "3692               Tigrinya\n",
       "3693               Tigrinya\n",
       "3694                   Geez\n",
       "3695                Amharic\n",
       "3696                English\n",
       "3697                   Geez\n",
       "3698                 Bamana\n",
       "3699                English\n",
       "3700                English\n",
       "3701                Amharic\n",
       "3702                   Geez\n",
       "3703                   Geez\n",
       "3704                Soqotri\n",
       "3705                Soqotri\n",
       "3706                Soqotri\n",
       "3707                Maltese\n",
       "Name: Language, Length: 3708, dtype: object"
      ]
     },
     "execution_count": 3,
     "metadata": {},
     "output_type": "execute_result"
    }
   ],
   "source": [
    "Y['Language']"
   ]
  },
  {
   "cell_type": "markdown",
   "metadata": {},
   "source": [
    "pandas не заставит вас смотреть все 3708 ячеек, но можно самостоятельно ограничить показ только верхними строками (шапкой)"
   ]
  },
  {
   "cell_type": "code",
   "execution_count": 4,
   "metadata": {},
   "outputs": [
    {
     "data": {
      "text/plain": [
       "0         Sanskrit\n",
       "1            Khmer\n",
       "2    Ancient Greek\n",
       "3          Swahili\n",
       "4       Lithuanian\n",
       "Name: Language, dtype: object"
      ]
     },
     "execution_count": 4,
     "metadata": {},
     "output_type": "execute_result"
    }
   ],
   "source": [
    "Y['Language'].head()"
   ]
  },
  {
   "cell_type": "markdown",
   "metadata": {},
   "source": [
    "или так"
   ]
  },
  {
   "cell_type": "code",
   "execution_count": null,
   "metadata": {},
   "outputs": [],
   "source": [
    "Y['Language'][:10]"
   ]
  },
  {
   "cell_type": "code",
   "execution_count": null,
   "metadata": {},
   "outputs": [],
   "source": [
    "Y.Language[:10] # если в названии столбца нет пробелов, то можно ещё и так"
   ]
  },
  {
   "cell_type": "markdown",
   "metadata": {},
   "source": [
    "Короче, похоже на работу со списками и словарями сразу:\n",
    "\n",
    "    Y['Language'][100:110]\n",
    "    имя_датафрейма[название нужного столбика][номера нужных ячеек] (причём порядок можно менять)"
   ]
  },
  {
   "cell_type": "code",
   "execution_count": null,
   "metadata": {},
   "outputs": [],
   "source": [
    "Y[100:110]['Language']"
   ]
  },
  {
   "cell_type": "code",
   "execution_count": null,
   "metadata": {},
   "outputs": [],
   "source": [
    "Y['Language'][100:110]"
   ]
  },
  {
   "cell_type": "markdown",
   "metadata": {},
   "source": [
    "Выбрать несколько строк = дать несколько номеров, значит, выбрать несколько столбцов = дать несколько названий"
   ]
  },
  {
   "cell_type": "code",
   "execution_count": null,
   "metadata": {},
   "outputs": [],
   "source": [
    "Y[['Language', 'Language ID']][:12]"
   ]
  },
  {
   "cell_type": "markdown",
   "metadata": {},
   "source": [
    "Посчитаем частоты языков"
   ]
  },
  {
   "cell_type": "code",
   "execution_count": null,
   "metadata": {},
   "outputs": [],
   "source": [
    "Y['Language'].value_counts()[:10]"
   ]
  },
  {
   "cell_type": "markdown",
   "metadata": {},
   "source": [
    "Столбик References почти пустой - давайте уберём его с помощью .drop()"
   ]
  },
  {
   "cell_type": "code",
   "execution_count": null,
   "metadata": {},
   "outputs": [],
   "source": [
    "Y = Y.drop(columns='Reference')\n",
    "Y.head()"
   ]
  },
  {
   "cell_type": "markdown",
   "metadata": {},
   "source": [
    "Давайте посмотрим строки, где есть реализации для русского языка. Для этого в столбике Language нужно выбрать язык Russian, что делается вот так:"
   ]
  },
  {
   "cell_type": "code",
   "execution_count": null,
   "metadata": {},
   "outputs": [],
   "source": [
    "Y[Y['Language'] == 'Russian'].head()"
   ]
  },
  {
   "cell_type": "markdown",
   "metadata": {},
   "source": [
    "Ранее мы обращались к строкам с помощью индексов - в данном случае сами индексы можно вывести отдельно"
   ]
  },
  {
   "cell_type": "code",
   "execution_count": null,
   "metadata": {},
   "outputs": [],
   "source": [
    "Y.index"
   ]
  },
  {
   "cell_type": "code",
   "execution_count": null,
   "metadata": {},
   "outputs": [],
   "source": [
    "Y.loc[2001] # найдёт ячейку по индексу"
   ]
  },
  {
   "cell_type": "code",
   "execution_count": null,
   "metadata": {},
   "outputs": [],
   "source": [
    "Y.loc[2000, 'Status'] = 'Accepted' # приписывание нового значения"
   ]
  },
  {
   "cell_type": "code",
   "execution_count": null,
   "metadata": {},
   "outputs": [],
   "source": [
    "Y.loc[2000]"
   ]
  },
  {
   "cell_type": "code",
   "execution_count": null,
   "metadata": {},
   "outputs": [],
   "source": [
    "Y.loc[2000:2010, 'Status'] = 'Accepted' # можно даже приписать сразу нескольким"
   ]
  },
  {
   "cell_type": "code",
   "execution_count": null,
   "metadata": {},
   "outputs": [],
   "source": [
    "Y['Status'].loc[2000] = 1 # а вот так делать нельзя"
   ]
  },
  {
   "cell_type": "code",
   "execution_count": null,
   "metadata": {},
   "outputs": [],
   "source": [
    "Y[:5]"
   ]
  },
  {
   "cell_type": "code",
   "execution_count": null,
   "metadata": {},
   "outputs": [],
   "source": [
    "Y.loc[5][4]"
   ]
  },
  {
   "cell_type": "code",
   "execution_count": null,
   "metadata": {},
   "outputs": [],
   "source": [
    "Y.iloc[5, 4]"
   ]
  },
  {
   "cell_type": "markdown",
   "metadata": {},
   "source": [
    "- loc получает строки (или столбцы) с определенными метками из индекса.\n",
    "- iloc получает строки (или столбцы) в определенных положениях индекса (так что он принимает только целые числа)."
   ]
  },
  {
   "cell_type": "code",
   "execution_count": null,
   "metadata": {},
   "outputs": [],
   "source": [
    "Y.loc[3, 'Language']\n"
   ]
  },
  {
   "cell_type": "code",
   "execution_count": null,
   "metadata": {},
   "outputs": [],
   "source": [
    "Y.iloc[3, 'Language']\n"
   ]
  },
  {
   "cell_type": "code",
   "execution_count": null,
   "metadata": {},
   "outputs": [],
   "source": [
    "Y['Status'].unique()"
   ]
  },
  {
   "cell_type": "markdown",
   "metadata": {},
   "source": [
    "#### Как тогда посмотреть всех контрибьюторов?"
   ]
  },
  {
   "cell_type": "code",
   "execution_count": null,
   "metadata": {},
   "outputs": [],
   "source": [
    "Y..."
   ]
  },
  {
   "cell_type": "markdown",
   "metadata": {},
   "source": [
    "#### Попробуйте вывести самого активного контрибьютора и языки, про которые он добавляет данные"
   ]
  },
  {
   "cell_type": "code",
   "execution_count": null,
   "metadata": {},
   "outputs": [],
   "source": [
    "C = Y['']..."
   ]
  },
  {
   "cell_type": "markdown",
   "metadata": {},
   "source": [
    "#### Также можно использовать всякие логические операции"
   ]
  },
  {
   "cell_type": "code",
   "execution_count": 5,
   "metadata": {},
   "outputs": [
    {
     "data": {
      "text/html": [
       "<div>\n",
       "<style scoped>\n",
       "    .dataframe tbody tr th:only-of-type {\n",
       "        vertical-align: middle;\n",
       "    }\n",
       "\n",
       "    .dataframe tbody tr th {\n",
       "        vertical-align: top;\n",
       "    }\n",
       "\n",
       "    .dataframe thead th {\n",
       "        text-align: right;\n",
       "    }\n",
       "</style>\n",
       "<table border=\"1\" class=\"dataframe\">\n",
       "  <thead>\n",
       "    <tr style=\"text-align: right;\">\n",
       "      <th></th>\n",
       "      <th>ID</th>\n",
       "      <th>Source</th>\n",
       "      <th>Direction</th>\n",
       "      <th>Target</th>\n",
       "      <th>Status</th>\n",
       "      <th>Contributor</th>\n",
       "      <th>Shift Type</th>\n",
       "      <th>Language</th>\n",
       "      <th>Language ID</th>\n",
       "      <th>Lexeme</th>\n",
       "      <th>Source/Sense1</th>\n",
       "      <th>Target/Sense2</th>\n",
       "      <th>Reference</th>\n",
       "      <th>Comments</th>\n",
       "      <th>Contributor.1</th>\n",
       "    </tr>\n",
       "  </thead>\n",
       "  <tbody>\n",
       "    <tr>\n",
       "      <th>3471</th>\n",
       "      <td>3501</td>\n",
       "      <td>word</td>\n",
       "      <td>→</td>\n",
       "      <td>thing</td>\n",
       "      <td>Accepted</td>\n",
       "      <td>MB</td>\n",
       "      <td>Polysemy</td>\n",
       "      <td>Ancient Hebrew</td>\n",
       "      <td>anci1244</td>\n",
       "      <td>dābār</td>\n",
       "      <td>'word'</td>\n",
       "      <td>'matter: thing, something'</td>\n",
       "      <td></td>\n",
       "      <td>(HALOT 211).</td>\n",
       "      <td>MB</td>\n",
       "    </tr>\n",
       "    <tr>\n",
       "      <th>3472</th>\n",
       "      <td>3502</td>\n",
       "      <td>trunk (of a tree)</td>\n",
       "      <td>→</td>\n",
       "      <td>tribe</td>\n",
       "      <td>New</td>\n",
       "      <td>MB</td>\n",
       "      <td>Polysemy</td>\n",
       "      <td>German</td>\n",
       "      <td>stan1295</td>\n",
       "      <td>Stamm</td>\n",
       "      <td>'trunk (of a tree)'</td>\n",
       "      <td>'tribe, kindred, clan'</td>\n",
       "      <td></td>\n",
       "      <td></td>\n",
       "      <td>MB</td>\n",
       "    </tr>\n",
       "    <tr>\n",
       "      <th>3475</th>\n",
       "      <td>3505</td>\n",
       "      <td>to fall down</td>\n",
       "      <td>→</td>\n",
       "      <td>cheap</td>\n",
       "      <td>New</td>\n",
       "      <td>MB</td>\n",
       "      <td>Polysemy</td>\n",
       "      <td>Chaha</td>\n",
       "      <td>seba1251</td>\n",
       "      <td>wäṭäḳä-m</td>\n",
       "      <td>'fall'</td>\n",
       "      <td>'be cheap'</td>\n",
       "      <td></td>\n",
       "      <td>(LGur. I 126: LGur. 644). See ibid. for seman...</td>\n",
       "      <td>MB</td>\n",
       "    </tr>\n",
       "    <tr>\n",
       "      <th>3476</th>\n",
       "      <td>3506</td>\n",
       "      <td>to tell</td>\n",
       "      <td>→</td>\n",
       "      <td>to name</td>\n",
       "      <td>New</td>\n",
       "      <td>MB</td>\n",
       "      <td>Polysemy</td>\n",
       "      <td>Chaha</td>\n",
       "      <td>seba1251</td>\n",
       "      <td>barä</td>\n",
       "      <td>'say, tell'</td>\n",
       "      <td>'call, name'</td>\n",
       "      <td></td>\n",
       "      <td>(Hetzron 1977:135).</td>\n",
       "      <td>MB</td>\n",
       "    </tr>\n",
       "    <tr>\n",
       "      <th>3477</th>\n",
       "      <td>3507</td>\n",
       "      <td>to attack</td>\n",
       "      <td>—</td>\n",
       "      <td>to dance</td>\n",
       "      <td>New</td>\n",
       "      <td>MB</td>\n",
       "      <td>Polysemy</td>\n",
       "      <td>Chaha</td>\n",
       "      <td>seba1251</td>\n",
       "      <td>gašä-m</td>\n",
       "      <td>'to raid'</td>\n",
       "      <td>'to dance'</td>\n",
       "      <td></td>\n",
       "      <td>(Hetzron 1977:135).</td>\n",
       "      <td>MB</td>\n",
       "    </tr>\n",
       "  </tbody>\n",
       "</table>\n",
       "</div>"
      ],
      "text/plain": [
       "        ID             Source Direction    Target    Status Contributor  \\\n",
       "3471  3501               word         →     thing  Accepted          MB   \n",
       "3472  3502  trunk (of a tree)         →     tribe       New          MB   \n",
       "3475  3505       to fall down         →     cheap       New          MB   \n",
       "3476  3506            to tell         →   to name       New          MB   \n",
       "3477  3507          to attack         —  to dance       New          MB   \n",
       "\n",
       "     Shift Type        Language Language ID    Lexeme          Source/Sense1  \\\n",
       "3471   Polysemy  Ancient Hebrew    anci1244     dābār                'word'    \n",
       "3472   Polysemy          German    stan1295     Stamm   'trunk (of a tree)'    \n",
       "3475   Polysemy           Chaha    seba1251  wäṭäḳä-m                'fall'    \n",
       "3476   Polysemy           Chaha    seba1251      barä           'say, tell'    \n",
       "3477   Polysemy           Chaha    seba1251    gašä-m             'to raid'    \n",
       "\n",
       "                    Target/Sense2 Reference  \\\n",
       "3471  'matter: thing, something'              \n",
       "3472      'tribe, kindred, clan'              \n",
       "3475                  'be cheap'              \n",
       "3476                'call, name'              \n",
       "3477                  'to dance'              \n",
       "\n",
       "                                               Comments Contributor.1  \n",
       "3471                                       (HALOT 211).            MB  \n",
       "3472                                                               MB  \n",
       "3475   (LGur. I 126: LGur. 644). See ibid. for seman...            MB  \n",
       "3476                                (Hetzron 1977:135).            MB  \n",
       "3477                                (Hetzron 1977:135).            MB  "
      ]
     },
     "execution_count": 5,
     "metadata": {},
     "output_type": "execute_result"
    }
   ],
   "source": [
    "Y[\n",
    "    np.logical_and(\n",
    "        Y['ID'] > 3500, \n",
    "        Y['Shift Type'] == 'Polysemy'\n",
    "    )\n",
    "].head()"
   ]
  },
  {
   "cell_type": "code",
   "execution_count": null,
   "metadata": {},
   "outputs": [],
   "source": [
    "rus_lexemes = Y[Y['Language'] == 'Russian']['Lexeme'].head()\n",
    "rus_lexemes"
   ]
  },
  {
   "cell_type": "code",
   "execution_count": null,
   "metadata": {},
   "outputs": [],
   "source": [
    "eng_lexemes = Y[Y['Language'] == 'English']['Lexeme'].head()\n",
    "eng_lexemes"
   ]
  },
  {
   "cell_type": "markdown",
   "metadata": {},
   "source": [
    "### Задание\n",
    "\n",
    "1) Загрузите датасет из файла videogames.csv, посмотрите на него\n",
    "\n",
    "2) Выведите все жанры игр, которые есть\n",
    "\n",
    "3) Найдите жанр с наилучшими оценками (можно смотрть и score, и editors_choice)\n",
    "\n",
    "4) Найдите игру с наилучшими и наихудшими оценками, вышедшую в год вашего рождения. Выведите их названия и платформы, для которых они были выпущены."
   ]
  },
  {
   "cell_type": "code",
   "execution_count": null,
   "metadata": {},
   "outputs": [],
   "source": []
  },
  {
   "cell_type": "markdown",
   "metadata": {},
   "source": [
    "## Рисование графиков"
   ]
  },
  {
   "cell_type": "code",
   "execution_count": 6,
   "metadata": {},
   "outputs": [],
   "source": [
    "wimport matplotlib.pyplot as plt"
   ]
  },
  {
   "cell_type": "code",
   "execution_count": 12,
   "metadata": {},
   "outputs": [
    {
     "data": {
      "image/png": "[encoded data removed]",
      "text/plain": [
       "<Figure size 432x288 with 1 Axes>"
      ]
     },
     "metadata": {
      "needs_background": "light"
     },
     "output_type": "display_data"
    }
   ],
   "source": [
    "plt.plot([1, 2, 3, 4, 5], marker='o')\n",
    "plt.show()"
   ]
  },
  {
   "cell_type": "code",
   "execution_count": 15,
   "metadata": {},
   "outputs": [
    {
     "data": {
      "image/png": "[encoded data removed]",
      "text/plain": [
       "<Figure size 432x288 with 1 Axes>"
      ]
     },
     "metadata": {
      "needs_background": "light"
     },
     "output_type": "display_data"
    }
   ],
   "source": [
    "plt.plot([1, 2, 3, 2, 1], marker='+')\n",
    "plt.plot([1, 2, 3, 4, 5])\n",
    "plt.show()"
   ]
  },
  {
   "cell_type": "code",
   "execution_count": 16,
   "metadata": {},
   "outputs": [
    {
     "data": {
      "image/png": "[encoded data removed]",
      "text/plain": [
       "<Figure size 432x288 with 1 Axes>"
      ]
     },
     "metadata": {
      "needs_background": "light"
     },
     "output_type": "display_data"
    }
   ],
   "source": [
    "xs = range(10)\n",
    "ys = [x**2 for x in xs] # наш стандартный генератор\n",
    "plt.plot(xs, ys, label='x^2')\n",
    "plt.plot(xs, xs, label='x')\n",
    "plt.legend() # если не вызвать, то легенда не появится\n",
    "plt.show()"
   ]
  },
  {
   "cell_type": "code",
   "execution_count": 18,
   "metadata": {},
   "outputs": [
    {
     "data": {
      "image/png": "[encoded data removed]",
      "text/plain": [
       "<Figure size 432x288 with 1 Axes>"
      ]
     },
     "metadata": {
      "needs_background": "light"
     },
     "output_type": "display_data"
    }
   ],
   "source": [
    "xs = np.arange(0, 20, 0.1) #  arange() аналогична range(), только вместо \\списков возвращает массивы, и принимает не только целые значения\n",
    "ys = np.sin(xs) # синус от каждого элемента массива\n",
    "plt.plot(xs, ys)\n",
    "plt.show()"
   ]
  },
  {
   "cell_type": "code",
   "execution_count": 29,
   "metadata": {},
   "outputs": [
    {
     "data": {
      "image/png": "[encoded data removed]",
      "text/plain": [
       "<Figure size 432x288 with 1 Axes>"
      ]
     },
     "metadata": {
      "needs_background": "light"
     },
     "output_type": "display_data"
    }
   ],
   "source": [
    "xs = np.random.normal(size=1000)\n",
    "ys = np.random.normal(size=1000)\n",
    "plt.scatter(xs, ys, s=5)\n",
    "plt.show()"
   ]
  },
  {
   "cell_type": "code",
   "execution_count": 34,
   "metadata": {},
   "outputs": [
    {
     "data": {
      "image/png": "[encoded data removed]",
      "text/plain": [
       "<Figure size 432x288 with 1 Axes>"
      ]
     },
     "metadata": {
      "needs_background": "light"
     },
     "output_type": "display_data"
    }
   ],
   "source": [
    "plt.hist(xs, bins=[1, 2, 3, 4])\n",
    "plt.show()"
   ]
  },
  {
   "cell_type": "code",
   "execution_count": null,
   "metadata": {},
   "outputs": [],
   "source": []
  }
 ],
 "metadata": {
  "kernelspec": {
   "display_name": "Python 3",
   "language": "python",
   "name": "python3"
  },
  "language_info": {
   "codemirror_mode": {
    "name": "ipython",
    "version": 3
   },
   "file_extension": ".py",
   "mimetype": "text/x-python",
   "name": "python",
   "nbconvert_exporter": "python",
   "pygments_lexer": "ipython3",
   "version": "3.6.6"
  }
 },
 "nbformat": 4,
 "nbformat_minor": 2
}
