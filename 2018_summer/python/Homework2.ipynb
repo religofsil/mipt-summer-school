{
 "cells": [
  {
   "cell_type": "markdown",
   "metadata": {},
   "source": [
    "# Второе домашнее задание"
   ]
  },
  {
   "cell_type": "markdown",
   "metadata": {},
   "source": [
    "## Important"
   ]
  },
  {
   "cell_type": "markdown",
   "metadata": {},
   "source": [
    "В домашнем задании по лингвистике вам пригодится новая структура данных -- словарь (`dict`)\n",
    "\n",
    "Эта структура данных хранит пары ключ-значение и предоставляет быстрый доступ по ключу"
   ]
  },
  {
   "cell_type": "code",
   "execution_count": 10,
   "metadata": {},
   "outputs": [],
   "source": [
    "# оценки разных людей\n",
    "marks = {\n",
    "    'bob': 5,\n",
    "    'alice': 4,\n",
    "    'dan': 5,\n",
    "    'bill': 3\n",
    "}"
   ]
  },
  {
   "cell_type": "markdown",
   "metadata": {},
   "source": [
    "обращение через квадратные скобки позваляет считать изменить или добавить новый элемент"
   ]
  },
  {
   "cell_type": "code",
   "execution_count": 11,
   "metadata": {},
   "outputs": [
    {
     "data": {
      "text/plain": [
       "5"
      ]
     },
     "execution_count": 11,
     "metadata": {},
     "output_type": "execute_result"
    }
   ],
   "source": [
    "marks['bob']"
   ]
  },
  {
   "cell_type": "code",
   "execution_count": 13,
   "metadata": {},
   "outputs": [
    {
     "data": {
      "text/plain": [
       "{'alice': 5, 'anonymus': 1, 'bill': 3, 'bob': 5, 'dan': 5}"
      ]
     },
     "execution_count": 13,
     "metadata": {},
     "output_type": "execute_result"
    }
   ],
   "source": [
    "marks['alice'] = 5\n",
    "marks['anonymus'] = 1\n",
    "marks"
   ]
  },
  {
   "cell_type": "markdown",
   "metadata": {},
   "source": [
    "конструкция `in` позволяет определить, присутствует ли данный ключ в словаре"
   ]
  },
  {
   "cell_type": "code",
   "execution_count": 15,
   "metadata": {},
   "outputs": [
    {
     "name": "stdout",
     "output_type": "stream",
     "text": [
      "True\n",
      "False\n"
     ]
    }
   ],
   "source": [
    "print('alice' in marks)\n",
    "print('mary' in marks)"
   ]
  },
  {
   "cell_type": "markdown",
   "metadata": {},
   "source": [
    "еще несколько полезных функций"
   ]
  },
  {
   "cell_type": "code",
   "execution_count": 16,
   "metadata": {},
   "outputs": [
    {
     "name": "stdout",
     "output_type": "stream",
     "text": [
      "dict_keys(['bob', 'alice', 'dan', 'bill', 'anonymus'])\n",
      "dict_values([5, 5, 5, 3, 1])\n"
     ]
    }
   ],
   "source": [
    "# список ключей и список значений\n",
    "print(marks.keys())\n",
    "print(marks.values())"
   ]
  },
  {
   "cell_type": "markdown",
   "metadata": {},
   "source": [
    "наконец, можно проитерироваться (`for ... in`) по ключам словаря"
   ]
  },
  {
   "cell_type": "code",
   "execution_count": 17,
   "metadata": {},
   "outputs": [
    {
     "name": "stdout",
     "output_type": "stream",
     "text": [
      "bob 5\n",
      "alice 5\n",
      "dan 5\n",
      "bill 3\n",
      "anonymus 1\n"
     ]
    }
   ],
   "source": [
    "for key in marks:\n",
    "    print(key, marks[key])"
   ]
  },
  {
   "cell_type": "markdown",
   "metadata": {},
   "source": [
    "## Задания по python"
   ]
  },
  {
   "cell_type": "markdown",
   "metadata": {},
   "source": [
    "http://pythontutor.ru/lessons/for_loop/problems/series_2/\n",
    "\n",
    "Даны два целых числа A и В. Выведите все числа от A до B включительно, в порядке возрастания, если A < B, или в порядке убывания в противном случае."
   ]
  },
  {
   "cell_type": "markdown",
   "metadata": {},
   "source": [
    "http://pythontutor.ru/lessons/for_loop/problems/sum_of_n_numbers/\n",
    "\n",
    "Дано несколько чисел. Вычислите их сумму. Сначала вводите количество чисел N, затем вводится ровно N целых чисел. Какое наименьшее число переменных нужно для решения этой задачи?"
   ]
  },
  {
   "cell_type": "markdown",
   "metadata": {},
   "source": [
    "(*) http://pythontutor.ru/lessons/for_loop/problems/sum_of_factorials/\n",
    "\n",
    "По данному натуральном n вычислите сумму 1!+2!+3!+...+n!. В решении этой задачи можно использовать только один цикл. Пользоваться математической библиотекой math в этой задаче запрещено."
   ]
  },
  {
   "cell_type": "markdown",
   "metadata": {},
   "source": [
    "http://pythontutor.ru/lessons/str/problems/first_and_last_occurences/\n",
    "\n",
    "Дана строка. Если в этой строке буква f встречается только один раз, выведите её индекс. Если она встречается два и более раз, выведите индекс её первого и последнего появления. Если буква f в данной строке не встречается, ничего не выводите."
   ]
  },
  {
   "cell_type": "markdown",
   "metadata": {},
   "source": [
    "http://pythontutor.ru/lessons/str/problems/delete_char/\n",
    "    \n",
    "Дана строка. Удалите из этой строки все символы @."
   ]
  },
  {
   "cell_type": "markdown",
   "metadata": {},
   "source": [
    "Для задач на строки вам понадобятся функции отсюда http://pythontutor.ru/lessons/str/ (это методы `str.find`, `str.rfind`, `str.replace`, можете узнать про них через `help()`)"
   ]
  },
  {
   "cell_type": "markdown",
   "metadata": {},
   "source": [
    "### Задача на работу с текстом"
   ]
  },
  {
   "cell_type": "markdown",
   "metadata": {},
   "source": [
    "В данной задаче текст считывается из файла `sherlock.txt`, то есть вам нужно также скачать и его "
   ]
  },
  {
   "cell_type": "code",
   "execution_count": 2,
   "metadata": {},
   "outputs": [],
   "source": [
    "with open('sherlock.txt') as f:\n",
    "    text = f.read()"
   ]
  },
  {
   "cell_type": "code",
   "execution_count": 7,
   "metadata": {},
   "outputs": [
    {
     "data": {
      "text/plain": [
       "\"   To Sherlock Holmes she is always the woman. I have seldom heard him\\n     mention her under any other name. In his eyes she eclipses and\\n     predominates the whole of her sex. It was not that he felt any\\n     emotion akin to love for Irene Adler. All emotions, and that one\\n     particularly, were abhorrent to his cold, precise but admirably\\n     balanced mind. He was, I take it, the most perfect reasoning and\\n     observing machine that the world has seen, but as a lover he would\\n     have placed himself in a false position. He never spoke of the softer\\n     passions, save with a gibe and a sneer. They were admirable things\\n     for the observer--excellent for drawing the veil from men's motives\\n     and actions. But for the trained reasoner to admit such intrusions\\n     into his own delicate and finely adjusted temperament was to\\n     introduce a distracting factor which might throw a doubt upon all his\\n     mental results. Grit in a sensitive instrument, or a crack in one of\\n     \""
      ]
     },
     "execution_count": 7,
     "metadata": {},
     "output_type": "execute_result"
    }
   ],
   "source": [
    "text[1000:2000]"
   ]
  },
  {
   "cell_type": "markdown",
   "metadata": {},
   "source": [
    "1. разбейте текст на список слов (`split`)\n",
    "2. подсчитайте количество слов в тексте (на самом деле это не совсем слова, ведь внутри могут встречаться знаки пунктуации)\n",
    "3. создайте список, содержащий длины каждого слова в тексте, вычислите среднюю длину слова\n",
    "     * для самых умных, создайте этот список используя `map`\n",
    "4. Оцените количество предложений в тексте: наивный способ это сделать -- подсчитать в скольки словах встречается `.`"
   ]
  },
  {
   "cell_type": "markdown",
   "metadata": {},
   "source": [
    "P.S. если у вас нет интернета самостоятельно запишите в `text` какие-нибудь данные"
   ]
  }
 ],
 "metadata": {
  "kernelspec": {
   "display_name": "Python 3",
   "language": "python",
   "name": "python3"
  },
  "language_info": {
   "codemirror_mode": {
    "name": "ipython",
    "version": 3
   },
   "file_extension": ".py",
   "mimetype": "text/x-python",
   "name": "python",
   "nbconvert_exporter": "python",
   "pygments_lexer": "ipython3",
   "version": "3.6.4"
  }
 },
 "nbformat": 4,
 "nbformat_minor": 2
}
