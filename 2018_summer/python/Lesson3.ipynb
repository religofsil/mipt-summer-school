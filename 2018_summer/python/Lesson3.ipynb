{
 "cells": [
  {
   "cell_type": "markdown",
   "metadata": {},
   "source": [
    "## Словари"
   ]
  },
  {
   "cell_type": "markdown",
   "metadata": {},
   "source": [
    "Новая структура данных -- словарь (`dict`)\n",
    "\n",
    "Эта структура данных хранит пары ключ-значение и предоставляет быстрый доступ по ключу"
   ]
  },
  {
   "cell_type": "code",
   "execution_count": 81,
   "metadata": {},
   "outputs": [
    {
     "data": {
      "text/plain": [
       "{'alice': 4, 'bill': 3, 'bob': 5, 'dan': 5}"
      ]
     },
     "execution_count": 81,
     "metadata": {},
     "output_type": "execute_result"
    }
   ],
   "source": [
    "# оценки разных людей\n",
    "marks = {\n",
    "    'bob': 5,\n",
    "    'alice': 4,\n",
    "    'dan': 5,\n",
    "    'bill': 3\n",
    "}\n",
    "marks"
   ]
  },
  {
   "cell_type": "code",
   "execution_count": 77,
   "metadata": {},
   "outputs": [
    {
     "data": {
      "text/plain": [
       "5"
      ]
     },
     "execution_count": 77,
     "metadata": {},
     "output_type": "execute_result"
    }
   ],
   "source": [
    "marks['bob']"
   ]
  },
  {
   "cell_type": "code",
   "execution_count": 3,
   "metadata": {},
   "outputs": [
    {
     "data": {
      "text/plain": [
       "{'alice': 5, 'anonymus': 1, 'bill': 3, 'bob': 5, 'dan': 5}"
      ]
     },
     "execution_count": 3,
     "metadata": {},
     "output_type": "execute_result"
    }
   ],
   "source": [
    "marks['alice'] = 5\n",
    "marks['anonymus'] = 1\n",
    "marks"
   ]
  },
  {
   "cell_type": "code",
   "execution_count": 4,
   "metadata": {},
   "outputs": [
    {
     "name": "stdout",
     "output_type": "stream",
     "text": [
      "True\n",
      "False\n"
     ]
    }
   ],
   "source": [
    "print('alice' in marks)\n",
    "print('mary' in marks)"
   ]
  },
  {
   "cell_type": "code",
   "execution_count": 80,
   "metadata": {},
   "outputs": [
    {
     "name": "stdout",
     "output_type": "stream",
     "text": [
      "dict_keys(['bob', 'alice', 'dan', 'bill'])\n",
      "dict_values([5, 4, 5, 3])\n",
      "dict_items([('bob', 5), ('alice', 4), ('dan', 5), ('bill', 3)])\n"
     ]
    }
   ],
   "source": [
    "print(marks.keys())\n",
    "print(marks.values())\n",
    "print(marks.items())"
   ]
  },
  {
   "cell_type": "code",
   "execution_count": 6,
   "metadata": {},
   "outputs": [
    {
     "name": "stdout",
     "output_type": "stream",
     "text": [
      "bob 5\n",
      "alice 5\n",
      "dan 5\n",
      "bill 3\n",
      "anonymus 1\n"
     ]
    }
   ],
   "source": [
    "for key in marks:\n",
    "    print(key, marks[key])"
   ]
  },
  {
   "cell_type": "code",
   "execution_count": 82,
   "metadata": {},
   "outputs": [
    {
     "ename": "TypeError",
     "evalue": "unhashable type: 'list'",
     "output_type": "error",
     "traceback": [
      "\u001b[0;31m---------------------------------------------------------------------------\u001b[0m",
      "\u001b[0;31mTypeError\u001b[0m                                 Traceback (most recent call last)",
      "\u001b[0;32m<ipython-input-82-d721cbe50421>\u001b[0m in \u001b[0;36m<module>\u001b[0;34m()\u001b[0m\n\u001b[0;32m----> 1\u001b[0;31m \u001b[0md\u001b[0m \u001b[0;34m=\u001b[0m \u001b[0;34m{\u001b[0m\u001b[0;34m[\u001b[0m\u001b[0;36m1\u001b[0m\u001b[0;34m,\u001b[0m \u001b[0;36m2\u001b[0m\u001b[0;34m]\u001b[0m\u001b[0;34m:\u001b[0m \u001b[0;36m1\u001b[0m\u001b[0;34m}\u001b[0m\u001b[0;34m\u001b[0m\u001b[0m\n\u001b[0m",
      "\u001b[0;31mTypeError\u001b[0m: unhashable type: 'list'"
     ]
    }
   ],
   "source": [
    "d = {[1, 2]: 1}"
   ]
  },
  {
   "cell_type": "markdown",
   "metadata": {},
   "source": [
    "**порядок итерации по словарю произволен**\n",
    "\n",
    "в отличие от ситуации со списком списка, элементы в словаре не упорядочены, а лежат в соответствии со своими хешами"
   ]
  },
  {
   "cell_type": "markdown",
   "metadata": {},
   "source": [
    "**ключом словаря может быть только неизменяемый тип данных**\n",
    "\n",
    "например: строки, числа, кортежи\n",
    "\n",
    "не могут быть ключами: списки, словари, множества и тд"
   ]
  },
  {
   "cell_type": "markdown",
   "metadata": {},
   "source": [
    "## Кортежи"
   ]
  },
  {
   "cell_type": "markdown",
   "metadata": {},
   "source": [
    "Кортеж -- неизменяемый список\n",
    "\n",
    "Одно из применений -- можно использовать как ключ словаря"
   ]
  },
  {
   "cell_type": "code",
   "execution_count": 11,
   "metadata": {},
   "outputs": [
    {
     "data": {
      "text/plain": [
       "(1, 2, 'Hello')"
      ]
     },
     "execution_count": 11,
     "metadata": {},
     "output_type": "execute_result"
    }
   ],
   "source": [
    "c = (1, 2, 'Hello')\n",
    "c"
   ]
  },
  {
   "cell_type": "code",
   "execution_count": 83,
   "metadata": {},
   "outputs": [
    {
     "data": {
      "text/plain": [
       "(1, 2)"
      ]
     },
     "execution_count": 83,
     "metadata": {},
     "output_type": "execute_result"
    }
   ],
   "source": [
    "c[0:2]"
   ]
  },
  {
   "cell_type": "code",
   "execution_count": 12,
   "metadata": {},
   "outputs": [
    {
     "ename": "TypeError",
     "evalue": "'tuple' object does not support item assignment",
     "output_type": "error",
     "traceback": [
      "\u001b[0;31m---------------------------------------------------------------------------\u001b[0m",
      "\u001b[0;31mTypeError\u001b[0m                                 Traceback (most recent call last)",
      "\u001b[0;32m<ipython-input-12-0aed5cd8f234>\u001b[0m in \u001b[0;36m<module>\u001b[0;34m()\u001b[0m\n\u001b[0;32m----> 1\u001b[0;31m \u001b[0mc\u001b[0m\u001b[0;34m[\u001b[0m\u001b[0;36m0\u001b[0m\u001b[0;34m]\u001b[0m \u001b[0;34m=\u001b[0m \u001b[0;36m0\u001b[0m\u001b[0;34m\u001b[0m\u001b[0m\n\u001b[0m",
      "\u001b[0;31mTypeError\u001b[0m: 'tuple' object does not support item assignment"
     ]
    }
   ],
   "source": [
    "c[0] = 0"
   ]
  },
  {
   "cell_type": "code",
   "execution_count": 85,
   "metadata": {},
   "outputs": [
    {
     "data": {
      "text/plain": [
       "{(1, 2): 'a', (1, 3): 'b', (2, 1): 'c'}"
      ]
     },
     "execution_count": 85,
     "metadata": {},
     "output_type": "execute_result"
    }
   ],
   "source": [
    "d = {\n",
    "    (1, 2): 'a',\n",
    "    (1, 3): 'b',\n",
    "    (2, 1): 'c'\n",
    "}\n",
    "d"
   ]
  },
  {
   "cell_type": "code",
   "execution_count": null,
   "metadata": {},
   "outputs": [],
   "source": []
  },
  {
   "cell_type": "markdown",
   "metadata": {},
   "source": [
    "## Множества"
   ]
  },
  {
   "cell_type": "markdown",
   "metadata": {},
   "source": [
    "в этом типе данных все элементы уникальны\n",
    "\n",
    "множество поддерживает операцию `in` за константное время (в случае со списком это `O(n)`)"
   ]
  },
  {
   "cell_type": "code",
   "execution_count": 87,
   "metadata": {},
   "outputs": [
    {
     "data": {
      "text/plain": [
       "{1, 2, 3, 4}"
      ]
     },
     "execution_count": 87,
     "metadata": {},
     "output_type": "execute_result"
    }
   ],
   "source": [
    "s = set([1, 2, 3, 4, 3, 2, 1])\n",
    "s"
   ]
  },
  {
   "cell_type": "code",
   "execution_count": 88,
   "metadata": {},
   "outputs": [
    {
     "name": "stdout",
     "output_type": "stream",
     "text": [
      "True\n",
      "False\n",
      "True\n"
     ]
    }
   ],
   "source": [
    "print(1 in s)\n",
    "print(5 in s)\n",
    "print(5 not in s)"
   ]
  },
  {
   "cell_type": "code",
   "execution_count": 92,
   "metadata": {},
   "outputs": [
    {
     "data": {
      "text/plain": [
       "{1, 2, 3, 4, 10}"
      ]
     },
     "execution_count": 92,
     "metadata": {},
     "output_type": "execute_result"
    }
   ],
   "source": [
    "s.add(10)\n",
    "s"
   ]
  },
  {
   "cell_type": "code",
   "execution_count": 93,
   "metadata": {},
   "outputs": [
    {
     "data": {
      "text/plain": [
       "{1, 2, 3, 4, 10}"
      ]
     },
     "execution_count": 93,
     "metadata": {},
     "output_type": "execute_result"
    }
   ],
   "source": [
    "s.add(1)\n",
    "s"
   ]
  },
  {
   "cell_type": "markdown",
   "metadata": {},
   "source": [
    "**элементы множества неупорядочены также как и ключи в массиве**"
   ]
  },
  {
   "cell_type": "code",
   "execution_count": 90,
   "metadata": {},
   "outputs": [
    {
     "ename": "TypeError",
     "evalue": "'set' object does not support indexing",
     "output_type": "error",
     "traceback": [
      "\u001b[0;31m---------------------------------------------------------------------------\u001b[0m",
      "\u001b[0;31mTypeError\u001b[0m                                 Traceback (most recent call last)",
      "\u001b[0;32m<ipython-input-90-c9c96910e542>\u001b[0m in \u001b[0;36m<module>\u001b[0;34m()\u001b[0m\n\u001b[0;32m----> 1\u001b[0;31m \u001b[0ms\u001b[0m\u001b[0;34m[\u001b[0m\u001b[0;36m0\u001b[0m\u001b[0;34m]\u001b[0m\u001b[0;34m\u001b[0m\u001b[0m\n\u001b[0m",
      "\u001b[0;31mTypeError\u001b[0m: 'set' object does not support indexing"
     ]
    }
   ],
   "source": [
    "s[0]"
   ]
  },
  {
   "cell_type": "markdown",
   "metadata": {},
   "source": [
    "доступ к элементам множества можно получить через `for ... in` или `list(s)`"
   ]
  },
  {
   "cell_type": "code",
   "execution_count": 94,
   "metadata": {},
   "outputs": [
    {
     "data": {
      "text/plain": [
       "[1, 2, 3, 4, 10]"
      ]
     },
     "execution_count": 94,
     "metadata": {},
     "output_type": "execute_result"
    }
   ],
   "source": [
    "list(s)"
   ]
  },
  {
   "cell_type": "markdown",
   "metadata": {},
   "source": [
    "Также есть много удобных функций для множеств, например объединение двух множеств"
   ]
  },
  {
   "cell_type": "code",
   "execution_count": 34,
   "metadata": {},
   "outputs": [
    {
     "data": {
      "text/plain": [
       "{1, 2, 3, 4, 5}"
      ]
     },
     "execution_count": 34,
     "metadata": {},
     "output_type": "execute_result"
    }
   ],
   "source": [
    "s1 = {1, 2, 3, 4}\n",
    "s2 = {2, 3, 4, 5}\n",
    "s1.union(s2)"
   ]
  },
  {
   "cell_type": "markdown",
   "metadata": {},
   "source": [
    "или разность"
   ]
  },
  {
   "cell_type": "code",
   "execution_count": 48,
   "metadata": {},
   "outputs": [
    {
     "data": {
      "text/plain": [
       "{1}"
      ]
     },
     "execution_count": 48,
     "metadata": {},
     "output_type": "execute_result"
    }
   ],
   "source": [
    "s1 - s2"
   ]
  },
  {
   "cell_type": "markdown",
   "metadata": {},
   "source": [
    "Множества позволяют элегантно решать некоторые задачи, например нахождение количества уникальных слов в тексте"
   ]
  },
  {
   "cell_type": "code",
   "execution_count": 99,
   "metadata": {},
   "outputs": [
    {
     "data": {
      "text/plain": [
       "['the',\n",
       " 'adventures',\n",
       " 'of',\n",
       " 'sherlock',\n",
       " 'holmes',\n",
       " 'arthur',\n",
       " 'conan',\n",
       " 'doyle',\n",
       " 'table',\n",
       " 'of']"
      ]
     },
     "execution_count": 99,
     "metadata": {},
     "output_type": "execute_result"
    }
   ],
   "source": [
    "with open('sherlock.txt') as f:\n",
    "    text = f.read().lower()\n",
    "\n",
    "word_list = text.split()\n",
    "word_list[:10]"
   ]
  },
  {
   "cell_type": "code",
   "execution_count": 100,
   "metadata": {},
   "outputs": [],
   "source": [
    "word_set = set(word_list)"
   ]
  },
  {
   "cell_type": "code",
   "execution_count": 101,
   "metadata": {},
   "outputs": [
    {
     "data": {
      "text/plain": [
       "14093"
      ]
     },
     "execution_count": 101,
     "metadata": {},
     "output_type": "execute_result"
    }
   ],
   "source": [
    "len(word_set)"
   ]
  },
  {
   "cell_type": "markdown",
   "metadata": {},
   "source": [
    "найдем, какие буквы не встречаются в данной фразе"
   ]
  },
  {
   "cell_type": "code",
   "execution_count": 108,
   "metadata": {},
   "outputs": [],
   "source": [
    "s = 'Neque porro quisquam est qui dolorem ipsum quia dolor sit amet, consectetur, adipisci velit'"
   ]
  },
  {
   "cell_type": "code",
   "execution_count": 111,
   "metadata": {},
   "outputs": [
    {
     "name": "stdout",
     "output_type": "stream",
     "text": [
      "97\n",
      "122\n",
      "b\n"
     ]
    }
   ],
   "source": [
    "print(ord('a'))\n",
    "print(ord('z'))\n",
    "print(chr(98))"
   ]
  },
  {
   "cell_type": "code",
   "execution_count": 47,
   "metadata": {},
   "outputs": [
    {
     "data": {
      "text/plain": [
       "{'b', 'f', 'g', 'h', 'j', 'k', 'w', 'x', 'y', 'z'}"
      ]
     },
     "execution_count": 47,
     "metadata": {},
     "output_type": "execute_result"
    }
   ],
   "source": [
    "set(map(chr, range(ord('a'), ord('z')+1))) - set(s.lower())"
   ]
  },
  {
   "cell_type": "code",
   "execution_count": 173,
   "metadata": {},
   "outputs": [],
   "source": [
    "from collections import Counter\n",
    "\n",
    "c = Counter()\n",
    "c.update(text.split())"
   ]
  },
  {
   "cell_type": "code",
   "execution_count": 176,
   "metadata": {},
   "outputs": [],
   "source": [
    "c.update(['the', 'the'])"
   ]
  },
  {
   "cell_type": "code",
   "execution_count": 177,
   "metadata": {},
   "outputs": [
    {
     "data": {
      "text/plain": [
       "5252"
      ]
     },
     "execution_count": 177,
     "metadata": {},
     "output_type": "execute_result"
    }
   ],
   "source": [
    "c['the']"
   ]
  },
  {
   "cell_type": "markdown",
   "metadata": {},
   "source": [
    "## Работа с файлами"
   ]
  },
  {
   "cell_type": "code",
   "execution_count": 168,
   "metadata": {},
   "outputs": [],
   "source": [
    "with open('sherlock.txt', encoding='utf8') as f:\n",
    "    text = f.read()"
   ]
  },
  {
   "cell_type": "code",
   "execution_count": 121,
   "metadata": {},
   "outputs": [
    {
     "name": "stdout",
     "output_type": "stream",
     "text": [
      "русский\n"
     ]
    }
   ],
   "source": [
    "with open('untitled.txt', ) as f:\n",
    "    print(f.read())"
   ]
  },
  {
   "cell_type": "code",
   "execution_count": 117,
   "metadata": {},
   "outputs": [],
   "source": [
    "with open('out.txt', 'w') as f:\n",
    "    f.write(\"\\nI'm writing to file!!!\\n\")"
   ]
  },
  {
   "cell_type": "code",
   "execution_count": 115,
   "metadata": {},
   "outputs": [
    {
     "name": "stdout",
     "output_type": "stream",
     "text": [
      "12195\n"
     ]
    }
   ],
   "source": [
    "with open('sherlock.txt') as f:\n",
    "    i = 0\n",
    "    for line in f:\n",
    "        i += 1\n",
    "print(i)"
   ]
  },
  {
   "cell_type": "code",
   "execution_count": 52,
   "metadata": {},
   "outputs": [],
   "source": [
    "import os"
   ]
  },
  {
   "cell_type": "code",
   "execution_count": 119,
   "metadata": {},
   "outputs": [
    {
     "data": {
      "text/plain": [
       "['out.txt',\n",
       " 'func.ipynb',\n",
       " 'Homework2.ipynb',\n",
       " '.ipynb_checkpoints',\n",
       " 'Lesson3.ipynb',\n",
       " 'Homework1.ipynb',\n",
       " 'Lesson1-2.ipynb',\n",
       " 'sherlock.txt']"
      ]
     },
     "execution_count": 119,
     "metadata": {},
     "output_type": "execute_result"
    }
   ],
   "source": [
    "os.listdir()"
   ]
  },
  {
   "cell_type": "markdown",
   "metadata": {},
   "source": [
    "Мини задачка: пройдите по всем файлам в текущей директории и выведите имя и первые 100 символов каждого файла (вам понадобится функция `os.path.isfile`)"
   ]
  },
  {
   "cell_type": "code",
   "execution_count": 125,
   "metadata": {},
   "outputs": [
    {
     "data": {
      "text/plain": [
       "False"
      ]
     },
     "execution_count": 125,
     "metadata": {},
     "output_type": "execute_result"
    }
   ],
   "source": [
    "os.path.isfile('.ipyn')"
   ]
  },
  {
   "cell_type": "code",
   "execution_count": 129,
   "metadata": {},
   "outputs": [
    {
     "name": "stdout",
     "output_type": "stream",
     "text": [
      "I'm writing to file!!!I'm writing to file!!!\n",
      "I'm writing to file!!!\n",
      "\n",
      "{\n",
      " \"cells\": [\n",
      "  {\n",
      "   \"cell_type\": \"markdown\",\n",
      "   \"metadata\": {},\n",
      "   \"source\": [\n",
      "    \"## Элементы фун\n",
      "русский\n",
      "{\n",
      " \"cells\": [\n",
      "  {\n",
      "   \"cell_type\": \"markdown\",\n",
      "   \"metadata\": {},\n",
      "   \"source\": [\n",
      "    \"# Второе домашн\n",
      "{\n",
      " \"cells\": [\n",
      "  {\n",
      "   \"cell_type\": \"markdown\",\n",
      "   \"metadata\": {},\n",
      "   \"source\": [\n",
      "    \"## Словари\"\n",
      "   \n",
      "{\n",
      " \"cells\": [\n",
      "  {\n",
      "   \"cell_type\": \"markdown\",\n",
      "   \"metadata\": {},\n",
      "   \"source\": [\n",
      "    \"# Первое домашн\n",
      "{\n",
      " \"cells\": [\n",
      "  {\n",
      "   \"cell_type\": \"markdown\",\n",
      "   \"metadata\": {},\n",
      "   \"source\": [\n",
      "    \"На наших заняти\n",
      "\n",
      "\n",
      "\n",
      "\n",
      "                        THE ADVENTURES OF SHERLOCK HOLMES\n",
      "\n",
      "                               Arthur\n"
     ]
    }
   ],
   "source": [
    "for path in os.listdir():\n",
    "    if os.path.isfile(path):\n",
    "        try:\n",
    "            with open(path, encoding='utf8') as f:\n",
    "                print(f.read()[:100])\n",
    "        except:\n",
    "            pass"
   ]
  },
  {
   "cell_type": "code",
   "execution_count": 163,
   "metadata": {},
   "outputs": [],
   "source": [
    "marks = {\n",
    "    'bob': {\n",
    "        'city': 'a',\n",
    "        'age': 1\n",
    "    },\n",
    "    1: 4,\n",
    "    'dan': [1, 2],\n",
    "    'bill': 3\n",
    "}"
   ]
  },
  {
   "cell_type": "code",
   "execution_count": 155,
   "metadata": {},
   "outputs": [],
   "source": [
    "import json"
   ]
  },
  {
   "cell_type": "code",
   "execution_count": 164,
   "metadata": {},
   "outputs": [
    {
     "data": {
      "text/plain": [
       "'{\"bob\": {\"city\": \"a\", \"age\": 1}, \"1\": 4, \"dan\": [1, 2], \"bill\": 3}'"
      ]
     },
     "execution_count": 164,
     "metadata": {},
     "output_type": "execute_result"
    }
   ],
   "source": [
    "s = json.dumps(marks)\n",
    "s"
   ]
  },
  {
   "cell_type": "code",
   "execution_count": 165,
   "metadata": {},
   "outputs": [],
   "source": [
    "json.dump(marks, open('out.txt', 'w'))"
   ]
  },
  {
   "cell_type": "code",
   "execution_count": 161,
   "metadata": {},
   "outputs": [
    {
     "data": {
      "text/plain": [
       "{'1': 2}"
      ]
     },
     "execution_count": 161,
     "metadata": {},
     "output_type": "execute_result"
    }
   ],
   "source": [
    "s = '{\"1\": 2}'\n",
    "json.loads(s)"
   ]
  },
  {
   "cell_type": "code",
   "execution_count": 166,
   "metadata": {},
   "outputs": [
    {
     "data": {
      "text/plain": [
       "{'1': 4, 'bill': 3, 'bob': {'age': 1, 'city': 'a'}, 'dan': [1, 2]}"
      ]
     },
     "execution_count": 166,
     "metadata": {},
     "output_type": "execute_result"
    }
   ],
   "source": [
    "json.load(open('out.txt'))"
   ]
  },
  {
   "cell_type": "code",
   "execution_count": 167,
   "metadata": {},
   "outputs": [
    {
     "data": {
      "text/plain": [
       "{'cells': [{'cell_type': 'markdown', 'metadata': {}, 'source': ['## Словари']},\n",
       "  {'cell_type': 'markdown',\n",
       "   'metadata': {},\n",
       "   'source': ['Новая структура данных -- словарь (`dict`)\\n',\n",
       "    '\\n',\n",
       "    'Эта структура данных хранит пары ключ-значение и предоставляет быстрый доступ по ключу']},\n",
       "  {'cell_type': 'code',\n",
       "   'execution_count': 81,\n",
       "   'metadata': {},\n",
       "   'outputs': [{'data': {'text/plain': [\"{'alice': 4, 'bill': 3, 'bob': 5, 'dan': 5}\"]},\n",
       "     'execution_count': 81,\n",
       "     'metadata': {},\n",
       "     'output_type': 'execute_result'}],\n",
       "   'source': ['# оценки разных людей\\n',\n",
       "    'marks = {\\n',\n",
       "    \"    'bob': 5,\\n\",\n",
       "    \"    'alice': 4,\\n\",\n",
       "    \"    'dan': 5,\\n\",\n",
       "    \"    'bill': 3\\n\",\n",
       "    '}\\n',\n",
       "    'marks']},\n",
       "  {'cell_type': 'code',\n",
       "   'execution_count': 77,\n",
       "   'metadata': {},\n",
       "   'outputs': [{'data': {'text/plain': ['5']},\n",
       "     'execution_count': 77,\n",
       "     'metadata': {},\n",
       "     'output_type': 'execute_result'}],\n",
       "   'source': [\"marks['bob']\"]},\n",
       "  {'cell_type': 'code',\n",
       "   'execution_count': 3,\n",
       "   'metadata': {},\n",
       "   'outputs': [{'data': {'text/plain': [\"{'alice': 5, 'anonymus': 1, 'bill': 3, 'bob': 5, 'dan': 5}\"]},\n",
       "     'execution_count': 3,\n",
       "     'metadata': {},\n",
       "     'output_type': 'execute_result'}],\n",
       "   'source': [\"marks['alice'] = 5\\n\", \"marks['anonymus'] = 1\\n\", 'marks']},\n",
       "  {'cell_type': 'code',\n",
       "   'execution_count': 4,\n",
       "   'metadata': {},\n",
       "   'outputs': [{'name': 'stdout',\n",
       "     'output_type': 'stream',\n",
       "     'text': ['True\\n', 'False\\n']}],\n",
       "   'source': [\"print('alice' in marks)\\n\", \"print('mary' in marks)\"]},\n",
       "  {'cell_type': 'code',\n",
       "   'execution_count': 80,\n",
       "   'metadata': {},\n",
       "   'outputs': [{'name': 'stdout',\n",
       "     'output_type': 'stream',\n",
       "     'text': [\"dict_keys(['bob', 'alice', 'dan', 'bill'])\\n\",\n",
       "      'dict_values([5, 4, 5, 3])\\n',\n",
       "      \"dict_items([('bob', 5), ('alice', 4), ('dan', 5), ('bill', 3)])\\n\"]}],\n",
       "   'source': ['print(marks.keys())\\n',\n",
       "    'print(marks.values())\\n',\n",
       "    'print(marks.items())']},\n",
       "  {'cell_type': 'code',\n",
       "   'execution_count': 6,\n",
       "   'metadata': {},\n",
       "   'outputs': [{'name': 'stdout',\n",
       "     'output_type': 'stream',\n",
       "     'text': ['bob 5\\n', 'alice 5\\n', 'dan 5\\n', 'bill 3\\n', 'anonymus 1\\n']}],\n",
       "   'source': ['for key in marks:\\n', '    print(key, marks[key])']},\n",
       "  {'cell_type': 'code',\n",
       "   'execution_count': 82,\n",
       "   'metadata': {},\n",
       "   'outputs': [{'ename': 'TypeError',\n",
       "     'evalue': \"unhashable type: 'list'\",\n",
       "     'output_type': 'error',\n",
       "     'traceback': ['\\x1b[0;31m---------------------------------------------------------------------------\\x1b[0m',\n",
       "      '\\x1b[0;31mTypeError\\x1b[0m                                 Traceback (most recent call last)',\n",
       "      '\\x1b[0;32m<ipython-input-82-d721cbe50421>\\x1b[0m in \\x1b[0;36m<module>\\x1b[0;34m()\\x1b[0m\\n\\x1b[0;32m----> 1\\x1b[0;31m \\x1b[0md\\x1b[0m \\x1b[0;34m=\\x1b[0m \\x1b[0;34m{\\x1b[0m\\x1b[0;34m[\\x1b[0m\\x1b[0;36m1\\x1b[0m\\x1b[0;34m,\\x1b[0m \\x1b[0;36m2\\x1b[0m\\x1b[0;34m]\\x1b[0m\\x1b[0;34m:\\x1b[0m \\x1b[0;36m1\\x1b[0m\\x1b[0;34m}\\x1b[0m\\x1b[0;34m\\x1b[0m\\x1b[0m\\n\\x1b[0m',\n",
       "      \"\\x1b[0;31mTypeError\\x1b[0m: unhashable type: 'list'\"]}],\n",
       "   'source': ['d = {[1, 2]: 1}']},\n",
       "  {'cell_type': 'markdown',\n",
       "   'metadata': {},\n",
       "   'source': ['**порядок итерации по словарю произволен**\\n',\n",
       "    '\\n',\n",
       "    'в отличие от ситуации со списком списка, элементы в словаре не упорядочены, а лежат в соответствии со своими хешами']},\n",
       "  {'cell_type': 'markdown',\n",
       "   'metadata': {},\n",
       "   'source': ['**ключом словаря может быть только неизменяемый тип данных**\\n',\n",
       "    '\\n',\n",
       "    'например: строки, числа, кортежи\\n',\n",
       "    '\\n',\n",
       "    'не могут быть ключами: списки, словари, множества и тд']},\n",
       "  {'cell_type': 'markdown', 'metadata': {}, 'source': ['## Кортежи']},\n",
       "  {'cell_type': 'markdown',\n",
       "   'metadata': {},\n",
       "   'source': ['Кортеж -- неизменяемый список\\n',\n",
       "    '\\n',\n",
       "    'Одно из применений -- можно использовать как ключ словаря']},\n",
       "  {'cell_type': 'code',\n",
       "   'execution_count': 11,\n",
       "   'metadata': {},\n",
       "   'outputs': [{'data': {'text/plain': [\"(1, 2, 'Hello')\"]},\n",
       "     'execution_count': 11,\n",
       "     'metadata': {},\n",
       "     'output_type': 'execute_result'}],\n",
       "   'source': [\"c = (1, 2, 'Hello')\\n\", 'c']},\n",
       "  {'cell_type': 'code',\n",
       "   'execution_count': 83,\n",
       "   'metadata': {},\n",
       "   'outputs': [{'data': {'text/plain': ['(1, 2)']},\n",
       "     'execution_count': 83,\n",
       "     'metadata': {},\n",
       "     'output_type': 'execute_result'}],\n",
       "   'source': ['c[0:2]']},\n",
       "  {'cell_type': 'code',\n",
       "   'execution_count': 12,\n",
       "   'metadata': {},\n",
       "   'outputs': [{'ename': 'TypeError',\n",
       "     'evalue': \"'tuple' object does not support item assignment\",\n",
       "     'output_type': 'error',\n",
       "     'traceback': ['\\x1b[0;31m---------------------------------------------------------------------------\\x1b[0m',\n",
       "      '\\x1b[0;31mTypeError\\x1b[0m                                 Traceback (most recent call last)',\n",
       "      '\\x1b[0;32m<ipython-input-12-0aed5cd8f234>\\x1b[0m in \\x1b[0;36m<module>\\x1b[0;34m()\\x1b[0m\\n\\x1b[0;32m----> 1\\x1b[0;31m \\x1b[0mc\\x1b[0m\\x1b[0;34m[\\x1b[0m\\x1b[0;36m0\\x1b[0m\\x1b[0;34m]\\x1b[0m \\x1b[0;34m=\\x1b[0m \\x1b[0;36m0\\x1b[0m\\x1b[0;34m\\x1b[0m\\x1b[0m\\n\\x1b[0m',\n",
       "      \"\\x1b[0;31mTypeError\\x1b[0m: 'tuple' object does not support item assignment\"]}],\n",
       "   'source': ['c[0] = 0']},\n",
       "  {'cell_type': 'code',\n",
       "   'execution_count': 85,\n",
       "   'metadata': {},\n",
       "   'outputs': [{'data': {'text/plain': [\"{(1, 2): 'a', (1, 3): 'b', (2, 1): 'c'}\"]},\n",
       "     'execution_count': 85,\n",
       "     'metadata': {},\n",
       "     'output_type': 'execute_result'}],\n",
       "   'source': ['d = {\\n',\n",
       "    \"    (1, 2): 'a',\\n\",\n",
       "    \"    (1, 3): 'b',\\n\",\n",
       "    \"    (2, 1): 'c'\\n\",\n",
       "    '}\\n',\n",
       "    'd']},\n",
       "  {'cell_type': 'code',\n",
       "   'execution_count': None,\n",
       "   'metadata': {},\n",
       "   'outputs': [],\n",
       "   'source': []},\n",
       "  {'cell_type': 'markdown', 'metadata': {}, 'source': ['## Множества']},\n",
       "  {'cell_type': 'markdown',\n",
       "   'metadata': {},\n",
       "   'source': ['в этом типе данных все элементы уникальны\\n',\n",
       "    '\\n',\n",
       "    'множество поддерживает операцию `in` за константное время (в случае со списком это `O(n)`)']},\n",
       "  {'cell_type': 'code',\n",
       "   'execution_count': 87,\n",
       "   'metadata': {},\n",
       "   'outputs': [{'data': {'text/plain': ['{1, 2, 3, 4}']},\n",
       "     'execution_count': 87,\n",
       "     'metadata': {},\n",
       "     'output_type': 'execute_result'}],\n",
       "   'source': ['s = set([1, 2, 3, 4, 3, 2, 1])\\n', 's']},\n",
       "  {'cell_type': 'code',\n",
       "   'execution_count': 88,\n",
       "   'metadata': {},\n",
       "   'outputs': [{'name': 'stdout',\n",
       "     'output_type': 'stream',\n",
       "     'text': ['True\\n', 'False\\n', 'True\\n']}],\n",
       "   'source': ['print(1 in s)\\n', 'print(5 in s)\\n', 'print(5 not in s)']},\n",
       "  {'cell_type': 'code',\n",
       "   'execution_count': 92,\n",
       "   'metadata': {},\n",
       "   'outputs': [{'data': {'text/plain': ['{1, 2, 3, 4, 10}']},\n",
       "     'execution_count': 92,\n",
       "     'metadata': {},\n",
       "     'output_type': 'execute_result'}],\n",
       "   'source': ['s.add(10)\\n', 's']},\n",
       "  {'cell_type': 'code',\n",
       "   'execution_count': 93,\n",
       "   'metadata': {},\n",
       "   'outputs': [{'data': {'text/plain': ['{1, 2, 3, 4, 10}']},\n",
       "     'execution_count': 93,\n",
       "     'metadata': {},\n",
       "     'output_type': 'execute_result'}],\n",
       "   'source': ['s.add(1)\\n', 's']},\n",
       "  {'cell_type': 'markdown',\n",
       "   'metadata': {},\n",
       "   'source': ['**элементы множества неупорядочены также как и ключи в массиве**']},\n",
       "  {'cell_type': 'code',\n",
       "   'execution_count': 90,\n",
       "   'metadata': {},\n",
       "   'outputs': [{'ename': 'TypeError',\n",
       "     'evalue': \"'set' object does not support indexing\",\n",
       "     'output_type': 'error',\n",
       "     'traceback': ['\\x1b[0;31m---------------------------------------------------------------------------\\x1b[0m',\n",
       "      '\\x1b[0;31mTypeError\\x1b[0m                                 Traceback (most recent call last)',\n",
       "      '\\x1b[0;32m<ipython-input-90-c9c96910e542>\\x1b[0m in \\x1b[0;36m<module>\\x1b[0;34m()\\x1b[0m\\n\\x1b[0;32m----> 1\\x1b[0;31m \\x1b[0ms\\x1b[0m\\x1b[0;34m[\\x1b[0m\\x1b[0;36m0\\x1b[0m\\x1b[0;34m]\\x1b[0m\\x1b[0;34m\\x1b[0m\\x1b[0m\\n\\x1b[0m',\n",
       "      \"\\x1b[0;31mTypeError\\x1b[0m: 'set' object does not support indexing\"]}],\n",
       "   'source': ['s[0]']},\n",
       "  {'cell_type': 'markdown',\n",
       "   'metadata': {},\n",
       "   'source': ['доступ к элементам множества можно получить через `for ... in` или `list(s)`']},\n",
       "  {'cell_type': 'code',\n",
       "   'execution_count': 94,\n",
       "   'metadata': {},\n",
       "   'outputs': [{'data': {'text/plain': ['[1, 2, 3, 4, 10]']},\n",
       "     'execution_count': 94,\n",
       "     'metadata': {},\n",
       "     'output_type': 'execute_result'}],\n",
       "   'source': ['list(s)']},\n",
       "  {'cell_type': 'markdown',\n",
       "   'metadata': {},\n",
       "   'source': ['Также есть много удобных функций для множеств, например объединение двух множеств']},\n",
       "  {'cell_type': 'code',\n",
       "   'execution_count': 34,\n",
       "   'metadata': {},\n",
       "   'outputs': [{'data': {'text/plain': ['{1, 2, 3, 4, 5}']},\n",
       "     'execution_count': 34,\n",
       "     'metadata': {},\n",
       "     'output_type': 'execute_result'}],\n",
       "   'source': ['s1 = {1, 2, 3, 4}\\n', 's2 = {2, 3, 4, 5}\\n', 's1.union(s2)']},\n",
       "  {'cell_type': 'markdown', 'metadata': {}, 'source': ['или разность']},\n",
       "  {'cell_type': 'code',\n",
       "   'execution_count': 48,\n",
       "   'metadata': {},\n",
       "   'outputs': [{'data': {'text/plain': ['{1}']},\n",
       "     'execution_count': 48,\n",
       "     'metadata': {},\n",
       "     'output_type': 'execute_result'}],\n",
       "   'source': ['s1 - s2']},\n",
       "  {'cell_type': 'markdown',\n",
       "   'metadata': {},\n",
       "   'source': ['Множества позволяют элегантно решать некоторые задачи, например нахождение количества уникальных слов в тексте']},\n",
       "  {'cell_type': 'code',\n",
       "   'execution_count': 99,\n",
       "   'metadata': {},\n",
       "   'outputs': [{'data': {'text/plain': [\"['the',\\n\",\n",
       "       \" 'adventures',\\n\",\n",
       "       \" 'of',\\n\",\n",
       "       \" 'sherlock',\\n\",\n",
       "       \" 'holmes',\\n\",\n",
       "       \" 'arthur',\\n\",\n",
       "       \" 'conan',\\n\",\n",
       "       \" 'doyle',\\n\",\n",
       "       \" 'table',\\n\",\n",
       "       \" 'of']\"]},\n",
       "     'execution_count': 99,\n",
       "     'metadata': {},\n",
       "     'output_type': 'execute_result'}],\n",
       "   'source': [\"with open('sherlock.txt') as f:\\n\",\n",
       "    '    text = f.read().lower()\\n',\n",
       "    '\\n',\n",
       "    'word_list = text.split()\\n',\n",
       "    'word_list[:10]']},\n",
       "  {'cell_type': 'code',\n",
       "   'execution_count': 100,\n",
       "   'metadata': {},\n",
       "   'outputs': [],\n",
       "   'source': ['word_set = set(word_list)']},\n",
       "  {'cell_type': 'code',\n",
       "   'execution_count': 101,\n",
       "   'metadata': {},\n",
       "   'outputs': [{'data': {'text/plain': ['14093']},\n",
       "     'execution_count': 101,\n",
       "     'metadata': {},\n",
       "     'output_type': 'execute_result'}],\n",
       "   'source': ['len(word_set)']},\n",
       "  {'cell_type': 'markdown',\n",
       "   'metadata': {},\n",
       "   'source': ['найдем, какие буквы не встречаются в данной фразе']},\n",
       "  {'cell_type': 'code',\n",
       "   'execution_count': 108,\n",
       "   'metadata': {},\n",
       "   'outputs': [],\n",
       "   'source': [\"s = 'Neque porro quisquam est qui dolorem ipsum quia dolor sit amet, consectetur, adipisci velit'\"]},\n",
       "  {'cell_type': 'code',\n",
       "   'execution_count': 111,\n",
       "   'metadata': {},\n",
       "   'outputs': [{'name': 'stdout',\n",
       "     'output_type': 'stream',\n",
       "     'text': ['97\\n', '122\\n', 'b\\n']}],\n",
       "   'source': [\"print(ord('a'))\\n\", \"print(ord('z'))\\n\", 'print(chr(98))']},\n",
       "  {'cell_type': 'code',\n",
       "   'execution_count': 47,\n",
       "   'metadata': {},\n",
       "   'outputs': [{'data': {'text/plain': [\"{'b', 'f', 'g', 'h', 'j', 'k', 'w', 'x', 'y', 'z'}\"]},\n",
       "     'execution_count': 47,\n",
       "     'metadata': {},\n",
       "     'output_type': 'execute_result'}],\n",
       "   'source': [\"set(map(chr, range(ord('a'), ord('z')+1))) - set(s.lower())\"]},\n",
       "  {'cell_type': 'markdown', 'metadata': {}, 'source': ['## Работа с файлами']},\n",
       "  {'cell_type': 'code',\n",
       "   'execution_count': 130,\n",
       "   'metadata': {},\n",
       "   'outputs': [],\n",
       "   'source': [\"with open('sherlock.txt', encoding='utf8') as f:\\n\",\n",
       "    '    text = f.read()']},\n",
       "  {'cell_type': 'code',\n",
       "   'execution_count': 121,\n",
       "   'metadata': {},\n",
       "   'outputs': [{'name': 'stdout',\n",
       "     'output_type': 'stream',\n",
       "     'text': ['русский\\n']}],\n",
       "   'source': [\"with open('untitled.txt', ) as f:\\n\", '    print(f.read())']},\n",
       "  {'cell_type': 'code',\n",
       "   'execution_count': 117,\n",
       "   'metadata': {},\n",
       "   'outputs': [],\n",
       "   'source': [\"with open('out.txt', 'w') as f:\\n\",\n",
       "    '    f.write(\"\\\\nI\\'m writing to file!!!\\\\n\")']},\n",
       "  {'cell_type': 'code',\n",
       "   'execution_count': 115,\n",
       "   'metadata': {},\n",
       "   'outputs': [{'name': 'stdout',\n",
       "     'output_type': 'stream',\n",
       "     'text': ['12195\\n']}],\n",
       "   'source': [\"with open('sherlock.txt') as f:\\n\",\n",
       "    '    i = 0\\n',\n",
       "    '    for line in f:\\n',\n",
       "    '        i += 1\\n',\n",
       "    'print(i)']},\n",
       "  {'cell_type': 'code',\n",
       "   'execution_count': 52,\n",
       "   'metadata': {},\n",
       "   'outputs': [],\n",
       "   'source': ['import os']},\n",
       "  {'cell_type': 'code',\n",
       "   'execution_count': 119,\n",
       "   'metadata': {},\n",
       "   'outputs': [{'data': {'text/plain': [\"['out.txt',\\n\",\n",
       "       \" 'func.ipynb',\\n\",\n",
       "       \" 'Homework2.ipynb',\\n\",\n",
       "       \" '.ipynb_checkpoints',\\n\",\n",
       "       \" 'Lesson3.ipynb',\\n\",\n",
       "       \" 'Homework1.ipynb',\\n\",\n",
       "       \" 'Lesson1-2.ipynb',\\n\",\n",
       "       \" 'sherlock.txt']\"]},\n",
       "     'execution_count': 119,\n",
       "     'metadata': {},\n",
       "     'output_type': 'execute_result'}],\n",
       "   'source': ['os.listdir()']},\n",
       "  {'cell_type': 'markdown',\n",
       "   'metadata': {},\n",
       "   'source': ['Мини задачка: пройдите по всем файлам в текущей директории и выведите имя и первые 100 символов каждого файла (вам понадобится функция `os.path.isfile`)']},\n",
       "  {'cell_type': 'code',\n",
       "   'execution_count': 125,\n",
       "   'metadata': {},\n",
       "   'outputs': [{'data': {'text/plain': ['False']},\n",
       "     'execution_count': 125,\n",
       "     'metadata': {},\n",
       "     'output_type': 'execute_result'}],\n",
       "   'source': [\"os.path.isfile('.ipyn')\"]},\n",
       "  {'cell_type': 'code',\n",
       "   'execution_count': 129,\n",
       "   'metadata': {},\n",
       "   'outputs': [{'name': 'stdout',\n",
       "     'output_type': 'stream',\n",
       "     'text': [\"I'm writing to file!!!I'm writing to file!!!\\n\",\n",
       "      \"I'm writing to file!!!\\n\",\n",
       "      '\\n',\n",
       "      '{\\n',\n",
       "      ' \"cells\": [\\n',\n",
       "      '  {\\n',\n",
       "      '   \"cell_type\": \"markdown\",\\n',\n",
       "      '   \"metadata\": {},\\n',\n",
       "      '   \"source\": [\\n',\n",
       "      '    \"## Элементы фун\\n',\n",
       "      'русский\\n',\n",
       "      '{\\n',\n",
       "      ' \"cells\": [\\n',\n",
       "      '  {\\n',\n",
       "      '   \"cell_type\": \"markdown\",\\n',\n",
       "      '   \"metadata\": {},\\n',\n",
       "      '   \"source\": [\\n',\n",
       "      '    \"# Второе домашн\\n',\n",
       "      '{\\n',\n",
       "      ' \"cells\": [\\n',\n",
       "      '  {\\n',\n",
       "      '   \"cell_type\": \"markdown\",\\n',\n",
       "      '   \"metadata\": {},\\n',\n",
       "      '   \"source\": [\\n',\n",
       "      '    \"## Словари\"\\n',\n",
       "      '   \\n',\n",
       "      '{\\n',\n",
       "      ' \"cells\": [\\n',\n",
       "      '  {\\n',\n",
       "      '   \"cell_type\": \"markdown\",\\n',\n",
       "      '   \"metadata\": {},\\n',\n",
       "      '   \"source\": [\\n',\n",
       "      '    \"# Первое домашн\\n',\n",
       "      '{\\n',\n",
       "      ' \"cells\": [\\n',\n",
       "      '  {\\n',\n",
       "      '   \"cell_type\": \"markdown\",\\n',\n",
       "      '   \"metadata\": {},\\n',\n",
       "      '   \"source\": [\\n',\n",
       "      '    \"На наших заняти\\n',\n",
       "      '\\n',\n",
       "      '\\n',\n",
       "      '\\n',\n",
       "      '\\n',\n",
       "      '                        THE ADVENTURES OF SHERLOCK HOLMES\\n',\n",
       "      '\\n',\n",
       "      '                               Arthur\\n']}],\n",
       "   'source': ['for path in os.listdir():\\n',\n",
       "    '    if os.path.isfile(path):\\n',\n",
       "    '        try:\\n',\n",
       "    \"            with open(path, encoding='utf8') as f:\\n\",\n",
       "    '                print(f.read()[:100])\\n',\n",
       "    '        except:\\n',\n",
       "    '            pass']},\n",
       "  {'cell_type': 'code',\n",
       "   'execution_count': 163,\n",
       "   'metadata': {},\n",
       "   'outputs': [],\n",
       "   'source': ['marks = {\\n',\n",
       "    \"    'bob': {\\n\",\n",
       "    \"        'city': 'a',\\n\",\n",
       "    \"        'age': 1\\n\",\n",
       "    '    },\\n',\n",
       "    '    1: 4,\\n',\n",
       "    \"    'dan': [1, 2],\\n\",\n",
       "    \"    'bill': 3\\n\",\n",
       "    '}']},\n",
       "  {'cell_type': 'code',\n",
       "   'execution_count': 155,\n",
       "   'metadata': {},\n",
       "   'outputs': [],\n",
       "   'source': ['import json']},\n",
       "  {'cell_type': 'code',\n",
       "   'execution_count': 164,\n",
       "   'metadata': {},\n",
       "   'outputs': [{'data': {'text/plain': ['\\'{\"bob\": {\"city\": \"a\", \"age\": 1}, \"1\": 4, \"dan\": [1, 2], \"bill\": 3}\\'']},\n",
       "     'execution_count': 164,\n",
       "     'metadata': {},\n",
       "     'output_type': 'execute_result'}],\n",
       "   'source': ['s = json.dumps(marks)\\n', 's']},\n",
       "  {'cell_type': 'code',\n",
       "   'execution_count': 165,\n",
       "   'metadata': {},\n",
       "   'outputs': [],\n",
       "   'source': [\"json.dump(marks, open('out.txt', 'w'))\"]},\n",
       "  {'cell_type': 'code',\n",
       "   'execution_count': 161,\n",
       "   'metadata': {},\n",
       "   'outputs': [{'data': {'text/plain': [\"{'1': 2}\"]},\n",
       "     'execution_count': 161,\n",
       "     'metadata': {},\n",
       "     'output_type': 'execute_result'}],\n",
       "   'source': ['s = \\'{\"1\": 2}\\'\\n', 'json.loads(s)']},\n",
       "  {'cell_type': 'code',\n",
       "   'execution_count': 166,\n",
       "   'metadata': {},\n",
       "   'outputs': [{'data': {'text/plain': [\"{'1': 4, 'bill': 3, 'bob': {'age': 1, 'city': 'a'}, 'dan': [1, 2]}\"]},\n",
       "     'execution_count': 166,\n",
       "     'metadata': {},\n",
       "     'output_type': 'execute_result'}],\n",
       "   'source': [\"json.load(open('out.txt'))\"]},\n",
       "  {'cell_type': 'code',\n",
       "   'execution_count': None,\n",
       "   'metadata': {},\n",
       "   'outputs': [],\n",
       "   'source': ['j']}],\n",
       " 'metadata': {'kernelspec': {'display_name': 'Python 3',\n",
       "   'language': 'python',\n",
       "   'name': 'python3'},\n",
       "  'language_info': {'codemirror_mode': {'name': 'ipython', 'version': 3},\n",
       "   'file_extension': '.py',\n",
       "   'mimetype': 'text/x-python',\n",
       "   'name': 'python',\n",
       "   'nbconvert_exporter': 'python',\n",
       "   'pygments_lexer': 'ipython3',\n",
       "   'version': '3.6.4'}},\n",
       " 'nbformat': 4,\n",
       " 'nbformat_minor': 2}"
      ]
     },
     "execution_count": 167,
     "metadata": {},
     "output_type": "execute_result"
    }
   ],
   "source": [
    "json.load(open('Lesson3.ipynb'))"
   ]
  }
 ],
 "metadata": {
  "kernelspec": {
   "display_name": "Python 3",
   "language": "python",
   "name": "python3"
  },
  "language_info": {
   "codemirror_mode": {
    "name": "ipython",
    "version": 3
   },
   "file_extension": ".py",
   "mimetype": "text/x-python",
   "name": "python",
   "nbconvert_exporter": "python",
   "pygments_lexer": "ipython3",
   "version": "3.6.4"
  }
 },
 "nbformat": 4,
 "nbformat_minor": 2
}
