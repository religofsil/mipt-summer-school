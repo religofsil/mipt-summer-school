{
 "cells": [
  {
   "cell_type": "markdown",
   "metadata": {},
   "source": [
    "# Первое домашнее задание"
   ]
  },
  {
   "cell_type": "markdown",
   "metadata": {},
   "source": [
    "Первое домашнее задание будет посвящено простым задачам на ввод-вывод и работу со строками"
   ]
  },
  {
   "cell_type": "markdown",
   "metadata": {},
   "source": [
    "1. http://pythontutor.ru/lessons/inout_and_arithmetic_operations/problems/hello_harry/\n",
    "2. http://pythontutor.ru/lessons/inout_and_arithmetic_operations/problems/next_and_previous/\n",
    "3. http://pythontutor.ru/lessons/inout_and_arithmetic_operations/problems/desks/\n",
    "4. (*) http://pythontutor.ru/lessons/inout_and_arithmetic_operations/problems/shoelace/\n",
    "5. http://pythontutor.ru/lessons/str/problems/slices/ (обратите внимание на тему Срезы в файле `Lesson1-2.ipynb`, там появилось еще немного информации)\n",
    "6. (*) http://pythontutor.ru/lessons/str/problems/two_halves/\n",
    "\n",
    "Задачи с pythontutor.ru можно решать прямо на сайте; если вы там зарегестрируетесь, то вам станет доступна автоматчическая проверка\n",
    "\n",
    "Задачи со звездочкой необязательны, но рекомендуются к выполнению (а также принесут вам больше балов)\n",
    "\n",
    "Присылать решения можно в виде скриншотов кода с pythontutor либо ноутбуков с кодом задач\n",
    "\n",
    "Кстати, вы можете узнать еще пару интересных методов для строк здесь http://pythontutor.ru/lessons/str/"
   ]
  },
  {
   "cell_type": "code",
   "execution_count": null,
   "metadata": {},
   "outputs": [],
   "source": []
  }
 ],
 "metadata": {
  "kernelspec": {
   "display_name": "Python 3",
   "language": "python",
   "name": "python3"
  },
  "language_info": {
   "codemirror_mode": {
    "name": "ipython",
    "version": 3
   },
   "file_extension": ".py",
   "mimetype": "text/x-python",
   "name": "python",
   "nbconvert_exporter": "python",
   "pygments_lexer": "ipython3",
   "version": "3.6.4"
  }
 },
 "nbformat": 4,
 "nbformat_minor": 2
}
