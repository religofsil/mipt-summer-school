{
 "cells": [
  {
   "cell_type": "markdown",
   "metadata": {},
   "source": [
    "# Машинный перевод и определение языка\n",
    "\n",
    "Что нужно сделать:\n",
    "1. Получить свой API токен на [здесь](https://translate.yandex.com/developers/keys) (для этого нужно быть зарегистрированным в Яндексе)\n",
    "2. Используя его, проверить, работает ли переводчик\n",
    "3. Сохранить модель-распознаватель вашего языка в `pickle` и загрузить сюда.\n",
    "4. Написать функцию, которая принимает на вход предложение, и, если оно на русском, переводит на польский, а если на украинском -- на французский.\n",
    "\n",
    "\n",
    "Документация и примеры: https://pypi.org/project/yandex-translater/"
   ]
  },
  {
   "cell_type": "code",
   "execution_count": 4,
   "metadata": {},
   "outputs": [],
   "source": [
    "from yandex import Translater"
   ]
  },
  {
   "cell_type": "markdown",
   "metadata": {},
   "source": [
    "Чтобы не палить ключ, сохраним его в отдельный питоновский файлик и не будем коммитить, а будем импортировать сюда.\n",
    "\n",
    "Вот так должен выглядеть ваш `conf.py`:\n",
    "```{python}\n",
    "my_token = 'trnsl.1.1.kafjndkfjnmsdcksdfnmakm'\n",
    "```"
   ]
  },
  {
   "cell_type": "code",
   "execution_count": 8,
   "metadata": {},
   "outputs": [],
   "source": [
    "from conf import my_token"
   ]
  },
  {
   "cell_type": "code",
   "execution_count": 13,
   "metadata": {},
   "outputs": [
    {
     "data": {
      "text/plain": [
       "'Umiem tłumaczyć!'"
      ]
     },
     "execution_count": 13,
     "metadata": {},
     "output_type": "execute_result"
    }
   ],
   "source": [
    "tr = Translater()\n",
    "tr.set_key(my_token)\n",
    "tr.set_from_lang('ru')\n",
    "tr.set_to_lang('pl')\n",
    "tr.set_text('Я умею переводить!')\n",
    "tr.translate()"
   ]
  },
  {
   "cell_type": "code",
   "execution_count": null,
   "metadata": {},
   "outputs": [],
   "source": []
  },
  {
   "cell_type": "code",
   "execution_count": null,
   "metadata": {},
   "outputs": [],
   "source": [
    "def translate_sent(sentence):\n",
    "    # ваш код здесь"
   ]
  }
 ],
 "metadata": {
  "kernelspec": {
   "display_name": "Python 3",
   "language": "python",
   "name": "python3"
  },
  "language_info": {
   "codemirror_mode": {
    "name": "ipython",
    "version": 3
   },
   "file_extension": ".py",
   "mimetype": "text/x-python",
   "name": "python",
   "nbconvert_exporter": "python",
   "pygments_lexer": "ipython3",
   "version": "3.6.5"
  }
 },
 "nbformat": 4,
 "nbformat_minor": 2
}
