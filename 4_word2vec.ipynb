{
 "cells": [
  {
   "cell_type": "markdown",
   "metadata": {},
   "source": [
    "# word2vec и его модели\n",
    "\n",
    "За материал этого семинара большое спасибо Лизе Кузьменко, выпускнице ФиПЛа ВШЭ."
   ]
  },
  {
   "cell_type": "code",
   "execution_count": 1,
   "metadata": {},
   "outputs": [],
   "source": [
    "import gensim"
   ]
  },
  {
   "cell_type": "markdown",
   "metadata": {},
   "source": [
    "`gensim` -- это питоновская библиотека для семантического моделирования  "
   ]
  },
  {
   "cell_type": "markdown",
   "metadata": {},
   "source": [
    "## Что можно делать с word2vec?\n",
    "\n",
    "Можно обучать модели на своих данных. Это может пригодиться вам, если модели для вашего языка ещё нет. Или если текст документов очень специфичен (например, юридические докуенты).\n",
    "\n",
    "А можно -- загрузить готовую модель и использовать её."
   ]
  },
  {
   "cell_type": "markdown",
   "metadata": {},
   "source": [
    "## Загрузка модели\n",
    "\n",
    "Скачаем модель [отсюда](http://rusvectores.org/static/models/rusvectores4/RNC/ruscorpora_upos_skipgram_300_5_2018.vec.gz). Или с флешки.\n",
    "\n",
    "(Кстати, другие модели для русского скачать можно здесь - http://rusvectores.org/ru/models/).\n",
    "\n",
    "Модели бывают разных форматов и, в зависимости от этого, их надо по-разному считывыать. ААА"
   ]
  },
  {
   "cell_type": "code",
   "execution_count": 28,
   "metadata": {},
   "outputs": [],
   "source": [
    "m_path = '../ruscorpora_upos_skipgram_300_5_2018.vec.gz'\n",
    "model = gensim.models.KeyedVectors.load_word2vec_format(m_path, binary=False)"
   ]
  },
  {
   "cell_type": "code",
   "execution_count": 33,
   "metadata": {},
   "outputs": [],
   "source": [
    "# делаем нормализацию\n",
    "model.init_sims(replace=True)"
   ]
  },
  {
   "cell_type": "markdown",
   "metadata": {},
   "source": [
    "Посмотрим, сколько в модели слов:"
   ]
  },
  {
   "cell_type": "code",
   "execution_count": 32,
   "metadata": {},
   "outputs": [
    {
     "data": {
      "text/plain": [
       "195071"
      ]
     },
     "execution_count": 32,
     "metadata": {},
     "output_type": "execute_result"
    }
   ],
   "source": [
    "len(model.vocab)"
   ]
  },
  {
   "cell_type": "markdown",
   "metadata": {},
   "source": [
    "Попросим у модели 5 ближайших соседей для нашего слова и коэффициент косинусной близости для каждого:"
   ]
  },
  {
   "cell_type": "code",
   "execution_count": 40,
   "metadata": {},
   "outputs": [
    {
     "name": "stderr",
     "output_type": "stream",
     "text": [
      "/home/maryszmary/anaconda3/lib/python3.6/site-packages/gensim/matutils.py:737: FutureWarning: Conversion of the second argument of issubdtype from `int` to `np.signedinteger` is deprecated. In future, it will be treated as `np.int32 == np.dtype(int).type`.\n",
      "  if np.issubdtype(vec.dtype, np.int):\n"
     ]
    },
    {
     "data": {
      "text/plain": [
       "[('тюлень_NOUN', 0.5827229022979736),\n",
       " ('выдра_NOUN', 0.5513117909431458),\n",
       " ('сивуча_NOUN', 0.5482855439186096),\n",
       " ('каылать_NOUN', 0.5435709953308105),\n",
       " ('нутрия_NOUN', 0.5422524809837341)]"
      ]
     },
     "execution_count": 40,
     "metadata": {},
     "output_type": "execute_result"
    }
   ],
   "source": [
    "model.most_similar(positive=['котик_NOUN'], topn=5)"
   ]
  },
  {
   "cell_type": "markdown",
   "metadata": {},
   "source": [
    "Частеречные тэги нужны, поскольку это специфика скачанной модели - она была натренирована на словах, аннотированных их частями речи (и лемматизированных).\n",
    "\n",
    "Проверим, есть ли слово в модели:"
   ]
  },
  {
   "cell_type": "code",
   "execution_count": 42,
   "metadata": {},
   "outputs": [
    {
     "name": "stdout",
     "output_type": "stream",
     "text": [
      "False\n",
      "True\n"
     ]
    }
   ],
   "source": [
    "word1 = 'захардкодить_NOUN'\n",
    "word2 = 'пирожок_NOUN'\n",
    "print(word1 in model)\n",
    "print(word2 in model)"
   ]
  },
  {
   "cell_type": "markdown",
   "metadata": {},
   "source": [
    "## Домашнее задание\n",
    "\n",
    "### Обязательное задание всем\n",
    "\n",
    "Напишите функцию, которая печатает 7 ближайших слов для поданного прилагательного, если оно есть в модели. А если нет -- печатает сообщение \"в модели нет этого слова :(\"\n",
    "\n",
    "Пример:"
   ]
  },
  {
   "cell_type": "code",
   "execution_count": 46,
   "metadata": {},
   "outputs": [
    {
     "name": "stdout",
     "output_type": "stream",
     "text": [
      "красивый_PROPN\n",
      "нарядный_ADJ\n",
      "фотогеничный_ADJ\n",
      "некрасивый_ADJ\n",
      "недурненький_ADJ\n",
      "изящный_ADJ\n",
      "изящен_ADJ\n"
     ]
    },
    {
     "name": "stderr",
     "output_type": "stream",
     "text": [
      "/home/maryszmary/anaconda3/lib/python3.6/site-packages/gensim/matutils.py:737: FutureWarning: Conversion of the second argument of issubdtype from `int` to `np.signedinteger` is deprecated. In future, it will be treated as `np.int32 == np.dtype(int).type`.\n",
      "  if np.issubdtype(vec.dtype, np.int):\n"
     ]
    }
   ],
   "source": [
    "find_seven_similar('красивый_ADJ')"
   ]
  },
  {
   "cell_type": "code",
   "execution_count": 47,
   "metadata": {},
   "outputs": [
    {
     "name": "stdout",
     "output_type": "stream",
     "text": [
      "в модели нет этого слова :(\n"
     ]
    }
   ],
   "source": [
    "find_seven_similar('улётный_ADJ')"
   ]
  },
  {
   "cell_type": "code",
   "execution_count": null,
   "metadata": {},
   "outputs": [],
   "source": [
    "# ваш код здесь\n"
   ]
  },
  {
   "cell_type": "markdown",
   "metadata": {},
   "source": [
    "## Необязательное задание 1\n",
    "(делайте только если у вас время, силы и желание, а если нет - забейте :))\n",
    "\n",
    "Напишите функцию, \n",
    "\n",
    "Пример того, как определять часть речи слова с помощью pymorphy, есть [в семинаре по лемматизации](https://github.com/religofsil/mipt-summer-school/blob/master/3_lemmatization%26hw.ipynb)."
   ]
  },
  {
   "cell_type": "code",
   "execution_count": null,
   "metadata": {},
   "outputs": [],
   "source": []
  },
  {
   "cell_type": "markdown",
   "metadata": {},
   "source": [
    "## Необязательное задание 2\n",
    "(то же самое)\n",
    "\n",
    "Напишите функцию, которая получает на вход предложение и заменяет часть слов на близкие по значению."
   ]
  },
  {
   "cell_type": "code",
   "execution_count": null,
   "metadata": {},
   "outputs": [],
   "source": []
  }
 ],
 "metadata": {
  "kernelspec": {
   "display_name": "Python 3",
   "language": "python",
   "name": "python3"
  },
  "language_info": {
   "codemirror_mode": {
    "name": "ipython",
    "version": 3
   },
   "file_extension": ".py",
   "mimetype": "text/x-python",
   "name": "python",
   "nbconvert_exporter": "python",
   "pygments_lexer": "ipython3",
   "version": "3.6.5"
  }
 },
 "nbformat": 4,
 "nbformat_minor": 2
}
