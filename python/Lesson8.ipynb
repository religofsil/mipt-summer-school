{
 "cells": [
  {
   "cell_type": "markdown",
   "metadata": {},
   "source": [
    "# Работа с файлами"
   ]
  },
  {
   "cell_type": "code",
   "execution_count": 1,
   "metadata": {},
   "outputs": [],
   "source": [
    "import os"
   ]
  },
  {
   "cell_type": "code",
   "execution_count": 2,
   "metadata": {},
   "outputs": [
    {
     "data": {
      "text/plain": [
       "['out.txt',\n",
       " '.DS_Store',\n",
       " 'Lesson8.ipynb',\n",
       " 'videogames.csv',\n",
       " 'Homework6.ipynb',\n",
       " 'l1z19s49sk5bpc8vkmcbho7zgro.jpeg',\n",
       " 'untitled.txt',\n",
       " 'Homework4.ipynb',\n",
       " 'Lesson6.ipynb',\n",
       " 'Homework2.ipynb',\n",
       " 'Lesson4.ipynb',\n",
       " '.ipynb_checkpoints',\n",
       " 'Homework5.ipynb',\n",
       " 'Lesson3.ipynb',\n",
       " 'WorldCupMatches.csv',\n",
       " 'Lesson5.ipynb',\n",
       " 'Homework3.ipynb',\n",
       " 'Homework1.ipynb',\n",
       " 'Lesson7.ipynb',\n",
       " 'Lesson1-2.ipynb',\n",
       " 'sherlock.txt']"
      ]
     },
     "execution_count": 2,
     "metadata": {},
     "output_type": "execute_result"
    }
   ],
   "source": [
    "os.listdir()"
   ]
  },
  {
   "cell_type": "markdown",
   "metadata": {},
   "source": [
    "**Всегда используйте `join` вместо того чтобы писать путь руками!!**"
   ]
  },
  {
   "cell_type": "code",
   "execution_count": 7,
   "metadata": {},
   "outputs": [
    {
     "data": {
      "text/plain": [
       "'.ipynb_checkpoints/abs'"
      ]
     },
     "execution_count": 7,
     "metadata": {},
     "output_type": "execute_result"
    }
   ],
   "source": [
    "os.path.join('.ipynb_checkpoints', 'abs')"
   ]
  },
  {
   "cell_type": "code",
   "execution_count": 15,
   "metadata": {},
   "outputs": [
    {
     "data": {
      "text/plain": [
       "['collocations_nltk.ipynb',\n",
       " 'chatbots_intro.pdf',\n",
       " 'wordnet.ipynb',\n",
       " 'news.txt',\n",
       " 'word2vec.ipynb',\n",
       " '.gitignore',\n",
       " 'collocations.pdf',\n",
       " 'TelegramBot.ipynb',\n",
       " 'distributive_semantics.pdf']"
      ]
     },
     "execution_count": 15,
     "metadata": {},
     "output_type": "execute_result"
    }
   ],
   "source": [
    "os.listdir(os.path.join(os.path.pardir, '2017'))"
   ]
  },
  {
   "cell_type": "code",
   "execution_count": 16,
   "metadata": {},
   "outputs": [
    {
     "data": {
      "text/plain": [
       "'/Users/s.tsepa/Workspace/mipt-summer-school/2017'"
      ]
     },
     "execution_count": 16,
     "metadata": {},
     "output_type": "execute_result"
    }
   ],
   "source": [
    "os.path.abspath(os.path.join(os.path.pardir, '2017'))"
   ]
  },
  {
   "cell_type": "markdown",
   "metadata": {},
   "source": [
    "# Генераторы"
   ]
  },
  {
   "cell_type": "markdown",
   "metadata": {},
   "source": [
    "генератор -- функция которая может продолжать работать дальше после того как вернула значение"
   ]
  },
  {
   "cell_type": "code",
   "execution_count": 29,
   "metadata": {},
   "outputs": [],
   "source": [
    "def counter():\n",
    "    a = 0\n",
    "    while True:\n",
    "        yield a\n",
    "        print('getting new value')\n",
    "        a += 1"
   ]
  },
  {
   "cell_type": "code",
   "execution_count": 30,
   "metadata": {},
   "outputs": [
    {
     "name": "stdout",
     "output_type": "stream",
     "text": [
      "0\n",
      "getting new value\n",
      "1\n",
      "getting new value\n",
      "2\n"
     ]
    }
   ],
   "source": [
    "g = counter()\n",
    "print(next(g))\n",
    "print(next(g))\n",
    "print(next(g))"
   ]
  },
  {
   "cell_type": "code",
   "execution_count": 32,
   "metadata": {},
   "outputs": [
    {
     "name": "stdout",
     "output_type": "stream",
     "text": [
      "0\n",
      "getting new value\n",
      "1\n",
      "getting new value\n",
      "2\n",
      "getting new value\n",
      "3\n",
      "getting new value\n",
      "4\n",
      "getting new value\n",
      "5\n",
      "getting new value\n",
      "6\n",
      "getting new value\n",
      "7\n",
      "getting new value\n",
      "8\n",
      "getting new value\n",
      "9\n",
      "getting new value\n",
      "10\n",
      "getting new value\n",
      "11\n"
     ]
    }
   ],
   "source": [
    "for i in counter():\n",
    "    print(i)\n",
    "    if i > 10:\n",
    "        break"
   ]
  },
  {
   "cell_type": "markdown",
   "metadata": {},
   "source": [
    "чтобы генератор в цикле for работал не бесконечно он должен в какой-то момент вызвать return (в более ранних версиях python бросить исключение `StopIteration`)"
   ]
  },
  {
   "cell_type": "code",
   "execution_count": 40,
   "metadata": {},
   "outputs": [],
   "source": [
    "def counter(limit):\n",
    "    a = 0\n",
    "    while a < limit:\n",
    "        yield a\n",
    "        a += 1"
   ]
  },
  {
   "cell_type": "code",
   "execution_count": 41,
   "metadata": {},
   "outputs": [
    {
     "name": "stdout",
     "output_type": "stream",
     "text": [
      "0\n",
      "1\n",
      "2\n"
     ]
    },
    {
     "ename": "StopIteration",
     "evalue": "",
     "output_type": "error",
     "traceback": [
      "\u001b[0;31m---------------------------------------------------------------------------\u001b[0m",
      "\u001b[0;31mStopIteration\u001b[0m                             Traceback (most recent call last)",
      "\u001b[0;32m<ipython-input-41-b7c75661fa94>\u001b[0m in \u001b[0;36m<module>\u001b[0;34m()\u001b[0m\n\u001b[1;32m      3\u001b[0m \u001b[0mprint\u001b[0m\u001b[0;34m(\u001b[0m\u001b[0mnext\u001b[0m\u001b[0;34m(\u001b[0m\u001b[0mg\u001b[0m\u001b[0;34m)\u001b[0m\u001b[0;34m)\u001b[0m\u001b[0;34m\u001b[0m\u001b[0m\n\u001b[1;32m      4\u001b[0m \u001b[0mprint\u001b[0m\u001b[0;34m(\u001b[0m\u001b[0mnext\u001b[0m\u001b[0;34m(\u001b[0m\u001b[0mg\u001b[0m\u001b[0;34m)\u001b[0m\u001b[0;34m)\u001b[0m\u001b[0;34m\u001b[0m\u001b[0m\n\u001b[0;32m----> 5\u001b[0;31m \u001b[0mprint\u001b[0m\u001b[0;34m(\u001b[0m\u001b[0mnext\u001b[0m\u001b[0;34m(\u001b[0m\u001b[0mg\u001b[0m\u001b[0;34m)\u001b[0m\u001b[0;34m)\u001b[0m\u001b[0;34m\u001b[0m\u001b[0m\n\u001b[0m",
      "\u001b[0;31mStopIteration\u001b[0m: "
     ]
    }
   ],
   "source": [
    "g = counter(3)\n",
    "print(next(g))\n",
    "print(next(g))\n",
    "print(next(g))\n",
    "print(next(g))"
   ]
  },
  {
   "cell_type": "code",
   "execution_count": 42,
   "metadata": {},
   "outputs": [
    {
     "name": "stdout",
     "output_type": "stream",
     "text": [
      "0\n",
      "1\n",
      "2\n",
      "3\n",
      "4\n",
      "5\n",
      "6\n",
      "7\n",
      "8\n",
      "9\n"
     ]
    }
   ],
   "source": [
    "for i in counter(10):\n",
    "    print(i)"
   ]
  },
  {
   "cell_type": "markdown",
   "metadata": {},
   "source": [
    "раньше мы уже упоминали ленивую модель вычислений -- она реализуется как раз при помощи генераторов\n",
    "\n",
    "`map`, `filter`, `range`, `enumerate`, `zip` -- это все генераторы"
   ]
  },
  {
   "cell_type": "code",
   "execution_count": 44,
   "metadata": {},
   "outputs": [
    {
     "data": {
      "text/plain": [
       "range(0, 10)"
      ]
     },
     "execution_count": 44,
     "metadata": {},
     "output_type": "execute_result"
    }
   ],
   "source": [
    "range(10)"
   ]
  },
  {
   "cell_type": "markdown",
   "metadata": {},
   "source": [
    "Упражнение: напишите при помощи генератора аналог функции `range`, котоая поддерживает бесконечные последовательности\n",
    "\n",
    "например\n",
    "\n",
    "`myrange(10) -> 1..9`\n",
    "\n",
    "`myrange() -> 1..`"
   ]
  },
  {
   "cell_type": "code",
   "execution_count": 48,
   "metadata": {},
   "outputs": [],
   "source": [
    "def fibonacci_generator():\n",
    "    a, b = 0, 1\n",
    "    while True:\n",
    "        yield a\n",
    "        a, b = b, a + b"
   ]
  },
  {
   "cell_type": "code",
   "execution_count": 51,
   "metadata": {},
   "outputs": [
    {
     "name": "stdout",
     "output_type": "stream",
     "text": [
      "0\n",
      "1\n",
      "1\n",
      "2\n",
      "3\n",
      "5\n",
      "8\n",
      "13\n",
      "21\n",
      "34\n",
      "55\n",
      "89\n",
      "144\n",
      "233\n",
      "377\n",
      "610\n",
      "987\n"
     ]
    }
   ],
   "source": [
    "# Печатает все числа последовательности Фибоначчи, меньше 1000\n",
    "for a in fibonacci_generator():\n",
    "    if a > 1000:\n",
    "        break\n",
    "    print(a)"
   ]
  },
  {
   "cell_type": "markdown",
   "metadata": {},
   "source": [
    "Упражнение: напишите генератор выдающий бесконечную последовательность факотриалов"
   ]
  },
  {
   "cell_type": "markdown",
   "metadata": {},
   "source": [
    "# модуль itertools"
   ]
  },
  {
   "cell_type": "code",
   "execution_count": 56,
   "metadata": {},
   "outputs": [],
   "source": [
    "from itertools import product, permutations"
   ]
  },
  {
   "cell_type": "code",
   "execution_count": 53,
   "metadata": {},
   "outputs": [
    {
     "name": "stdout",
     "output_type": "stream",
     "text": [
      "('a', 1)\n",
      "('a', 2)\n",
      "('a', 3)\n",
      "('a', 4)\n",
      "('b', 1)\n",
      "('b', 2)\n",
      "('b', 3)\n",
      "('b', 4)\n",
      "('c', 1)\n",
      "('c', 2)\n",
      "('c', 3)\n",
      "('c', 4)\n",
      "('d', 1)\n",
      "('d', 2)\n",
      "('d', 3)\n",
      "('d', 4)\n"
     ]
    }
   ],
   "source": [
    "for p in product('abcd', (1, 2, 3, 4)):\n",
    "    print(p)"
   ]
  },
  {
   "cell_type": "code",
   "execution_count": 54,
   "metadata": {},
   "outputs": [
    {
     "name": "stdout",
     "output_type": "stream",
     "text": [
      "(0, 0, 0, 0, 0)\n",
      "(0, 0, 0, 0, 1)\n",
      "(0, 0, 0, 1, 0)\n",
      "(0, 0, 0, 1, 1)\n",
      "(0, 0, 1, 0, 0)\n",
      "(0, 0, 1, 0, 1)\n",
      "(0, 0, 1, 1, 0)\n",
      "(0, 0, 1, 1, 1)\n",
      "(0, 1, 0, 0, 0)\n",
      "(0, 1, 0, 0, 1)\n",
      "(0, 1, 0, 1, 0)\n",
      "(0, 1, 0, 1, 1)\n",
      "(0, 1, 1, 0, 0)\n",
      "(0, 1, 1, 0, 1)\n",
      "(0, 1, 1, 1, 0)\n",
      "(0, 1, 1, 1, 1)\n",
      "(1, 0, 0, 0, 0)\n",
      "(1, 0, 0, 0, 1)\n",
      "(1, 0, 0, 1, 0)\n",
      "(1, 0, 0, 1, 1)\n",
      "(1, 0, 1, 0, 0)\n",
      "(1, 0, 1, 0, 1)\n",
      "(1, 0, 1, 1, 0)\n",
      "(1, 0, 1, 1, 1)\n",
      "(1, 1, 0, 0, 0)\n",
      "(1, 1, 0, 0, 1)\n",
      "(1, 1, 0, 1, 0)\n",
      "(1, 1, 0, 1, 1)\n",
      "(1, 1, 1, 0, 0)\n",
      "(1, 1, 1, 0, 1)\n",
      "(1, 1, 1, 1, 0)\n",
      "(1, 1, 1, 1, 1)\n"
     ]
    }
   ],
   "source": [
    "for n in product((0, 1), repeat=5):\n",
    "    print(n)"
   ]
  },
  {
   "cell_type": "code",
   "execution_count": 57,
   "metadata": {},
   "outputs": [
    {
     "name": "stdout",
     "output_type": "stream",
     "text": [
      "(1, 2, 3)\n",
      "(1, 3, 2)\n",
      "(2, 1, 3)\n",
      "(2, 3, 1)\n",
      "(3, 1, 2)\n",
      "(3, 2, 1)\n"
     ]
    }
   ],
   "source": [
    "for p in permutations([1,2,3]):\n",
    "    print(p) "
   ]
  },
  {
   "cell_type": "code",
   "execution_count": null,
   "metadata": {},
   "outputs": [],
   "source": []
  }
 ],
 "metadata": {
  "kernelspec": {
   "display_name": "Python 3",
   "language": "python",
   "name": "python3"
  },
  "language_info": {
   "codemirror_mode": {
    "name": "ipython",
    "version": 3
   },
   "file_extension": ".py",
   "mimetype": "text/x-python",
   "name": "python",
   "nbconvert_exporter": "python",
   "pygments_lexer": "ipython3",
   "version": "3.6.4"
  }
 },
 "nbformat": 4,
 "nbformat_minor": 2
}
