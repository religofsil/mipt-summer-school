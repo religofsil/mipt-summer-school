{
 "cells": [
  {
   "cell_type": "markdown",
   "metadata": {},
   "source": [
    "https://regex101.com/r/aGn8QC/2\n",
    "\n",
    "(2 бала) по ссылке найдите строчки, в которых есть открывающая и когда-нибудь потом закрывающая скобки (надо выделить строчку целиком, поставить флаг `multiline` чтобы матчились `^` и `$`)\n",
    "\n",
    "(2 бала) напишите регуляку находящую ip-адрес с любыми числами (кждое от 1 до 3 цифр, используйте `{1,3}`), например\n",
    "\n",
    "- 11.22.303.1 -> True\n",
    "- 1.1.1.1 -> True\n",
    "- 1..2.1 -> False\n",
    "- 1001.10.1.1 -> False\n",
    "\n",
    "(+ 2 бала) если она будет находить только корректный ip -- числа могут быть от 0 до 255\n",
    "\n",
    "- 11.22.303.1 -> False\n",
    "- 1.1.1.1 -> True\n",
    "- 255.255.255.0 -> True\n",
    "- 1..2.1 -> False\n",
    "- 1001.10.1.1 -> False\n",
    "\n",
    "(2 бала) напишите регулряку находящуюю `email`, например `example@example.com`"
   ]
  },
  {
   "cell_type": "code",
   "execution_count": null,
   "metadata": {},
   "outputs": [],
   "source": []
  }
 ],
 "metadata": {
  "kernelspec": {
   "display_name": "Python 3",
   "language": "python",
   "name": "python3"
  },
  "language_info": {
   "codemirror_mode": {
    "name": "ipython",
    "version": 3
   },
   "file_extension": ".py",
   "mimetype": "text/x-python",
   "name": "python",
   "nbconvert_exporter": "python",
   "pygments_lexer": "ipython3",
   "version": "3.6.4"
  }
 },
 "nbformat": 4,
 "nbformat_minor": 2
}
