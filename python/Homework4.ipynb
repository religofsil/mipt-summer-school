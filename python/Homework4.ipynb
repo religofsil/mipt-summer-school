{
 "cells": [
  {
   "cell_type": "markdown",
   "metadata": {},
   "source": [
    "http://pythontutor.ru/lessons/functions/problems/length_of_segment/\n",
    "\n",
    "Даны четыре действительных числа: `x1`, `y1`, `x2`, `y2`. Напишите функцию `distance(x1, y1, x2, y2)`, вычисляющая расстояние между точкой `(x1,y1)` и `(x2,y2)`. Считайте четыре действительных числа и выведите результат работы этой функции."
   ]
  },
  {
   "cell_type": "markdown",
   "metadata": {},
   "source": [
    "http://pythontutor.ru/lessons/functions/problems/capitalize/\n",
    "    \n",
    "Напишите функцию capitalize(), которая принимает слово из маленьких латинских букв и возвращает его же, меняя первую букву на большую.\n",
    "Например, print(capitalize('word')) должно печатать слово Word.\n",
    "\n",
    "На вход подаётся строка, состоящая из слов, разделённых одним пробелом. Слова состоят из маленьких латинских букв. Напечатайте исходную строку, сделав так, чтобы каждое слово начиналось с большой буквы. При этом используйте вашу функцию capitalize().\n",
    "\n",
    "**метод title использовать нельзя**\n",
    "\n",
    "напоминаю, что у строки есть метод `upper`\n",
    "\n",
    "попробуйте решить эту задачу используя `map`"
   ]
  },
  {
   "cell_type": "code",
   "execution_count": null,
   "metadata": {},
   "outputs": [],
   "source": []
  },
  {
   "cell_type": "markdown",
   "metadata": {},
   "source": [
    "1. Напишите свою реализацию `map` -- `list_map(func, arr)`\n",
    "\n",
    "    она принимает на вход функцию и список и возвращает новый список с примененной функцией\n",
    "\n",
    "    **сам map использовать нельзя**\n",
    "\n",
    "    отличие от `map` будет состоять в том что вычисления не ленивые (как сделать функцию ленивой мы изучим позже)\n",
    "\n",
    "2. Аналогично для `list_filter`"
   ]
  },
  {
   "cell_type": "code",
   "execution_count": null,
   "metadata": {},
   "outputs": [],
   "source": []
  },
  {
   "cell_type": "markdown",
   "metadata": {},
   "source": [
    "(**) очень сложная задача\n",
    "\n",
    "напишите свою реализацию `list_reduce(f, arr)`\n",
    "\n",
    "reduce (по-русски свертка) работает так:\n",
    "\n",
    "`f(...f(f(f(arr[0], arr[1]), arr[2]), arr[3])...arr[-1])`\n",
    "\n",
    "и возвращет одно значение (не список)\n",
    "\n",
    "например, если `f` это сложение двух элементов, то на выходе получаем сумму списка `arr`\n",
    "\n",
    "ниже приведен пример того, как работает встроенный `reduce`\n",
    "\n",
    "эту функцию можно реализовать как рекурсивно, так и при помощи цикла"
   ]
  },
  {
   "cell_type": "code",
   "execution_count": 17,
   "metadata": {},
   "outputs": [
    {
     "name": "stdout",
     "output_type": "stream",
     "text": [
      "15\n",
      "120\n",
      "aa bb cc dd\n"
     ]
    }
   ],
   "source": [
    "from functools import reduce\n",
    "\n",
    "print(reduce(lambda x, y: x + y, [1, 2, 3, 4, 5]))  # делает то же самое что и sum\n",
    "print(reduce(lambda x, y: x * y, [1, 2, 3, 4, 5]))  # произведение всех чисел\n",
    "print(reduce(lambda x, y: x + ' ' + y, ['aa', 'bb', 'cc', 'dd']))  # конкатенация строк через пробел"
   ]
  },
  {
   "cell_type": "code",
   "execution_count": null,
   "metadata": {},
   "outputs": [],
   "source": []
  }
 ],
 "metadata": {
  "kernelspec": {
   "display_name": "Python 3",
   "language": "python",
   "name": "python3"
  },
  "language_info": {
   "codemirror_mode": {
    "name": "ipython",
    "version": 3
   },
   "file_extension": ".py",
   "mimetype": "text/x-python",
   "name": "python",
   "nbconvert_exporter": "python",
   "pygments_lexer": "ipython3",
   "version": "3.6.4"
  }
 },
 "nbformat": 4,
 "nbformat_minor": 2
}
